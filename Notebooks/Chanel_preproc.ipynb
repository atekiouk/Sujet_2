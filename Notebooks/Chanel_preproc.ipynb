{
 "cells": [
  {
   "cell_type": "markdown",
   "id": "5a00d48c",
   "metadata": {},
   "source": [
    "### Corpus sur les hashtag Chanel, SpringSummer"
   ]
  },
  {
   "cell_type": "code",
   "execution_count": 16,
   "id": "a7915e45",
   "metadata": {},
   "outputs": [
    {
     "name": "stderr",
     "output_type": "stream",
     "text": [
      "C:\\Users\\a.tekiouk\\AppData\\Local\\Temp\\ipykernel_39848\\3904026442.py:2: FutureWarning: The error_bad_lines argument has been deprecated and will be removed in a future version. Use on_bad_lines in the future.\n",
      "\n",
      "\n",
      "  chanel_5k = pd.read_csv(\"C:/Users/a.tekiouk/Sujet_2/Sujet_2/DATA/chanel_5k.csv\",sep=\";\", error_bad_lines=False)\n"
     ]
    },
    {
     "data": {
      "text/plain": [
       "2285"
      ]
     },
     "execution_count": 16,
     "metadata": {},
     "output_type": "execute_result"
    }
   ],
   "source": [
    "import pandas as pd\n",
    "chanel_5k = pd.read_csv(\"C:/Users/a.tekiouk/Sujet_2/Sujet_2/DATA/chanel_5k.csv\",sep=\";\", error_bad_lines=False)\n",
    "chanel = chanel_5k[chanel_5k['language'] == 'en']['text'].tolist()\n",
    "publication_time_chanel = chanel_5k[chanel_5k['language'] == 'en']['publication_time'].tolist()\n",
    "len(chanel)"
   ]
  },
  {
   "cell_type": "code",
   "execution_count": null,
   "id": "41a36194",
   "metadata": {},
   "outputs": [],
   "source": []
  },
  {
   "cell_type": "code",
   "execution_count": 2,
   "id": "5c3709ab",
   "metadata": {},
   "outputs": [
    {
     "name": "stderr",
     "output_type": "stream",
     "text": [
      "C:\\Users\\a.tekiouk\\AppData\\Local\\Temp\\ipykernel_39848\\4011020790.py:1: FutureWarning: The error_bad_lines argument has been deprecated and will be removed in a future version. Use on_bad_lines in the future.\n",
      "\n",
      "\n",
      "  SS_5k = pd.read_csv(\"C:/Users/a.tekiouk/Sujet_2/Sujet_2/DATA/SpringSummer_5k.csv\",sep=\";\", error_bad_lines=False)\n"
     ]
    }
   ],
   "source": [
    "SS_5k = pd.read_csv(\"C:/Users/a.tekiouk/Sujet_2/Sujet_2/DATA/SpringSummer_5k.csv\",sep=\";\", error_bad_lines=False)\n",
    "SS = SS_5k[SS_5k['language'] == 'en']['text'].tolist()"
   ]
  },
  {
   "cell_type": "code",
   "execution_count": 3,
   "id": "39e907a0",
   "metadata": {},
   "outputs": [
    {
     "data": {
      "text/plain": [
       "<spacymoji.Emoji at 0x18d8cd0b610>"
      ]
     },
     "execution_count": 3,
     "metadata": {},
     "output_type": "execute_result"
    }
   ],
   "source": [
    "import numpy as np\n",
    "import spacy\n",
    "\n",
    "nlp = spacy.load(\"en_core_web_sm\")\n",
    "\n",
    "from spacymoji import Emoji\n",
    "\n",
    "\n",
    "nlp.add_pipe(\"emoji\", first=True)"
   ]
  },
  {
   "cell_type": "code",
   "execution_count": 4,
   "id": "dd485ca9",
   "metadata": {},
   "outputs": [],
   "source": [
    "import spacy \n",
    "from spacy.vocab import Vocab\n",
    "from spacy.language import Language\n",
    "from spacy.tokens import Token\n",
    "\n",
    "\n",
    "@Language.component(\"hashtag\")\n",
    "def hashtag_pipe(doc):\n",
    "    merged_hashtag = False\n",
    "    while True:\n",
    "        for token in doc:\n",
    "            if token.text == '#':\n",
    "                if token.head is not None:\n",
    "                    start_index = token.i\n",
    "                    end_index = start_index + 1\n",
    "                    with doc.retokenize() as retokenizer:\n",
    "                        retokenizer.merge(doc[start_index:end_index+1])\n",
    "                        merged_hashtag = True\n",
    "                        break\n",
    "        if not merged_hashtag:\n",
    "            break\n",
    "        merged_hashtag = False\n",
    "    return doc\n"
   ]
  },
  {
   "cell_type": "code",
   "execution_count": 5,
   "id": "c8892b08",
   "metadata": {},
   "outputs": [],
   "source": [
    "nlp.add_pipe(\"hashtag\", first=True)\n",
    "hashtag_getter = lambda token: token.text[0] in (\"#\")\n",
    "Token.set_extension(\"is_hashtag\", getter=hashtag_getter, force=True)"
   ]
  },
  {
   "cell_type": "code",
   "execution_count": 6,
   "id": "646802c7",
   "metadata": {},
   "outputs": [],
   "source": [
    "def top_hashtags(text, N, top):\n",
    "    hashtag = []\n",
    "    index_vector = np.random.randint(len(text), size=N)\n",
    "    for i in index_vector:\n",
    "        doc = nlp(text[i])\n",
    "        for token in doc:\n",
    "            if token._.is_hashtag:\n",
    "                hashtag.append(token.text)\n",
    "    Hashtag_corpus = pd.DataFrame()\n",
    "    Hashtag_corpus['hashtag'] = hashtag\n",
    "    Hashtag_corpus2 = Hashtag_corpus.groupby(\"hashtag\").size()\n",
    "    print(Hashtag_corpus2.nlargest(top).tail(top))"
   ]
  },
  {
   "cell_type": "markdown",
   "id": "dbb7b6ad",
   "metadata": {},
   "source": [
    "Top 20 des # dans les corpus"
   ]
  },
  {
   "cell_type": "markdown",
   "id": "68125350",
   "metadata": {},
   "source": [
    "Extraction du top 20 des # dans une selection aléatoire de N post du corpus"
   ]
  },
  {
   "cell_type": "code",
   "execution_count": 11,
   "id": "eedcdd54",
   "metadata": {},
   "outputs": [
    {
     "name": "stdout",
     "output_type": "stream",
     "text": [
      "hashtag\n",
      "#chanel              25\n",
      "#fashion             10\n",
      "#gucci                9\n",
      "#instagood            9\n",
      "#luxury               7\n",
      "#style                6\n",
      "#bag                  5\n",
      "#luxurylifestyle      5\n",
      "#shoes                5\n",
      "#chanellover          4\n",
      "#dior                 4\n",
      "#lv                   4\n",
      "#ootd                 4\n",
      "#pink                 4\n",
      "#Balenciaga           3\n",
      "#Belt                 3\n",
      "#Chanel               3\n",
      "#Men'sshoes           3\n",
      "#YvesSaintLaurent     3\n",
      "#aesthetic            3\n",
      "dtype: int64\n"
     ]
    }
   ],
   "source": [
    "top_hashtags(chanel, 100, 20)"
   ]
  },
  {
   "cell_type": "code",
   "execution_count": 17,
   "id": "0a857e17",
   "metadata": {
    "collapsed": true
   },
   "outputs": [
    {
     "name": "stdout",
     "output_type": "stream",
     "text": [
      "hashtag\n",
      "#springsummer              12\n",
      "#SpringSummer               8\n",
      "#Firstcry                   6\n",
      "#FirstcryIndia              6\n",
      "#Firstcryfashion            6\n",
      "#Firstcryshopping           6\n",
      "#FussNowAtFirstcry          6\n",
      "#kidsfashion                6\n",
      "#kidswear                   6\n",
      "#shopatFirstcry             6\n",
      "#FirstcrySpringSummer23     5\n",
      "#incollaboration            5\n",
      "#newcollection              4\n",
      "#springfashion              4\n",
      "#springlaunch               4\n",
      "#fashion                    3\n",
      "#springiscoming             3\n",
      "#springsummercollection     3\n",
      "#2023                       2\n",
      "#eveningdress               2\n",
      "dtype: int64\n"
     ]
    }
   ],
   "source": [
    "top_hashtags(SS, 25, 20)"
   ]
  },
  {
   "cell_type": "code",
   "execution_count": 7,
   "id": "2de82ac4",
   "metadata": {},
   "outputs": [],
   "source": [
    "def top_emojis(text, N, top):\n",
    "    emoji = []\n",
    "    index_vector = np.random.randint(len(text), size=N)\n",
    "    for i in index_vector:\n",
    "        doc = nlp(text[i])\n",
    "        for token in doc:\n",
    "            if token._.is_emoji:\n",
    "                emoji.append(token.text)\n",
    "    Emoji_corpus = pd.DataFrame()\n",
    "    Emoji_corpus['emoji'] = emoji\n",
    "    Emoji_corpus2 = Emoji_corpus.groupby(\"emoji\").size()\n",
    "    print(Emoji_corpus2.nlargest(top).tail(top))"
   ]
  },
  {
   "cell_type": "markdown",
   "id": "5616d372",
   "metadata": {},
   "source": [
    "Top 20 des emoji dans les corpus, même procédé que précedemment"
   ]
  },
  {
   "cell_type": "code",
   "execution_count": 37,
   "id": "880a56bc",
   "metadata": {
    "collapsed": true
   },
   "outputs": [
    {
     "name": "stdout",
     "output_type": "stream",
     "text": [
      "emoji\n",
      "✈       3\n",
      "🎁       3\n",
      "📞       3\n",
      "👓       2\n",
      "👜       2\n",
      "👞       2\n",
      "👠       2\n",
      "👶🏻      2\n",
      "☀️      1\n",
      "🇮🇹      1\n",
      "💋       1\n",
      "💖       1\n",
      "💙       1\n",
      "💚       1\n",
      "💭       1\n",
      "📷       1\n",
      "😆       1\n",
      "😍       1\n",
      "😝       1\n",
      "🙋🏼‍♀    1\n",
      "dtype: int64\n"
     ]
    }
   ],
   "source": [
    "top_emojis(chanel, 20, 20)"
   ]
  },
  {
   "cell_type": "markdown",
   "id": "9b9e4dbf",
   "metadata": {},
   "source": [
    "Création d'un corpous de 300 post permettant de caractériser un junk post"
   ]
  },
  {
   "cell_type": "code",
   "execution_count": 33,
   "id": "5ebf3fa2",
   "metadata": {},
   "outputs": [],
   "source": [
    "import re\n",
    "\n",
    "def clean_hashtag(t): #--text\n",
    "    hashtag_pattern= re.compile(\"#[A-Za-z0-9_]+\")\n",
    "    return re.sub(hashtag_pattern,\"\", t) #On supprime tout les types de #\n",
    "\n",
    "\n",
    "def del_double(txt,publication_time,s,method): # --text --liste des date et heure de publication pour chaque élément de la liste --seuil (s dans [0;1] ou [0;100] selon la méthode) --méthode\n",
    "    t = txt.copy()\n",
    "    distance = method #initialisiation de levenshtein avec la distance normalisée.\n",
    "    i = 0\n",
    "    r = len(t)\n",
    "    while(i<r):\n",
    "        r = len(t)\n",
    "        j=i+1\n",
    "        while(j<r):\n",
    "            if(distance(clean_hashtag(t[i]).strip(),clean_hashtag(t[j]).strip()) <= s ): # Si la distance entre les deux élemens de la liste inf à seuil\n",
    "                if(publication_time[i]<publication_time[j]):\n",
    "                    del t[j] #delete\n",
    "                    r = len(t) #on actualise la taille de la listes\n",
    "                else:\n",
    "                    del t[i]\n",
    "                    r = len(t) #on actualise la taille de la listes\n",
    "            else:\n",
    "                j+=1\n",
    "        i+=1\n",
    "    return t"
   ]
  },
  {
   "cell_type": "code",
   "execution_count": 34,
   "id": "27032225",
   "metadata": {},
   "outputs": [],
   "source": [
    "import textdistance\n",
    "dist = textdistance.levenshtein.normalized_distance"
   ]
  },
  {
   "cell_type": "code",
   "execution_count": 35,
   "id": "ea6a11ec",
   "metadata": {},
   "outputs": [],
   "source": [
    "import random\n",
    "chanel_junk_valid = random.choices(chanel, k=300)"
   ]
  },
  {
   "cell_type": "code",
   "execution_count": 38,
   "id": "3518143d",
   "metadata": {},
   "outputs": [],
   "source": [
    "chanel_junk_valid_dd = del_double(chanel_junk_valid,publication_time_chanel,0.5,dist)"
   ]
  },
  {
   "cell_type": "code",
   "execution_count": 39,
   "id": "880be1b5",
   "metadata": {},
   "outputs": [
    {
     "data": {
      "text/plain": [
       "122"
      ]
     },
     "execution_count": 39,
     "metadata": {},
     "output_type": "execute_result"
    }
   ],
   "source": [
    "len(chanel_junk_valid_dd)"
   ]
  },
  {
   "cell_type": "code",
   "execution_count": 40,
   "id": "831da4cd",
   "metadata": {},
   "outputs": [],
   "source": [
    "chanel_junk_valid_df= pd.DataFrame()\n",
    "chanel_junk_valid_df['text'] = chanel_junk_valid_dd"
   ]
  },
  {
   "cell_type": "code",
   "execution_count": 41,
   "id": "c9b3f721",
   "metadata": {},
   "outputs": [],
   "source": [
    "chanel_junk_valid_df.to_csv(\"C:/Users/a.tekiouk/Sujet_2/Sujet_2/DATA/chanel_junk_valid.csv\")\n",
    "# Ajout de la variable is_junksur excel"
   ]
  },
  {
   "cell_type": "code",
   "execution_count": 45,
   "id": "f3bb9eb2",
   "metadata": {},
   "outputs": [],
   "source": [
    "chanel_junk_valid_new = pd.read_excel(\"C:/Users/a.tekiouk/Sujet_2/Sujet_2/DATA/chanel_junk_valid_new.xlsx\", index_col=0)"
   ]
  },
  {
   "cell_type": "code",
   "execution_count": 52,
   "id": "6327762e",
   "metadata": {},
   "outputs": [],
   "source": [
    "def word_ratio(df):\n",
    "    ratio = []\n",
    "    for i in df['text']:\n",
    "        doc = nlp(i)\n",
    "        nb_word = 0\n",
    "        nb_hash = 0\n",
    "        for token in doc:\n",
    "            if(token._.is_hashtag):\n",
    "                nb_hash+=1\n",
    "            else:\n",
    "                nb_word+=1\n",
    "        ratio.append(nb_word/(nb_hash+nb_word))\n",
    "    df['ratio_word'] = ratio\n",
    "    return df"
   ]
  },
  {
   "cell_type": "code",
   "execution_count": 53,
   "id": "dec69759",
   "metadata": {},
   "outputs": [
    {
     "data": {
      "text/html": [
       "<div>\n",
       "<style scoped>\n",
       "    .dataframe tbody tr th:only-of-type {\n",
       "        vertical-align: middle;\n",
       "    }\n",
       "\n",
       "    .dataframe tbody tr th {\n",
       "        vertical-align: top;\n",
       "    }\n",
       "\n",
       "    .dataframe thead th {\n",
       "        text-align: right;\n",
       "    }\n",
       "</style>\n",
       "<table border=\"1\" class=\"dataframe\">\n",
       "  <thead>\n",
       "    <tr style=\"text-align: right;\">\n",
       "      <th></th>\n",
       "      <th>text</th>\n",
       "      <th>is_junk</th>\n",
       "      <th>ratio_word</th>\n",
       "    </tr>\n",
       "  </thead>\n",
       "  <tbody>\n",
       "    <tr>\n",
       "      <th>0</th>\n",
       "      <td>Smiley piercings😍😍\\n\\n(My post)\\n\\n(Follow coc...</td>\n",
       "      <td>1</td>\n",
       "      <td>0.375000</td>\n",
       "    </tr>\n",
       "    <tr>\n",
       "      <th>1</th>\n",
       "      <td>If you are interested in my products, please a...</td>\n",
       "      <td>1</td>\n",
       "      <td>1.000000</td>\n",
       "    </tr>\n",
       "    <tr>\n",
       "      <th>2</th>\n",
       "      <td>#ZZ20230321074 #Chanel #白色图案刺绣圆领T恤 #SML #suit ...</td>\n",
       "      <td>1</td>\n",
       "      <td>0.000000</td>\n",
       "    </tr>\n",
       "    <tr>\n",
       "      <th>3</th>\n",
       "      <td>We have been engaged in the wholesale and reta...</td>\n",
       "      <td>1</td>\n",
       "      <td>1.000000</td>\n",
       "    </tr>\n",
       "    <tr>\n",
       "      <th>4</th>\n",
       "      <td>NMACC opens in Mumbai this week, Beyoncé meets...</td>\n",
       "      <td>1</td>\n",
       "      <td>0.794118</td>\n",
       "    </tr>\n",
       "    <tr>\n",
       "      <th>...</th>\n",
       "      <td>...</td>\n",
       "      <td>...</td>\n",
       "      <td>...</td>\n",
       "    </tr>\n",
       "    <tr>\n",
       "      <th>117</th>\n",
       "      <td>Hello dear, we are a professional product whol...</td>\n",
       "      <td>1</td>\n",
       "      <td>1.000000</td>\n",
       "    </tr>\n",
       "    <tr>\n",
       "      <th>118</th>\n",
       "      <td>We are mainly engaged in various brands of sho...</td>\n",
       "      <td>1</td>\n",
       "      <td>1.000000</td>\n",
       "    </tr>\n",
       "    <tr>\n",
       "      <th>119</th>\n",
       "      <td>tontawan so expensive rich girl 😍❤‍🔥\\n\\nFollow...</td>\n",
       "      <td>1</td>\n",
       "      <td>0.800000</td>\n",
       "    </tr>\n",
       "    <tr>\n",
       "      <th>120</th>\n",
       "      <td>#香奈儿#爱马仕#lv #迪奥#古驰#birkin #gucci #hongkong #he...</td>\n",
       "      <td>1</td>\n",
       "      <td>0.000000</td>\n",
       "    </tr>\n",
       "    <tr>\n",
       "      <th>121</th>\n",
       "      <td>I am a brand wholesaler, DHL and Federal world...</td>\n",
       "      <td>1</td>\n",
       "      <td>1.000000</td>\n",
       "    </tr>\n",
       "  </tbody>\n",
       "</table>\n",
       "<p>122 rows × 3 columns</p>\n",
       "</div>"
      ],
      "text/plain": [
       "                                                  text  is_junk  ratio_word\n",
       "0    Smiley piercings😍😍\\n\\n(My post)\\n\\n(Follow coc...        1    0.375000\n",
       "1    If you are interested in my products, please a...        1    1.000000\n",
       "2    #ZZ20230321074 #Chanel #白色图案刺绣圆领T恤 #SML #suit ...        1    0.000000\n",
       "3    We have been engaged in the wholesale and reta...        1    1.000000\n",
       "4    NMACC opens in Mumbai this week, Beyoncé meets...        1    0.794118\n",
       "..                                                 ...      ...         ...\n",
       "117  Hello dear, we are a professional product whol...        1    1.000000\n",
       "118  We are mainly engaged in various brands of sho...        1    1.000000\n",
       "119  tontawan so expensive rich girl 😍❤‍🔥\\n\\nFollow...        1    0.800000\n",
       "120  #香奈儿#爱马仕#lv #迪奥#古驰#birkin #gucci #hongkong #he...        1    0.000000\n",
       "121  I am a brand wholesaler, DHL and Federal world...        1    1.000000\n",
       "\n",
       "[122 rows x 3 columns]"
      ]
     },
     "execution_count": 53,
     "metadata": {},
     "output_type": "execute_result"
    }
   ],
   "source": [
    "word_ratio(chanel_junk_valid_new)"
   ]
  },
  {
   "cell_type": "code",
   "execution_count": 57,
   "id": "cad8c364",
   "metadata": {},
   "outputs": [
    {
     "data": {
      "text/plain": [
       "<seaborn.axisgrid.FacetGrid at 0x18dad3b8690>"
      ]
     },
     "execution_count": 57,
     "metadata": {},
     "output_type": "execute_result"
    },
    {
     "data": {
      "image/png": "[encoded data removed]",
      "text/plain": [
       "<Figure size 558.875x500 with 1 Axes>"
      ]
     },
     "metadata": {},
     "output_type": "display_data"
    }
   ],
   "source": [
    "import seaborn as sns\n",
    "sns.displot(chanel_junk_valid_new,\n",
    "            x=\"ratio_word\",\n",
    "            hue=\"is_junk\")"
   ]
  },
  {
   "cell_type": "code",
   "execution_count": 77,
   "id": "5fb03587",
   "metadata": {},
   "outputs": [
    {
     "name": "stdout",
     "output_type": "stream",
     "text": [
      "hashtag\n",
      "#chanel       50\n",
      "#fashion      18\n",
      "#Chanel       15\n",
      "#style        14\n",
      "#ootd         13\n",
      "#dior         11\n",
      "#gucci        10\n",
      "#instagood    10\n",
      "#model         9\n",
      "#beauty        8\n",
      "dtype: int64\n"
     ]
    }
   ],
   "source": [
    "# Top des hashtags des junk post\n",
    "top_hashtags(chanel_junk_valid_new[chanel_junk_valid_new['is_junk'] == 1]['text'].values.tolist(),106, 10)"
   ]
  },
  {
   "cell_type": "code",
   "execution_count": 79,
   "id": "ed45ea82",
   "metadata": {},
   "outputs": [
    {
     "name": "stdout",
     "output_type": "stream",
     "text": [
      "hashtag\n",
      "#chanel                   12\n",
      "#chanellover               5\n",
      "#chanellove                4\n",
      "#louisvuitton              4\n",
      "#ysl                       4\n",
      "#beautyobsessed            3\n",
      "#chanelclassic             3\n",
      "#dior                      3\n",
      "#fashion                   3\n",
      "#fendi                     3\n",
      "#ootd                      3\n",
      "#saintlaurent              3\n",
      "#style                     3\n",
      "#versace                   3\n",
      "#artbeauty                 2\n",
      "#bagaddict                 2\n",
      "#baglover                  2\n",
      "#beauties                  2\n",
      "#beautifuldestinations     2\n",
      "#beautyritual              2\n",
      "dtype: int64\n"
     ]
    }
   ],
   "source": [
    "# Top des hashtags des non junk post\n",
    "top_hashtags(chanel_junk_valid_new[chanel_junk_valid_new['is_junk'] == 0]['text'].values.tolist(),16,20)"
   ]
  },
  {
   "cell_type": "code",
   "execution_count": 80,
   "id": "36fdfd24",
   "metadata": {},
   "outputs": [
    {
     "name": "stdout",
     "output_type": "stream",
     "text": [
      "emoji\n",
      "👉     17\n",
      "✅     10\n",
      "😍     10\n",
      "✔      9\n",
      "✨      8\n",
      "✈      6\n",
      "🇺🇸     6\n",
      "🎁      6\n",
      "📞      6\n",
      "🔘      6\n",
      "dtype: int64\n"
     ]
    }
   ],
   "source": [
    "# Top des hashtags des junk post\n",
    "top_emojis(chanel_junk_valid_new[chanel_junk_valid_new['is_junk'] == 1]['text'].values.tolist(),106, 10)"
   ]
  },
  {
   "cell_type": "code",
   "execution_count": 81,
   "id": "e989d900",
   "metadata": {},
   "outputs": [
    {
     "name": "stdout",
     "output_type": "stream",
     "text": [
      "emoji\n",
      "💕     6\n",
      "🥰     5\n",
      "✨     2\n",
      "☀️    1\n",
      "🌷     1\n",
      "🌸     1\n",
      "🍨     1\n",
      "🎀     1\n",
      "🐣     1\n",
      "💎     1\n",
      "💙     1\n",
      "📸     1\n",
      "🥊     1\n",
      "🧼     1\n",
      "dtype: int64\n"
     ]
    }
   ],
   "source": [
    "# Top des hashtags des non junk post\n",
    "top_emojis(chanel_junk_valid_new[chanel_junk_valid_new['is_junk'] == 0]['text'].values.tolist(),16,20)"
   ]
  }
 ],
 "metadata": {
  "kernelspec": {
   "display_name": "Python 3 (ipykernel)",
   "language": "python",
   "name": "python3"
  },
  "language_info": {
   "codemirror_mode": {
    "name": "ipython",
    "version": 3
   },
   "file_extension": ".py",
   "mimetype": "text/x-python",
   "name": "python",
   "nbconvert_exporter": "python",
   "pygments_lexer": "ipython3",
   "version": "3.11.2"
  }
 },
 "nbformat": 4,
 "nbformat_minor": 5
}
