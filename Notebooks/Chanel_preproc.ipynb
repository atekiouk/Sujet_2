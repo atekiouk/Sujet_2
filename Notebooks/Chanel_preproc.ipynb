{
 "cells": [
  {
   "cell_type": "markdown",
   "id": "5a00d48c",
   "metadata": {},
   "source": [
    "### Corpus sur les hashtag Chanel, SpringSummer"
   ]
  },
  {
   "cell_type": "code",
   "execution_count": 1,
   "id": "a7915e45",
   "metadata": {},
   "outputs": [
    {
     "name": "stderr",
     "output_type": "stream",
     "text": [
      "C:\\Users\\a.tekiouk\\AppData\\Local\\Temp\\ipykernel_23932\\3904026442.py:2: FutureWarning: The error_bad_lines argument has been deprecated and will be removed in a future version. Use on_bad_lines in the future.\n",
      "\n",
      "\n",
      "  chanel_5k = pd.read_csv(\"C:/Users/a.tekiouk/Sujet_2/Sujet_2/DATA/chanel_5k.csv\",sep=\";\", error_bad_lines=False)\n"
     ]
    },
    {
     "data": {
      "text/plain": [
       "2285"
      ]
     },
     "execution_count": 1,
     "metadata": {},
     "output_type": "execute_result"
    }
   ],
   "source": [
    "import pandas as pd\n",
    "chanel_5k = pd.read_csv(\"C:/Users/a.tekiouk/Sujet_2/Sujet_2/DATA/chanel_5k.csv\",sep=\";\", error_bad_lines=False)\n",
    "chanel = chanel_5k[chanel_5k['language'] == 'en']['text'].tolist()\n",
    "publication_time_chanel = chanel_5k[chanel_5k['language'] == 'en']['publication_time'].tolist()\n",
    "len(chanel)"
   ]
  },
  {
   "cell_type": "code",
   "execution_count": 2,
   "id": "39e907a0",
   "metadata": {},
   "outputs": [
    {
     "data": {
      "text/plain": [
       "<spacymoji.Emoji at 0x19a4f856d50>"
      ]
     },
     "execution_count": 2,
     "metadata": {},
     "output_type": "execute_result"
    }
   ],
   "source": [
    "import numpy as np\n",
    "import spacy\n",
    "\n",
    "nlp = spacy.load(\"en_core_web_sm\")\n",
    "\n",
    "from spacymoji import Emoji\n",
    "\n",
    "\n",
    "nlp.add_pipe(\"emoji\", first=True)"
   ]
  },
  {
   "cell_type": "code",
   "execution_count": 3,
   "id": "dd485ca9",
   "metadata": {},
   "outputs": [],
   "source": [
    "import spacy \n",
    "from spacy.vocab import Vocab\n",
    "from spacy.language import Language\n",
    "from spacy.tokens import Token\n",
    "\n",
    "\n",
    "@Language.component(\"hashtag\")\n",
    "def hashtag_pipe(doc):\n",
    "    merged_hashtag = False\n",
    "    while True:\n",
    "        for token in doc:\n",
    "            if token.text == '#':\n",
    "                if token.head is not None:\n",
    "                    start_index = token.i\n",
    "                    end_index = start_index + 1\n",
    "                    with doc.retokenize() as retokenizer:\n",
    "                        retokenizer.merge(doc[start_index:end_index+1])\n",
    "                        merged_hashtag = True\n",
    "                        break\n",
    "        if not merged_hashtag:\n",
    "            break\n",
    "        merged_hashtag = False\n",
    "    return doc\n"
   ]
  },
  {
   "cell_type": "code",
   "execution_count": 4,
   "id": "c8892b08",
   "metadata": {},
   "outputs": [],
   "source": [
    "nlp.add_pipe(\"hashtag\", first=True)\n",
    "hashtag_getter = lambda token: token.text[0] in (\"#\")\n",
    "Token.set_extension(\"is_hashtag\", getter=hashtag_getter, force=True)"
   ]
  },
  {
   "cell_type": "code",
   "execution_count": 5,
   "id": "646802c7",
   "metadata": {},
   "outputs": [],
   "source": [
    "def top_hashtags(text, N, top):\n",
    "    hashtag = []\n",
    "    index_vector = np.random.randint(len(text), size=N)\n",
    "    for i in index_vector:\n",
    "        doc = nlp(text[i])\n",
    "        for token in doc:\n",
    "            if token._.is_hashtag:\n",
    "                hashtag.append(token.text)\n",
    "    Hashtag_corpus = pd.DataFrame()\n",
    "    Hashtag_corpus['hashtag'] = hashtag\n",
    "    Hashtag_corpus2 = Hashtag_corpus.groupby(\"hashtag\").size()\n",
    "    print(Hashtag_corpus2.nlargest(top).tail(top))"
   ]
  },
  {
   "cell_type": "markdown",
   "id": "dbb7b6ad",
   "metadata": {},
   "source": [
    "Top 20 des # dans les corpus"
   ]
  },
  {
   "cell_type": "markdown",
   "id": "68125350",
   "metadata": {},
   "source": [
    "Extraction du top 20 des # dans une selection aléatoire de N post du corpus"
   ]
  },
  {
   "cell_type": "code",
   "execution_count": 11,
   "id": "eedcdd54",
   "metadata": {},
   "outputs": [
    {
     "name": "stdout",
     "output_type": "stream",
     "text": [
      "hashtag\n",
      "#chanel              25\n",
      "#fashion             10\n",
      "#gucci                9\n",
      "#instagood            9\n",
      "#luxury               7\n",
      "#style                6\n",
      "#bag                  5\n",
      "#luxurylifestyle      5\n",
      "#shoes                5\n",
      "#chanellover          4\n",
      "#dior                 4\n",
      "#lv                   4\n",
      "#ootd                 4\n",
      "#pink                 4\n",
      "#Balenciaga           3\n",
      "#Belt                 3\n",
      "#Chanel               3\n",
      "#Men'sshoes           3\n",
      "#YvesSaintLaurent     3\n",
      "#aesthetic            3\n",
      "dtype: int64\n"
     ]
    }
   ],
   "source": [
    "top_hashtags(chanel, 100, 20)"
   ]
  },
  {
   "cell_type": "code",
   "execution_count": 17,
   "id": "0a857e17",
   "metadata": {
    "collapsed": true
   },
   "outputs": [
    {
     "name": "stdout",
     "output_type": "stream",
     "text": [
      "hashtag\n",
      "#springsummer              12\n",
      "#SpringSummer               8\n",
      "#Firstcry                   6\n",
      "#FirstcryIndia              6\n",
      "#Firstcryfashion            6\n",
      "#Firstcryshopping           6\n",
      "#FussNowAtFirstcry          6\n",
      "#kidsfashion                6\n",
      "#kidswear                   6\n",
      "#shopatFirstcry             6\n",
      "#FirstcrySpringSummer23     5\n",
      "#incollaboration            5\n",
      "#newcollection              4\n",
      "#springfashion              4\n",
      "#springlaunch               4\n",
      "#fashion                    3\n",
      "#springiscoming             3\n",
      "#springsummercollection     3\n",
      "#2023                       2\n",
      "#eveningdress               2\n",
      "dtype: int64\n"
     ]
    }
   ],
   "source": [
    "top_hashtags(SS, 25, 20)"
   ]
  },
  {
   "cell_type": "code",
   "execution_count": 3,
   "id": "2de82ac4",
   "metadata": {},
   "outputs": [],
   "source": [
    "def top_emojis(text, N, top):\n",
    "    emoji = []\n",
    "    index_vector = np.random.randint(len(text), size=N)\n",
    "    for i in index_vector:\n",
    "        doc = nlp(text[i])\n",
    "        for token in doc:\n",
    "            if token._.is_emoji:\n",
    "                emoji.append(token.text)\n",
    "    Emoji_corpus = pd.DataFrame()\n",
    "    Emoji_corpus['emoji'] = emoji\n",
    "    Emoji_corpus2 = Emoji_corpus.groupby(\"emoji\").size()\n",
    "    print(Emoji_corpus2.nlargest(top).tail(top))"
   ]
  },
  {
   "cell_type": "markdown",
   "id": "5616d372",
   "metadata": {},
   "source": [
    "Top 20 des emoji dans les corpus, même procédé que précedemment"
   ]
  },
  {
   "cell_type": "code",
   "execution_count": 37,
   "id": "880a56bc",
   "metadata": {
    "collapsed": true
   },
   "outputs": [
    {
     "name": "stdout",
     "output_type": "stream",
     "text": [
      "emoji\n",
      "✈       3\n",
      "🎁       3\n",
      "📞       3\n",
      "👓       2\n",
      "👜       2\n",
      "👞       2\n",
      "👠       2\n",
      "👶🏻      2\n",
      "☀️      1\n",
      "🇮🇹      1\n",
      "💋       1\n",
      "💖       1\n",
      "💙       1\n",
      "💚       1\n",
      "💭       1\n",
      "📷       1\n",
      "😆       1\n",
      "😍       1\n",
      "😝       1\n",
      "🙋🏼‍♀    1\n",
      "dtype: int64\n"
     ]
    }
   ],
   "source": [
    "top_emojis(chanel, 20, 20)"
   ]
  },
  {
   "cell_type": "markdown",
   "id": "9b9e4dbf",
   "metadata": {},
   "source": [
    "Création d'un corpous de 300 post permettant de caractériser un junk post"
   ]
  },
  {
   "cell_type": "code",
   "execution_count": 1,
   "id": "5ebf3fa2",
   "metadata": {},
   "outputs": [],
   "source": [
    "import re\n",
    "\n",
    "def clean_hashtag(t): #--text\n",
    "    hashtag_pattern= re.compile(\"#[A-Za-z0-9_]+\")\n",
    "    return re.sub(hashtag_pattern,\"\", t) #On supprime tout les types de #\n",
    "\n",
    "\n",
    "def del_double(txt,publication_time,s,method): # --text --liste des date et heure de publication pour chaque élément de la liste --seuil (s dans [0;1] ou [0;100] selon la méthode) --méthode\n",
    "    t = txt.copy()\n",
    "    distance = method #initialisiation de levenshtein avec la distance normalisée.\n",
    "    i = 0\n",
    "    r = len(t)\n",
    "    while(i<r):\n",
    "        r = len(t)\n",
    "        j=i+1\n",
    "        while(j<r):\n",
    "            if(distance(clean_hashtag(t[i]).strip(),clean_hashtag(t[j]).strip()) <= s ): # Si la distance entre les deux élemens de la liste inf à seuil\n",
    "                if(publication_time[i]<publication_time[j]):\n",
    "                    del t[j] #delete\n",
    "                    r = len(t) #on actualise la taille de la listes\n",
    "                else:\n",
    "                    del t[i]\n",
    "                    r = len(t) #on actualise la taille de la listes\n",
    "            else:\n",
    "                j+=1\n",
    "        i+=1\n",
    "    return t"
   ]
  },
  {
   "cell_type": "code",
   "execution_count": 3,
   "id": "a9ee70e0",
   "metadata": {},
   "outputs": [
    {
     "data": {
      "text/plain": [
       "' xd'"
      ]
     },
     "execution_count": 3,
     "metadata": {},
     "output_type": "execute_result"
    }
   ],
   "source": [
    "clean_hashtag('#lol xd')"
   ]
  },
  {
   "cell_type": "code",
   "execution_count": 34,
   "id": "27032225",
   "metadata": {},
   "outputs": [],
   "source": [
    "import textdistance\n",
    "dist = textdistance.levenshtein.normalized_distance"
   ]
  },
  {
   "cell_type": "code",
   "execution_count": 35,
   "id": "ea6a11ec",
   "metadata": {},
   "outputs": [],
   "source": [
    "import random\n",
    "chanel_junk_valid = random.choices(chanel, k=300)"
   ]
  },
  {
   "cell_type": "code",
   "execution_count": 38,
   "id": "3518143d",
   "metadata": {},
   "outputs": [],
   "source": [
    "chanel_junk_valid_dd = del_double(chanel_junk_valid,publication_time_chanel,0.5,dist)"
   ]
  },
  {
   "cell_type": "code",
   "execution_count": 39,
   "id": "880be1b5",
   "metadata": {},
   "outputs": [
    {
     "data": {
      "text/plain": [
       "122"
      ]
     },
     "execution_count": 39,
     "metadata": {},
     "output_type": "execute_result"
    }
   ],
   "source": [
    "len(chanel_junk_valid_dd)"
   ]
  },
  {
   "cell_type": "code",
   "execution_count": 40,
   "id": "831da4cd",
   "metadata": {},
   "outputs": [],
   "source": [
    "chanel_junk_valid_df= pd.DataFrame()\n",
    "chanel_junk_valid_df['text'] = chanel_junk_valid_dd"
   ]
  },
  {
   "cell_type": "code",
   "execution_count": 41,
   "id": "c9b3f721",
   "metadata": {},
   "outputs": [],
   "source": [
    "chanel_junk_valid_df.to_csv(\"C:/Users/a.tekiouk/Sujet_2/Sujet_2/DATA/chanel_junk_valid.csv\")\n",
    "# Ajout de la variable is_junk sur excel"
   ]
  },
  {
   "cell_type": "code",
   "execution_count": 28,
   "id": "f3bb9eb2",
   "metadata": {},
   "outputs": [],
   "source": [
    "chanel_junk_valid_new = pd.read_excel(\"C:/Users/a.tekiouk/Sujet_2/Sujet_2/DATA/chanel_junk_valid_new.xlsx\", index_col=0)"
   ]
  },
  {
   "cell_type": "markdown",
   "id": "8c70a719",
   "metadata": {},
   "source": [
    "Fonction calculant le ratio de mot dans un post : "
   ]
  },
  {
   "cell_type": "code",
   "execution_count": 29,
   "id": "6327762e",
   "metadata": {},
   "outputs": [],
   "source": [
    "def word_ratio(df):\n",
    "    ratio = []\n",
    "    for i in df['text']:\n",
    "        doc = nlp(i)\n",
    "        nb_word = 0\n",
    "        nb_hash = 0\n",
    "        for token in doc:\n",
    "            if(token._.is_hashtag):\n",
    "                nb_hash+=1\n",
    "            else:\n",
    "                nb_word+=1\n",
    "        ratio.append(nb_word/(nb_hash+nb_word))\n",
    "    df['ratio_word'] = ratio\n",
    "    return df"
   ]
  },
  {
   "cell_type": "markdown",
   "id": "2866b4c0",
   "metadata": {},
   "source": [
    "Fonction calculant le ratio de mot en MAJ dans un post:"
   ]
  },
  {
   "cell_type": "code",
   "execution_count": 30,
   "id": "cda58d12",
   "metadata": {},
   "outputs": [],
   "source": [
    "def caps_ratio(df):\n",
    "    ratio = []\n",
    "    for i in df['text']:\n",
    "        doc = nlp(i)\n",
    "        nb_lower = 0\n",
    "        nb_caps = 0\n",
    "        for token in doc:\n",
    "            if(token.text.isupper()):\n",
    "                nb_caps+=1\n",
    "            else:\n",
    "                nb_lower+=1\n",
    "        ratio.append(nb_caps/(nb_caps+nb_lower))\n",
    "    df['ratio_caps'] = ratio\n",
    "    return df"
   ]
  },
  {
   "cell_type": "code",
   "execution_count": 31,
   "id": "dec69759",
   "metadata": {},
   "outputs": [
    {
     "data": {
      "text/html": [
       "<div>\n",
       "<style scoped>\n",
       "    .dataframe tbody tr th:only-of-type {\n",
       "        vertical-align: middle;\n",
       "    }\n",
       "\n",
       "    .dataframe tbody tr th {\n",
       "        vertical-align: top;\n",
       "    }\n",
       "\n",
       "    .dataframe thead th {\n",
       "        text-align: right;\n",
       "    }\n",
       "</style>\n",
       "<table border=\"1\" class=\"dataframe\">\n",
       "  <thead>\n",
       "    <tr style=\"text-align: right;\">\n",
       "      <th></th>\n",
       "      <th>text</th>\n",
       "      <th>is_junk</th>\n",
       "      <th>ratio_word</th>\n",
       "      <th>ratio_caps</th>\n",
       "    </tr>\n",
       "  </thead>\n",
       "  <tbody>\n",
       "    <tr>\n",
       "      <th>0</th>\n",
       "      <td>Smiley piercings😍😍\\n\\n(My post)\\n\\n(Follow coc...</td>\n",
       "      <td>1</td>\n",
       "      <td>0.375000</td>\n",
       "      <td>0.000000</td>\n",
       "    </tr>\n",
       "    <tr>\n",
       "      <th>1</th>\n",
       "      <td>If you are interested in my products, please a...</td>\n",
       "      <td>1</td>\n",
       "      <td>1.000000</td>\n",
       "      <td>0.000000</td>\n",
       "    </tr>\n",
       "    <tr>\n",
       "      <th>2</th>\n",
       "      <td>#ZZ20230321074 #Chanel #白色图案刺绣圆领T恤 #SML #suit ...</td>\n",
       "      <td>1</td>\n",
       "      <td>0.000000</td>\n",
       "      <td>0.166667</td>\n",
       "    </tr>\n",
       "    <tr>\n",
       "      <th>3</th>\n",
       "      <td>We have been engaged in the wholesale and reta...</td>\n",
       "      <td>1</td>\n",
       "      <td>1.000000</td>\n",
       "      <td>0.032258</td>\n",
       "    </tr>\n",
       "    <tr>\n",
       "      <th>4</th>\n",
       "      <td>NMACC opens in Mumbai this week, Beyoncé meets...</td>\n",
       "      <td>1</td>\n",
       "      <td>0.794118</td>\n",
       "      <td>0.044118</td>\n",
       "    </tr>\n",
       "    <tr>\n",
       "      <th>...</th>\n",
       "      <td>...</td>\n",
       "      <td>...</td>\n",
       "      <td>...</td>\n",
       "      <td>...</td>\n",
       "    </tr>\n",
       "    <tr>\n",
       "      <th>117</th>\n",
       "      <td>Hello dear, we are a professional product whol...</td>\n",
       "      <td>1</td>\n",
       "      <td>1.000000</td>\n",
       "      <td>0.000000</td>\n",
       "    </tr>\n",
       "    <tr>\n",
       "      <th>118</th>\n",
       "      <td>We are mainly engaged in various brands of sho...</td>\n",
       "      <td>1</td>\n",
       "      <td>1.000000</td>\n",
       "      <td>0.000000</td>\n",
       "    </tr>\n",
       "    <tr>\n",
       "      <th>119</th>\n",
       "      <td>tontawan so expensive rich girl 😍❤‍🔥\\n\\nFollow...</td>\n",
       "      <td>1</td>\n",
       "      <td>0.800000</td>\n",
       "      <td>0.006452</td>\n",
       "    </tr>\n",
       "    <tr>\n",
       "      <th>120</th>\n",
       "      <td>#香奈儿#爱马仕#lv #迪奥#古驰#birkin #gucci #hongkong #he...</td>\n",
       "      <td>1</td>\n",
       "      <td>0.000000</td>\n",
       "      <td>0.000000</td>\n",
       "    </tr>\n",
       "    <tr>\n",
       "      <th>121</th>\n",
       "      <td>I am a brand wholesaler, DHL and Federal world...</td>\n",
       "      <td>1</td>\n",
       "      <td>1.000000</td>\n",
       "      <td>0.034483</td>\n",
       "    </tr>\n",
       "  </tbody>\n",
       "</table>\n",
       "<p>122 rows × 4 columns</p>\n",
       "</div>"
      ],
      "text/plain": [
       "                                                  text  is_junk  ratio_word  \\\n",
       "0    Smiley piercings😍😍\\n\\n(My post)\\n\\n(Follow coc...        1    0.375000   \n",
       "1    If you are interested in my products, please a...        1    1.000000   \n",
       "2    #ZZ20230321074 #Chanel #白色图案刺绣圆领T恤 #SML #suit ...        1    0.000000   \n",
       "3    We have been engaged in the wholesale and reta...        1    1.000000   \n",
       "4    NMACC opens in Mumbai this week, Beyoncé meets...        1    0.794118   \n",
       "..                                                 ...      ...         ...   \n",
       "117  Hello dear, we are a professional product whol...        1    1.000000   \n",
       "118  We are mainly engaged in various brands of sho...        1    1.000000   \n",
       "119  tontawan so expensive rich girl 😍❤‍🔥\\n\\nFollow...        1    0.800000   \n",
       "120  #香奈儿#爱马仕#lv #迪奥#古驰#birkin #gucci #hongkong #he...        1    0.000000   \n",
       "121  I am a brand wholesaler, DHL and Federal world...        1    1.000000   \n",
       "\n",
       "     ratio_caps  \n",
       "0      0.000000  \n",
       "1      0.000000  \n",
       "2      0.166667  \n",
       "3      0.032258  \n",
       "4      0.044118  \n",
       "..          ...  \n",
       "117    0.000000  \n",
       "118    0.000000  \n",
       "119    0.006452  \n",
       "120    0.000000  \n",
       "121    0.034483  \n",
       "\n",
       "[122 rows x 4 columns]"
      ]
     },
     "execution_count": 31,
     "metadata": {},
     "output_type": "execute_result"
    }
   ],
   "source": [
    "word_ratio(chanel_junk_valid_new)\n",
    "caps_ratio(chanel_junk_valid_new)"
   ]
  },
  {
   "cell_type": "code",
   "execution_count": 33,
   "id": "cad8c364",
   "metadata": {
    "scrolled": true
   },
   "outputs": [],
   "source": [
    "import seaborn as sns"
   ]
  },
  {
   "cell_type": "code",
   "execution_count": 38,
   "id": "ac45a428",
   "metadata": {},
   "outputs": [
    {
     "data": {
      "text/plain": [
       "<seaborn.axisgrid.FacetGrid at 0x1fdc3813790>"
      ]
     },
     "execution_count": 38,
     "metadata": {},
     "output_type": "execute_result"
    },
    {
     "data": {
      "image/png": "[encoded data removed]",
      "text/plain": [
       "<Figure size 558.875x500 with 1 Axes>"
      ]
     },
     "metadata": {},
     "output_type": "display_data"
    }
   ],
   "source": [
    "sns.displot(chanel_junk_valid_new,\n",
    "            x=\"ratio_word\",\n",
    "            hue=\"is_junk\").set(title = 'Distribution du nombre de post en fonciton du ratio de mot')"
   ]
  },
  {
   "cell_type": "code",
   "execution_count": 39,
   "id": "2b3c2602",
   "metadata": {},
   "outputs": [
    {
     "data": {
      "text/plain": [
       "<seaborn.axisgrid.FacetGrid at 0x1fdc349b890>"
      ]
     },
     "execution_count": 39,
     "metadata": {},
     "output_type": "execute_result"
    },
    {
     "data": {
      "image/png": "[encoded data removed]",
      "text/plain": [
       "<Figure size 558.875x500 with 1 Axes>"
      ]
     },
     "metadata": {},
     "output_type": "display_data"
    }
   ],
   "source": [
    "sns.displot(chanel_junk_valid_new,\n",
    "            x=\"ratio_caps\",\n",
    "            hue=\"is_junk\").set(title = 'Distribution du nombre de post en fonciton du ratio de mot en majuscules')"
   ]
  },
  {
   "cell_type": "markdown",
   "id": "b745ba25",
   "metadata": {},
   "source": [
    "Top des hashtags des junk post"
   ]
  },
  {
   "cell_type": "code",
   "execution_count": 25,
   "id": "5fb03587",
   "metadata": {},
   "outputs": [
    {
     "name": "stdout",
     "output_type": "stream",
     "text": [
      "hashtag\n",
      "#chanel       50\n",
      "#fashion      14\n",
      "#dior         13\n",
      "#gucci        13\n",
      "#Chanel       11\n",
      "#beauty       10\n",
      "#instagood     9\n",
      "#vogue         9\n",
      "#followme      8\n",
      "#love          8\n",
      "dtype: int64\n"
     ]
    }
   ],
   "source": [
    "top_hashtags(chanel_junk_valid_new[chanel_junk_valid_new['is_junk'] == 1]['text'].values.tolist(),106, 10)"
   ]
  },
  {
   "cell_type": "markdown",
   "id": "62788190",
   "metadata": {},
   "source": [
    "Top des hashtags des non junk post"
   ]
  },
  {
   "cell_type": "code",
   "execution_count": 26,
   "id": "ed45ea82",
   "metadata": {},
   "outputs": [
    {
     "name": "stdout",
     "output_type": "stream",
     "text": [
      "hashtag\n",
      "#chanel                   72\n",
      "#chanellove               24\n",
      "#chanellover              19\n",
      "#beautyobsessed           16\n",
      "#chanelbag                16\n",
      "#fashion                  13\n",
      "#pinterestaesthetic       13\n",
      "#ysl                      13\n",
      "#louisvuitton             12\n",
      "#makeup                   12\n",
      "#artbeauty                11\n",
      "#beauties                 11\n",
      "#beautifuldestinations    11\n",
      "#beautyritual             11\n",
      "#black                    11\n",
      "#chaneladdict             11\n",
      "#cream                    11\n",
      "#details                  11\n",
      "#goldblack                11\n",
      "#minimalism               11\n",
      "dtype: int64\n"
     ]
    }
   ],
   "source": [
    "top_hashtags(chanel_junk_valid_new[chanel_junk_valid_new['is_junk'] == 0]['text'].values.tolist(),106,20)"
   ]
  },
  {
   "cell_type": "markdown",
   "id": "cca40edb",
   "metadata": {},
   "source": [
    "Top des emoji des junk post"
   ]
  },
  {
   "cell_type": "code",
   "execution_count": 80,
   "id": "36fdfd24",
   "metadata": {},
   "outputs": [
    {
     "name": "stdout",
     "output_type": "stream",
     "text": [
      "emoji\n",
      "👉     17\n",
      "✅     10\n",
      "😍     10\n",
      "✔      9\n",
      "✨      8\n",
      "✈      6\n",
      "🇺🇸     6\n",
      "🎁      6\n",
      "📞      6\n",
      "🔘      6\n",
      "dtype: int64\n"
     ]
    }
   ],
   "source": [
    "top_emojis(chanel_junk_valid_new[chanel_junk_valid_new['is_junk'] == 1]['text'].values.tolist(),106, 10)"
   ]
  },
  {
   "cell_type": "markdown",
   "id": "94a406d0",
   "metadata": {},
   "source": [
    "Top des emojis des non junk post"
   ]
  },
  {
   "cell_type": "code",
   "execution_count": 81,
   "id": "e989d900",
   "metadata": {
    "scrolled": true
   },
   "outputs": [
    {
     "name": "stdout",
     "output_type": "stream",
     "text": [
      "emoji\n",
      "💕     6\n",
      "🥰     5\n",
      "✨     2\n",
      "☀️    1\n",
      "🌷     1\n",
      "🌸     1\n",
      "🍨     1\n",
      "🎀     1\n",
      "🐣     1\n",
      "💎     1\n",
      "💙     1\n",
      "📸     1\n",
      "🥊     1\n",
      "🧼     1\n",
      "dtype: int64\n"
     ]
    }
   ],
   "source": [
    "top_emojis(chanel_junk_valid_new[chanel_junk_valid_new['is_junk'] == 0]['text'].values.tolist(),16,20)"
   ]
  },
  {
   "cell_type": "markdown",
   "id": "ef94c307",
   "metadata": {},
   "source": [
    "### Histogramme nombre de likes"
   ]
  },
  {
   "cell_type": "code",
   "execution_count": 55,
   "id": "3df3cebe",
   "metadata": {},
   "outputs": [],
   "source": [
    "chanel_junk_valid_new_l = pd.merge(chanel_junk_valid_new, chanel_5k[chanel_5k['language'] == 'en'][['text','likes','comments']], on='text')"
   ]
  },
  {
   "cell_type": "code",
   "execution_count": 51,
   "id": "9e6ae67f",
   "metadata": {
    "collapsed": true
   },
   "outputs": [
    {
     "data": {
      "text/html": [
       "<div>\n",
       "<style scoped>\n",
       "    .dataframe tbody tr th:only-of-type {\n",
       "        vertical-align: middle;\n",
       "    }\n",
       "\n",
       "    .dataframe tbody tr th {\n",
       "        vertical-align: top;\n",
       "    }\n",
       "\n",
       "    .dataframe thead th {\n",
       "        text-align: right;\n",
       "    }\n",
       "</style>\n",
       "<table border=\"1\" class=\"dataframe\">\n",
       "  <thead>\n",
       "    <tr style=\"text-align: right;\">\n",
       "      <th></th>\n",
       "      <th>text</th>\n",
       "      <th>is_junk</th>\n",
       "      <th>ratio_word</th>\n",
       "      <th>ratio_caps</th>\n",
       "      <th>likes</th>\n",
       "      <th>comments</th>\n",
       "      <th>cat_likes</th>\n",
       "      <th>cat_comments</th>\n",
       "    </tr>\n",
       "  </thead>\n",
       "  <tbody>\n",
       "    <tr>\n",
       "      <th>0</th>\n",
       "      <td>Smiley piercings😍😍\\n\\n(My post)\\n\\n(Follow coc...</td>\n",
       "      <td>1</td>\n",
       "      <td>0.375</td>\n",
       "      <td>0.0</td>\n",
       "      <td>0</td>\n",
       "      <td>0</td>\n",
       "      <td>0</td>\n",
       "      <td>0</td>\n",
       "    </tr>\n",
       "    <tr>\n",
       "      <th>1</th>\n",
       "      <td>If you are interested in my products, please a...</td>\n",
       "      <td>1</td>\n",
       "      <td>1.000</td>\n",
       "      <td>0.0</td>\n",
       "      <td>309</td>\n",
       "      <td>1</td>\n",
       "      <td>1+</td>\n",
       "      <td>1+</td>\n",
       "    </tr>\n",
       "    <tr>\n",
       "      <th>2</th>\n",
       "      <td>If you are interested in my products, please a...</td>\n",
       "      <td>1</td>\n",
       "      <td>1.000</td>\n",
       "      <td>0.0</td>\n",
       "      <td>301</td>\n",
       "      <td>1</td>\n",
       "      <td>1+</td>\n",
       "      <td>1+</td>\n",
       "    </tr>\n",
       "    <tr>\n",
       "      <th>3</th>\n",
       "      <td>If you are interested in my products, please a...</td>\n",
       "      <td>1</td>\n",
       "      <td>1.000</td>\n",
       "      <td>0.0</td>\n",
       "      <td>300</td>\n",
       "      <td>1</td>\n",
       "      <td>1+</td>\n",
       "      <td>1+</td>\n",
       "    </tr>\n",
       "    <tr>\n",
       "      <th>4</th>\n",
       "      <td>If you are interested in my products, please a...</td>\n",
       "      <td>1</td>\n",
       "      <td>1.000</td>\n",
       "      <td>0.0</td>\n",
       "      <td>303</td>\n",
       "      <td>2</td>\n",
       "      <td>1+</td>\n",
       "      <td>1+</td>\n",
       "    </tr>\n",
       "    <tr>\n",
       "      <th>...</th>\n",
       "      <td>...</td>\n",
       "      <td>...</td>\n",
       "      <td>...</td>\n",
       "      <td>...</td>\n",
       "      <td>...</td>\n",
       "      <td>...</td>\n",
       "      <td>...</td>\n",
       "      <td>...</td>\n",
       "    </tr>\n",
       "    <tr>\n",
       "      <th>989</th>\n",
       "      <td>#香奈儿#爱马仕#lv #迪奥#古驰#birkin #gucci #hongkong #he...</td>\n",
       "      <td>1</td>\n",
       "      <td>0.000</td>\n",
       "      <td>0.0</td>\n",
       "      <td>1</td>\n",
       "      <td>3</td>\n",
       "      <td>1+</td>\n",
       "      <td>1+</td>\n",
       "    </tr>\n",
       "    <tr>\n",
       "      <th>990</th>\n",
       "      <td>#香奈儿#爱马仕#lv #迪奥#古驰#birkin #gucci #hongkong #he...</td>\n",
       "      <td>1</td>\n",
       "      <td>0.000</td>\n",
       "      <td>0.0</td>\n",
       "      <td>1</td>\n",
       "      <td>3</td>\n",
       "      <td>1+</td>\n",
       "      <td>1+</td>\n",
       "    </tr>\n",
       "    <tr>\n",
       "      <th>991</th>\n",
       "      <td>#香奈儿#爱马仕#lv #迪奥#古驰#birkin #gucci #hongkong #he...</td>\n",
       "      <td>1</td>\n",
       "      <td>0.000</td>\n",
       "      <td>0.0</td>\n",
       "      <td>1</td>\n",
       "      <td>3</td>\n",
       "      <td>1+</td>\n",
       "      <td>1+</td>\n",
       "    </tr>\n",
       "    <tr>\n",
       "      <th>992</th>\n",
       "      <td>#香奈儿#爱马仕#lv #迪奥#古驰#birkin #gucci #hongkong #he...</td>\n",
       "      <td>1</td>\n",
       "      <td>0.000</td>\n",
       "      <td>0.0</td>\n",
       "      <td>1</td>\n",
       "      <td>2</td>\n",
       "      <td>1+</td>\n",
       "      <td>1+</td>\n",
       "    </tr>\n",
       "    <tr>\n",
       "      <th>993</th>\n",
       "      <td>#香奈儿#爱马仕#lv #迪奥#古驰#birkin #gucci #hongkong #he...</td>\n",
       "      <td>1</td>\n",
       "      <td>0.000</td>\n",
       "      <td>0.0</td>\n",
       "      <td>2</td>\n",
       "      <td>3</td>\n",
       "      <td>1+</td>\n",
       "      <td>1+</td>\n",
       "    </tr>\n",
       "  </tbody>\n",
       "</table>\n",
       "<p>994 rows × 8 columns</p>\n",
       "</div>"
      ],
      "text/plain": [
       "                                                  text  is_junk  ratio_word  \\\n",
       "0    Smiley piercings😍😍\\n\\n(My post)\\n\\n(Follow coc...        1       0.375   \n",
       "1    If you are interested in my products, please a...        1       1.000   \n",
       "2    If you are interested in my products, please a...        1       1.000   \n",
       "3    If you are interested in my products, please a...        1       1.000   \n",
       "4    If you are interested in my products, please a...        1       1.000   \n",
       "..                                                 ...      ...         ...   \n",
       "989  #香奈儿#爱马仕#lv #迪奥#古驰#birkin #gucci #hongkong #he...        1       0.000   \n",
       "990  #香奈儿#爱马仕#lv #迪奥#古驰#birkin #gucci #hongkong #he...        1       0.000   \n",
       "991  #香奈儿#爱马仕#lv #迪奥#古驰#birkin #gucci #hongkong #he...        1       0.000   \n",
       "992  #香奈儿#爱马仕#lv #迪奥#古驰#birkin #gucci #hongkong #he...        1       0.000   \n",
       "993  #香奈儿#爱马仕#lv #迪奥#古驰#birkin #gucci #hongkong #he...        1       0.000   \n",
       "\n",
       "     ratio_caps  likes  comments cat_likes cat_comments  \n",
       "0           0.0      0         0         0            0  \n",
       "1           0.0    309         1        1+           1+  \n",
       "2           0.0    301         1        1+           1+  \n",
       "3           0.0    300         1        1+           1+  \n",
       "4           0.0    303         2        1+           1+  \n",
       "..          ...    ...       ...       ...          ...  \n",
       "989         0.0      1         3        1+           1+  \n",
       "990         0.0      1         3        1+           1+  \n",
       "991         0.0      1         3        1+           1+  \n",
       "992         0.0      1         2        1+           1+  \n",
       "993         0.0      2         3        1+           1+  \n",
       "\n",
       "[994 rows x 8 columns]"
      ]
     },
     "execution_count": 51,
     "metadata": {},
     "output_type": "execute_result"
    }
   ],
   "source": [
    "chanel_junk_valid_new_l.head()"
   ]
  },
  {
   "cell_type": "code",
   "execution_count": 56,
   "id": "d7a7d03b",
   "metadata": {},
   "outputs": [
    {
     "ename": "ValueError",
     "evalue": "Length of values (1031) does not match length of index (994)",
     "output_type": "error",
     "traceback": [
      "\u001b[1;31m---------------------------------------------------------------------------\u001b[0m",
      "\u001b[1;31mValueError\u001b[0m                                Traceback (most recent call last)",
      "Cell \u001b[1;32mIn[56], line 9\u001b[0m\n\u001b[0;32m      7\u001b[0m     \u001b[38;5;28;01melse\u001b[39;00m:\n\u001b[0;32m      8\u001b[0m          cat_l\u001b[38;5;241m.\u001b[39mappend(\u001b[38;5;124m'\u001b[39m\u001b[38;5;124m2+\u001b[39m\u001b[38;5;124m'\u001b[39m)\n\u001b[1;32m----> 9\u001b[0m \u001b[43mchanel_junk_valid_new_l\u001b[49m\u001b[43m[\u001b[49m\u001b[38;5;124;43m'\u001b[39;49m\u001b[38;5;124;43mcat_likes\u001b[39;49m\u001b[38;5;124;43m'\u001b[39;49m\u001b[43m]\u001b[49m \u001b[38;5;241m=\u001b[39m cat_l\n\u001b[0;32m     13\u001b[0m cat_c \u001b[38;5;241m=\u001b[39m []\n\u001b[0;32m     14\u001b[0m \u001b[38;5;28;01mfor\u001b[39;00m i \u001b[38;5;129;01min\u001b[39;00m chanel_junk_valid_new_l[\u001b[38;5;124m'\u001b[39m\u001b[38;5;124mcomments\u001b[39m\u001b[38;5;124m'\u001b[39m]\u001b[38;5;241m.\u001b[39mtolist():\n",
      "File \u001b[1;32m~\\AppData\\Local\\Programs\\Python\\Python311\\Lib\\site-packages\\pandas\\core\\frame.py:3980\u001b[0m, in \u001b[0;36mDataFrame.__setitem__\u001b[1;34m(self, key, value)\u001b[0m\n\u001b[0;32m   3977\u001b[0m     \u001b[38;5;28mself\u001b[39m\u001b[38;5;241m.\u001b[39m_setitem_array([key], value)\n\u001b[0;32m   3978\u001b[0m \u001b[38;5;28;01melse\u001b[39;00m:\n\u001b[0;32m   3979\u001b[0m     \u001b[38;5;66;03m# set column\u001b[39;00m\n\u001b[1;32m-> 3980\u001b[0m     \u001b[38;5;28;43mself\u001b[39;49m\u001b[38;5;241;43m.\u001b[39;49m\u001b[43m_set_item\u001b[49m\u001b[43m(\u001b[49m\u001b[43mkey\u001b[49m\u001b[43m,\u001b[49m\u001b[43m \u001b[49m\u001b[43mvalue\u001b[49m\u001b[43m)\u001b[49m\n",
      "File \u001b[1;32m~\\AppData\\Local\\Programs\\Python\\Python311\\Lib\\site-packages\\pandas\\core\\frame.py:4174\u001b[0m, in \u001b[0;36mDataFrame._set_item\u001b[1;34m(self, key, value)\u001b[0m\n\u001b[0;32m   4164\u001b[0m \u001b[38;5;28;01mdef\u001b[39;00m \u001b[38;5;21m_set_item\u001b[39m(\u001b[38;5;28mself\u001b[39m, key, value) \u001b[38;5;241m-\u001b[39m\u001b[38;5;241m>\u001b[39m \u001b[38;5;28;01mNone\u001b[39;00m:\n\u001b[0;32m   4165\u001b[0m \u001b[38;5;250m    \u001b[39m\u001b[38;5;124;03m\"\"\"\u001b[39;00m\n\u001b[0;32m   4166\u001b[0m \u001b[38;5;124;03m    Add series to DataFrame in specified column.\u001b[39;00m\n\u001b[0;32m   4167\u001b[0m \n\u001b[1;32m   (...)\u001b[0m\n\u001b[0;32m   4172\u001b[0m \u001b[38;5;124;03m    ensure homogeneity.\u001b[39;00m\n\u001b[0;32m   4173\u001b[0m \u001b[38;5;124;03m    \"\"\"\u001b[39;00m\n\u001b[1;32m-> 4174\u001b[0m     value \u001b[38;5;241m=\u001b[39m \u001b[38;5;28;43mself\u001b[39;49m\u001b[38;5;241;43m.\u001b[39;49m\u001b[43m_sanitize_column\u001b[49m\u001b[43m(\u001b[49m\u001b[43mvalue\u001b[49m\u001b[43m)\u001b[49m\n\u001b[0;32m   4176\u001b[0m     \u001b[38;5;28;01mif\u001b[39;00m (\n\u001b[0;32m   4177\u001b[0m         key \u001b[38;5;129;01min\u001b[39;00m \u001b[38;5;28mself\u001b[39m\u001b[38;5;241m.\u001b[39mcolumns\n\u001b[0;32m   4178\u001b[0m         \u001b[38;5;129;01mand\u001b[39;00m value\u001b[38;5;241m.\u001b[39mndim \u001b[38;5;241m==\u001b[39m \u001b[38;5;241m1\u001b[39m\n\u001b[0;32m   4179\u001b[0m         \u001b[38;5;129;01mand\u001b[39;00m \u001b[38;5;129;01mnot\u001b[39;00m is_extension_array_dtype(value)\n\u001b[0;32m   4180\u001b[0m     ):\n\u001b[0;32m   4181\u001b[0m         \u001b[38;5;66;03m# broadcast across multiple columns if necessary\u001b[39;00m\n\u001b[0;32m   4182\u001b[0m         \u001b[38;5;28;01mif\u001b[39;00m \u001b[38;5;129;01mnot\u001b[39;00m \u001b[38;5;28mself\u001b[39m\u001b[38;5;241m.\u001b[39mcolumns\u001b[38;5;241m.\u001b[39mis_unique \u001b[38;5;129;01mor\u001b[39;00m \u001b[38;5;28misinstance\u001b[39m(\u001b[38;5;28mself\u001b[39m\u001b[38;5;241m.\u001b[39mcolumns, MultiIndex):\n",
      "File \u001b[1;32m~\\AppData\\Local\\Programs\\Python\\Python311\\Lib\\site-packages\\pandas\\core\\frame.py:4915\u001b[0m, in \u001b[0;36mDataFrame._sanitize_column\u001b[1;34m(self, value)\u001b[0m\n\u001b[0;32m   4912\u001b[0m     \u001b[38;5;28;01mreturn\u001b[39;00m _reindex_for_setitem(Series(value), \u001b[38;5;28mself\u001b[39m\u001b[38;5;241m.\u001b[39mindex)\n\u001b[0;32m   4914\u001b[0m \u001b[38;5;28;01mif\u001b[39;00m is_list_like(value):\n\u001b[1;32m-> 4915\u001b[0m     \u001b[43mcom\u001b[49m\u001b[38;5;241;43m.\u001b[39;49m\u001b[43mrequire_length_match\u001b[49m\u001b[43m(\u001b[49m\u001b[43mvalue\u001b[49m\u001b[43m,\u001b[49m\u001b[43m \u001b[49m\u001b[38;5;28;43mself\u001b[39;49m\u001b[38;5;241;43m.\u001b[39;49m\u001b[43mindex\u001b[49m\u001b[43m)\u001b[49m\n\u001b[0;32m   4916\u001b[0m \u001b[38;5;28;01mreturn\u001b[39;00m sanitize_array(value, \u001b[38;5;28mself\u001b[39m\u001b[38;5;241m.\u001b[39mindex, copy\u001b[38;5;241m=\u001b[39m\u001b[38;5;28;01mTrue\u001b[39;00m, allow_2d\u001b[38;5;241m=\u001b[39m\u001b[38;5;28;01mTrue\u001b[39;00m)\n",
      "File \u001b[1;32m~\\AppData\\Local\\Programs\\Python\\Python311\\Lib\\site-packages\\pandas\\core\\common.py:571\u001b[0m, in \u001b[0;36mrequire_length_match\u001b[1;34m(data, index)\u001b[0m\n\u001b[0;32m    567\u001b[0m \u001b[38;5;250m\u001b[39m\u001b[38;5;124;03m\"\"\"\u001b[39;00m\n\u001b[0;32m    568\u001b[0m \u001b[38;5;124;03mCheck the length of data matches the length of the index.\u001b[39;00m\n\u001b[0;32m    569\u001b[0m \u001b[38;5;124;03m\"\"\"\u001b[39;00m\n\u001b[0;32m    570\u001b[0m \u001b[38;5;28;01mif\u001b[39;00m \u001b[38;5;28mlen\u001b[39m(data) \u001b[38;5;241m!=\u001b[39m \u001b[38;5;28mlen\u001b[39m(index):\n\u001b[1;32m--> 571\u001b[0m     \u001b[38;5;28;01mraise\u001b[39;00m \u001b[38;5;167;01mValueError\u001b[39;00m(\n\u001b[0;32m    572\u001b[0m         \u001b[38;5;124m\"\u001b[39m\u001b[38;5;124mLength of values \u001b[39m\u001b[38;5;124m\"\u001b[39m\n\u001b[0;32m    573\u001b[0m         \u001b[38;5;124mf\u001b[39m\u001b[38;5;124m\"\u001b[39m\u001b[38;5;124m(\u001b[39m\u001b[38;5;132;01m{\u001b[39;00m\u001b[38;5;28mlen\u001b[39m(data)\u001b[38;5;132;01m}\u001b[39;00m\u001b[38;5;124m) \u001b[39m\u001b[38;5;124m\"\u001b[39m\n\u001b[0;32m    574\u001b[0m         \u001b[38;5;124m\"\u001b[39m\u001b[38;5;124mdoes not match length of index \u001b[39m\u001b[38;5;124m\"\u001b[39m\n\u001b[0;32m    575\u001b[0m         \u001b[38;5;124mf\u001b[39m\u001b[38;5;124m\"\u001b[39m\u001b[38;5;124m(\u001b[39m\u001b[38;5;132;01m{\u001b[39;00m\u001b[38;5;28mlen\u001b[39m(index)\u001b[38;5;132;01m}\u001b[39;00m\u001b[38;5;124m)\u001b[39m\u001b[38;5;124m\"\u001b[39m\n\u001b[0;32m    576\u001b[0m     )\n",
      "\u001b[1;31mValueError\u001b[0m: Length of values (1031) does not match length of index (994)"
     ]
    }
   ],
   "source": [
    "cat_l = []\n",
    "for i in chanel_junk_valid_new_l['likes'].tolist():\n",
    "    if(i == 0):\n",
    "        cat_l.append('0')\n",
    "    if(i ==1 ):\n",
    "        cat_l.append('1')\n",
    "    else:\n",
    "         cat_l.append('2+')\n",
    "chanel_junk_valid_new_l['cat_likes'] = cat_l\n",
    "\n",
    "\n",
    "\n",
    "cat_c = []\n",
    "for i in chanel_junk_valid_new_l['comments'].tolist():\n",
    "    if(i == 0):\n",
    "        cat_c.append('0')\n",
    "    if(i ==1 ):\n",
    "        cat_c.append('1')\n",
    "    else:\n",
    "        cat_c.append('2+')\n",
    "chanel_junk_valid_new_l['cat_comments'] = cat_c"
   ]
  },
  {
   "cell_type": "code",
   "execution_count": 49,
   "id": "49d0a922",
   "metadata": {},
   "outputs": [
    {
     "data": {
      "text/plain": [
       "<seaborn.axisgrid.FacetGrid at 0x1fdca822890>"
      ]
     },
     "execution_count": 49,
     "metadata": {},
     "output_type": "execute_result"
    },
    {
     "data": {
      "image/png": "[encoded data removed]",
      "text/plain": [
       "<Figure size 558.875x500 with 1 Axes>"
      ]
     },
     "metadata": {},
     "output_type": "display_data"
    }
   ],
   "source": [
    "sns.displot(chanel_junk_valid_new_l,\n",
    "            x=\"cat_likes\",\n",
    "            hue=\"is_junk\").set(title = 'Distribution du nombre de post en fonciton du nombre de like')"
   ]
  },
  {
   "cell_type": "code",
   "execution_count": 50,
   "id": "60122d42",
   "metadata": {},
   "outputs": [
    {
     "data": {
      "text/plain": [
       "<seaborn.axisgrid.FacetGrid at 0x1fdc6c2ea10>"
      ]
     },
     "execution_count": 50,
     "metadata": {},
     "output_type": "execute_result"
    },
    {
     "data": {
      "image/png": "[encoded data removed]",
      "text/plain": [
       "<Figure size 558.875x500 with 1 Axes>"
      ]
     },
     "metadata": {},
     "output_type": "display_data"
    }
   ],
   "source": [
    "sns.displot(chanel_junk_valid_new_l,\n",
    "            x=\"cat_comments\",\n",
    "            hue=\"is_junk\").set(title = 'Distribution du nombre de post en fonciton du nombre de commentaires')"
   ]
  }
 ],
 "metadata": {
  "kernelspec": {
   "display_name": "Python 3 (ipykernel)",
   "language": "python",
   "name": "python3"
  },
  "language_info": {
   "codemirror_mode": {
    "name": "ipython",
    "version": 3
   },
   "file_extension": ".py",
   "mimetype": "text/x-python",
   "name": "python",
   "nbconvert_exporter": "python",
   "pygments_lexer": "ipython3",
   "version": "3.11.2"
  }
 },
 "nbformat": 4,
 "nbformat_minor": 5
}
