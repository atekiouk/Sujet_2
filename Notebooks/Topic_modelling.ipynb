{
 "cells": [
  {
   "cell_type": "code",
   "execution_count": null,
   "id": "b61e9094",
   "metadata": {},
   "outputs": [],
   "source": [
    "import utilities\n",
    "from bertopic import BERTopic\n",
    "from sklearn.feature_extraction.text import CountVectorizer\n",
    "import nltk\n",
    "nltk.download('stopwords')\n",
    "from hdbscan import HDBSCAN\n",
    "import pandas as pd\n",
    "import pickle"
   ]
  },
  {
   "cell_type": "code",
   "execution_count": null,
   "id": "e5e1091e",
   "metadata": {},
   "outputs": [],
   "source": [
    "corpus_chan_10k = pd.read_csv(\"C:/Users/a.tekiouk/Sujet_2/Sujet_2/DATA/chanel10k.csv\", sep=\";\", parse_dates=[\"publication_time\"])\n",
    "\n",
    "# on récupére les posts en anglais\n",
    "mask = corpus_chan_10k[\"language\"] == 'en'\n",
    "corpus_chan_10k = corpus_chan_10k.loc[mask]"
   ]
  },
  {
   "cell_type": "code",
   "execution_count": null,
   "id": "fc6ce441",
   "metadata": {},
   "outputs": [],
   "source": [
    "with open('C:/Users/a.tekiouk/Sujet_2/Sujet_2/Models/model_auc.pkl', 'rb') as f:\n",
    "    model_f = pickle.load(f) # deserialize using load()\n",
    "with open('C:/Users/a.tekiouk/Sujet_2/Sujet_2/Models/opt_reducer.pkl', 'rb') as f:\n",
    "    reducer_f = pickle.load(f) # deserialize using load()\n",
    "corpus_filtered = utilities.junk_classifier(\n",
    "    Corpus_instagram=corpus_chan_10k,\n",
    "    model=model_f,\n",
    "    reducer=reducer_f)\n",
    "corpus_filtered.to_csv(\"C:/Users/a.tekiouk/Sujet_2/Sujet_2/DATA/corpus_filtered.csv\")"
   ]
  },
  {
   "cell_type": "code",
   "execution_count": null,
   "id": "27a09a96",
   "metadata": {},
   "outputs": [],
   "source": [
    "corpus_filtered = pd.reac_csv(\"C:/Users/a.tekiouk/Sujet_2/Sujet_2/DATA/corpus_filtered.csv\")\n",
    "corpus_filtered = corpus_filtered.dropna(axis='rows')"
   ]
  },
  {
   "cell_type": "code",
   "execution_count": null,
   "id": "563c7129",
   "metadata": {},
   "outputs": [],
   "source": [
    "stop_words = stopwords.words('english')\n",
    "\n",
    "vectorizer = CountVectorizer(stop_words=stop_words)\n",
    "                                             \n",
    "umap = UMAP(n_neighbors=15, n_components=5, min_dist=0.0, metric='cosine', random_state=42)\n",
    "hdbscan = HDBSCAN(min_cluster_size=40, min_samples=1, metric='euclidean', cluster_selection_method='eom')\n",
    "# representation_model = MaximalMarginalRelevance(diversity=0.30)\n",
    "\n",
    "bert_topic_model = BERTopic(\n",
    "    embedding_model=model,\n",
    "    umap_model=umap, \n",
    "    hdbscan_model=hdbscan,\n",
    "    vectorizer_model=vectorizer,\n",
    "    # top_n_words=10,\n",
    "    verbose=True,\n",
    "    # representation_model = representation_model \n",
    ")\n",
    "\n",
    "embeddings = encoder.encode(docs)\n",
    "\n",
    "\n",
    "docs = corpus_filtered['text'].tolist()\n",
    "bert_topic_model.fit(docs, embeddings)\n",
    "print(f\"Total topics found by BERTopic: {len(bert_topic_model.topic_labels_.keys())} (the topic -1 represents the outliers)\")\n",
    "#CountVectorizer ?\n",
    "#stopwords ?"
   ]
  },
  {
   "cell_type": "code",
   "execution_count": null,
   "id": "ff8db2f7",
   "metadata": {},
   "outputs": [],
   "source": [
    "bert_topic_model.get_topic_info()"
   ]
  },
  {
   "cell_type": "code",
   "execution_count": null,
   "id": "c38aab9c",
   "metadata": {},
   "outputs": [],
   "source": [
    "bert_topic_model.visualize_topics()"
   ]
  },
  {
   "cell_type": "code",
   "execution_count": null,
   "id": "27fc30b0",
   "metadata": {},
   "outputs": [],
   "source": [
    "bert_topic_model.visualize_heatmap()"
   ]
  },
  {
   "cell_type": "code",
   "execution_count": null,
   "id": "77131826",
   "metadata": {},
   "outputs": [],
   "source": [
    "bert_topic_model.visualize_hierarchy()"
   ]
  },
  {
   "cell_type": "code",
   "execution_count": null,
   "id": "103f9b82",
   "metadata": {},
   "outputs": [],
   "source": [
    "from wordcloud import WordCloud\n",
    "import matplotlib.pyplot as plt\n",
    "\n",
    "def create_wordcloud(topic_model, topic):\n",
    "    text = {word: value for word, value in topic_model.get_topic(topic)}\n",
    "    wc = WordCloud(background_color=\"white\", max_words=1000)\n",
    "    wc.generate_from_frequencies(text)\n",
    "    plt.imshow(wc, interpolation=\"bilinear\")\n",
    "    plt.axis(\"off\")\n",
    "    plt.show()\n",
    "\n",
    "create_wordcloud(bert_topic_model, topic=-1)"
   ]
  }
 ],
 "metadata": {
  "kernelspec": {
   "display_name": "Python 3 (ipykernel)",
   "language": "python",
   "name": "python3"
  },
  "language_info": {
   "codemirror_mode": {
    "name": "ipython",
    "version": 3
   },
   "file_extension": ".py",
   "mimetype": "text/x-python",
   "name": "python",
   "nbconvert_exporter": "python",
   "pygments_lexer": "ipython3",
   "version": "3.11.2"
  }
 },
 "nbformat": 4,
 "nbformat_minor": 5
}
