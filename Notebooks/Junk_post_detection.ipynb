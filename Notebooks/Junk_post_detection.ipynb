{
 "cells": [
  {
   "cell_type": "markdown",
   "id": "675abf8a",
   "metadata": {},
   "source": [
    "# Import des Data"
   ]
  },
  {
   "cell_type": "code",
   "execution_count": 3,
   "id": "c9f79094",
   "metadata": {},
   "outputs": [],
   "source": [
    "import pandas as pd"
   ]
  },
  {
   "cell_type": "code",
   "execution_count": 1,
   "id": "3957c3ca",
   "metadata": {},
   "outputs": [
    {
     "name": "stderr",
     "output_type": "stream",
     "text": [
      "C:\\Users\\a.tekiouk\\AppData\\Local\\Temp\\ipykernel_4488\\3904026442.py:2: FutureWarning: The error_bad_lines argument has been deprecated and will be removed in a future version. Use on_bad_lines in the future.\n",
      "\n",
      "\n",
      "  chanel_5k = pd.read_csv(\"C:/Users/a.tekiouk/Sujet_2/Sujet_2/DATA/chanel_5k.csv\",sep=\";\", error_bad_lines=False)\n"
     ]
    },
    {
     "data": {
      "text/plain": [
       "2285"
      ]
     },
     "execution_count": 1,
     "metadata": {},
     "output_type": "execute_result"
    }
   ],
   "source": [
    "chanel_5k = pd.read_csv(\"C:/Users/a.tekiouk/Sujet_2/Sujet_2/DATA/chanel_5k.csv\",sep=\";\", error_bad_lines=False)\n",
    "chanel = chanel_5k[chanel_5k['language'] == 'en']['text'].tolist()\n",
    "publication_time_chanel = chanel_5k[chanel_5k['language'] == 'en']['publication_time'].tolist()\n",
    "len(chanel)"
   ]
  },
  {
   "cell_type": "markdown",
   "id": "7f8c72a9",
   "metadata": {},
   "source": [
    "# Modification de la pipe"
   ]
  },
  {
   "cell_type": "code",
   "execution_count": 4,
   "id": "8d139e8f",
   "metadata": {},
   "outputs": [
    {
     "data": {
      "text/plain": [
       "<spacymoji.Emoji at 0x25ab13a7ad0>"
      ]
     },
     "execution_count": 4,
     "metadata": {},
     "output_type": "execute_result"
    }
   ],
   "source": [
    "import numpy as np\n",
    "import spacy\n",
    "\n",
    "nlp = spacy.load(\"en_core_web_sm\")\n",
    "\n",
    "from spacymoji import Emoji\n",
    "\n",
    "\n",
    "nlp.add_pipe(\"emoji\", first=True)"
   ]
  },
  {
   "cell_type": "code",
   "execution_count": 5,
   "id": "b44faad5",
   "metadata": {},
   "outputs": [],
   "source": [
    "import spacy \n",
    "from spacy.vocab import Vocab\n",
    "from spacy.language import Language\n",
    "from spacy.tokens import Token\n",
    "\n",
    "\n",
    "@Language.component(\"hashtag\")\n",
    "def hashtag_pipe(doc):\n",
    "    merged_hashtag = False\n",
    "    while True:\n",
    "        for token in doc:\n",
    "            if token.text == '#':\n",
    "                if token.head is not None:\n",
    "                    start_index = token.i\n",
    "                    end_index = start_index + 1\n",
    "                    with doc.retokenize() as retokenizer:\n",
    "                        retokenizer.merge(doc[start_index:end_index+1])\n",
    "                        merged_hashtag = True\n",
    "                        break\n",
    "        if not merged_hashtag:\n",
    "            break\n",
    "        merged_hashtag = False\n",
    "    return doc\n"
   ]
  },
  {
   "cell_type": "code",
   "execution_count": 6,
   "id": "4c51bee2",
   "metadata": {},
   "outputs": [],
   "source": [
    "nlp.add_pipe(\"hashtag\", first=True)\n",
    "hashtag_getter = lambda token: token.text[0] in (\"#\")\n",
    "Token.set_extension(\"is_hashtag\", getter=hashtag_getter, force=True)"
   ]
  },
  {
   "cell_type": "markdown",
   "id": "a8d1fbf0",
   "metadata": {},
   "source": [
    "# Métohdes"
   ]
  },
  {
   "cell_type": "code",
   "execution_count": 7,
   "id": "a1a3e567",
   "metadata": {},
   "outputs": [],
   "source": [
    "def top_hashtags(text, N, top):\n",
    "    hashtag = []\n",
    "    index_vector = np.random.randint(len(text), size=N)\n",
    "    for i in index_vector:\n",
    "        doc = nlp(text[i])\n",
    "        for token in doc:\n",
    "            if token._.is_hashtag:\n",
    "                hashtag.append(token.text)\n",
    "    Hashtag_corpus = pd.DataFrame()\n",
    "    Hashtag_corpus['hashtag'] = hashtag\n",
    "    Hashtag_corpus2 = Hashtag_corpus.groupby(\"hashtag\").size()\n",
    "    print(Hashtag_corpus2.nlargest(top).tail(top))"
   ]
  },
  {
   "cell_type": "code",
   "execution_count": 8,
   "id": "b2bb882c",
   "metadata": {},
   "outputs": [],
   "source": [
    "def top_emojis(text, N, top):\n",
    "    emoji = []\n",
    "    index_vector = np.random.randint(len(text), size=N)\n",
    "    for i in index_vector:\n",
    "        doc = nlp(text[i])\n",
    "        for token in doc:\n",
    "            if token._.is_emoji:\n",
    "                emoji.append(token.text)\n",
    "    Emoji_corpus = pd.DataFrame()\n",
    "    Emoji_corpus['emoji'] = emoji\n",
    "    Emoji_corpus2 = Emoji_corpus.groupby(\"emoji\").size()\n",
    "    print(Emoji_corpus2.nlargest(top).tail(top))"
   ]
  },
  {
   "cell_type": "code",
   "execution_count": 10,
   "id": "8cd78142",
   "metadata": {},
   "outputs": [],
   "source": [
    "def word_ratio(df):\n",
    "    ratio = []\n",
    "    p=0\n",
    "    for i in df['text']:\n",
    "        doc = nlp(i)\n",
    "        nb_word = 0\n",
    "        nb_hash = 0\n",
    "        for token in doc:\n",
    "            if(token._.is_hashtag):\n",
    "                nb_hash+=1\n",
    "            else:\n",
    "                nb_word+=1\n",
    "        ratio.append(nb_word/(nb_hash+nb_word))\n",
    "        print(p)\n",
    "        p=p+1\n",
    "    df['ratio_word'] = ratio\n",
    "    return df"
   ]
  },
  {
   "cell_type": "code",
   "execution_count": 11,
   "id": "e3bfa4b2",
   "metadata": {},
   "outputs": [],
   "source": [
    "def caps_ratio(df):\n",
    "    ratio = []\n",
    "    for i in df['text']:\n",
    "        doc = nlp(i)\n",
    "        nb_lower = 0\n",
    "        nb_caps = 0\n",
    "        for token in doc:\n",
    "            if(token.text.isupper()):\n",
    "                nb_caps+=1\n",
    "            else:\n",
    "                nb_lower+=1\n",
    "        ratio.append(nb_caps/(nb_caps+nb_lower))\n",
    "    df['ratio_caps'] = ratio\n",
    "    return df"
   ]
  },
  {
   "cell_type": "code",
   "execution_count": 12,
   "id": "30eb08c2",
   "metadata": {},
   "outputs": [],
   "source": [
    "import re\n",
    "\n",
    "def clean_hashtag(t): #--text\n",
    "    hashtag_pattern= re.compile(\"#[A-Za-z0-9_]+\")\n",
    "    return re.sub(hashtag_pattern,\"\", t) #On supprime tout les types de #\n",
    "\n",
    "\n",
    "def del_double(txt,publication_time,s,method): # --text --liste des date et heure de publication pour chaque élément de la liste --seuil (s dans [0;1] ou [0;100] selon la méthode) --méthode\n",
    "    t = txt.copy()\n",
    "    distance = method #initialisiation de levenshtein avec la distance normalisée.\n",
    "    i = 0\n",
    "    r = len(t)\n",
    "    while(i<r):\n",
    "        r = len(t)\n",
    "        j=i+1\n",
    "        while(j<r):\n",
    "            if(distance(clean_hashtag(t[i]).strip(),clean_hashtag(t[j]).strip()) <= s ): # Si la distance entre les deux élemens de la liste inf à seuil\n",
    "                if(publication_time[i]<publication_time[j]):\n",
    "                    del t[j] #delete\n",
    "                    r = len(t) #on actualise la taille de la listes\n",
    "                else:\n",
    "                    del t[i]\n",
    "                    r = len(t) #on actualise la taille de la listes\n",
    "            else:\n",
    "                j+=1\n",
    "        i+=1\n",
    "    return t"
   ]
  },
  {
   "cell_type": "markdown",
   "id": "3bd117ef",
   "metadata": {},
   "source": [
    "# Creation d'un sample de validation"
   ]
  },
  {
   "cell_type": "code",
   "execution_count": 11,
   "id": "7042c0ba",
   "metadata": {
    "collapsed": true
   },
   "outputs": [
    {
     "ename": "NameError",
     "evalue": "name 'chanel' is not defined",
     "output_type": "error",
     "traceback": [
      "\u001b[1;31m---------------------------------------------------------------------------\u001b[0m",
      "\u001b[1;31mNameError\u001b[0m                                 Traceback (most recent call last)",
      "Cell \u001b[1;32mIn[11], line 2\u001b[0m\n\u001b[0;32m      1\u001b[0m \u001b[38;5;28;01mimport\u001b[39;00m \u001b[38;5;21;01mrandom\u001b[39;00m\n\u001b[1;32m----> 2\u001b[0m chanel_junk_valid \u001b[38;5;241m=\u001b[39m random\u001b[38;5;241m.\u001b[39mchoices(\u001b[43mchanel\u001b[49m, k\u001b[38;5;241m=\u001b[39m\u001b[38;5;241m700\u001b[39m)\n",
      "\u001b[1;31mNameError\u001b[0m: name 'chanel' is not defined"
     ]
    }
   ],
   "source": [
    "import random\n",
    "chanel_junk_valid = random.choices(chanel, k=700)"
   ]
  },
  {
   "cell_type": "code",
   "execution_count": 17,
   "id": "8dcc7785",
   "metadata": {},
   "outputs": [],
   "source": [
    "import textdistance\n",
    "dist = textdistance.levenshtein.normalized_distance\n",
    "chanel_junk_valid_dd = del_double(chanel_junk_valid,publication_time_chanel,0.5,dist)"
   ]
  },
  {
   "cell_type": "code",
   "execution_count": 18,
   "id": "1a47bbff",
   "metadata": {},
   "outputs": [
    {
     "data": {
      "text/plain": [
       "207"
      ]
     },
     "execution_count": 18,
     "metadata": {},
     "output_type": "execute_result"
    }
   ],
   "source": [
    "len(chanel_junk_valid_dd)"
   ]
  },
  {
   "cell_type": "code",
   "execution_count": 19,
   "id": "4726251b",
   "metadata": {},
   "outputs": [],
   "source": [
    "chanel_junk_valid_df= pd.DataFrame()\n",
    "chanel_junk_valid_df['text'] = chanel_junk_valid_dd"
   ]
  },
  {
   "cell_type": "code",
   "execution_count": 20,
   "id": "1ff6d698",
   "metadata": {},
   "outputs": [],
   "source": [
    "chanel_junk_valid_df.to_csv(\"C:/Users/a.tekiouk/Sujet_2/Sujet_2/DATA/chanel_junk_valid.csv\")\n",
    "# Ajout de la variable is_junk sur excel"
   ]
  },
  {
   "cell_type": "code",
   "execution_count": 13,
   "id": "e2e63044",
   "metadata": {},
   "outputs": [],
   "source": [
    "chanel_junk_valid_new = pd.read_excel('C:/Users/a.tekiouk/Sujet_2/Sujet_2/DATA/chanel_junk_valid_new.xlsx')\n",
    "chanel_junk_valid_new = chanel_junk_valid_new[['text','is_junk']]"
   ]
  },
  {
   "cell_type": "code",
   "execution_count": 14,
   "id": "dd27e0fc",
   "metadata": {},
   "outputs": [
    {
     "data": {
      "text/html": [
       "<div>\n",
       "<style scoped>\n",
       "    .dataframe tbody tr th:only-of-type {\n",
       "        vertical-align: middle;\n",
       "    }\n",
       "\n",
       "    .dataframe tbody tr th {\n",
       "        vertical-align: top;\n",
       "    }\n",
       "\n",
       "    .dataframe thead th {\n",
       "        text-align: right;\n",
       "    }\n",
       "</style>\n",
       "<table border=\"1\" class=\"dataframe\">\n",
       "  <thead>\n",
       "    <tr style=\"text-align: right;\">\n",
       "      <th></th>\n",
       "      <th>text</th>\n",
       "      <th>is_junk</th>\n",
       "    </tr>\n",
       "  </thead>\n",
       "  <tbody>\n",
       "    <tr>\n",
       "      <th>0</th>\n",
       "      <td>The camelia - a long time symbol of Chanel and...</td>\n",
       "      <td>0</td>\n",
       "    </tr>\n",
       "    <tr>\n",
       "      <th>1</th>\n",
       "      <td>Wknds are my happy place 🤍 even if they do inc...</td>\n",
       "      <td>1</td>\n",
       "    </tr>\n",
       "    <tr>\n",
       "      <th>2</th>\n",
       "      <td>Used Card holder XL 24999.-\\n\\nLine: 244xfzmn</td>\n",
       "      <td>1</td>\n",
       "    </tr>\n",
       "    <tr>\n",
       "      <th>3</th>\n",
       "      <td>My love for a chanelofficial classic flap 😌| #...</td>\n",
       "      <td>0</td>\n",
       "    </tr>\n",
       "    <tr>\n",
       "      <th>4</th>\n",
       "      <td>HAPPY BIRTHDAY KING KUMA\\n\\nJENNIE #SOLO STAGE...</td>\n",
       "      <td>1</td>\n",
       "    </tr>\n",
       "  </tbody>\n",
       "</table>\n",
       "</div>"
      ],
      "text/plain": [
       "                                                text  is_junk\n",
       "0  The camelia - a long time symbol of Chanel and...        0\n",
       "1  Wknds are my happy place 🤍 even if they do inc...        1\n",
       "2      Used Card holder XL 24999.-\\n\\nLine: 244xfzmn        1\n",
       "3  My love for a chanelofficial classic flap 😌| #...        0\n",
       "4  HAPPY BIRTHDAY KING KUMA\\n\\nJENNIE #SOLO STAGE...        1"
      ]
     },
     "execution_count": 14,
     "metadata": {},
     "output_type": "execute_result"
    }
   ],
   "source": [
    "chanel_junk_valid_new.head()"
   ]
  },
  {
   "cell_type": "markdown",
   "id": "d477dabf",
   "metadata": {},
   "source": [
    "# Ajout de features"
   ]
  },
  {
   "cell_type": "code",
   "execution_count": 65,
   "id": "2e4c80ad",
   "metadata": {},
   "outputs": [],
   "source": [
    "chanel_junk_valid_new_temp = chanel_junk_valid_new.drop(chanel_junk_valid_new.index[102])"
   ]
  },
  {
   "cell_type": "markdown",
   "id": "fc6099cc",
   "metadata": {},
   "source": [
    "### Ratio de mot"
   ]
  },
  {
   "cell_type": "code",
   "execution_count": 66,
   "id": "a3960316",
   "metadata": {
    "collapsed": true
   },
   "outputs": [
    {
     "name": "stdout",
     "output_type": "stream",
     "text": [
      "0\n",
      "1\n",
      "2\n",
      "3\n",
      "4\n",
      "5\n",
      "6\n",
      "7\n",
      "8\n",
      "9\n",
      "10\n",
      "11\n",
      "12\n",
      "13\n",
      "14\n",
      "15\n",
      "16\n",
      "17\n",
      "18\n",
      "19\n",
      "20\n",
      "21\n",
      "22\n",
      "23\n",
      "24\n",
      "25\n",
      "26\n",
      "27\n",
      "28\n",
      "29\n",
      "30\n",
      "31\n",
      "32\n",
      "33\n",
      "34\n",
      "35\n",
      "36\n",
      "37\n",
      "38\n",
      "39\n",
      "40\n",
      "41\n",
      "42\n",
      "43\n",
      "44\n",
      "45\n",
      "46\n",
      "47\n",
      "48\n",
      "49\n",
      "50\n",
      "51\n",
      "52\n",
      "53\n",
      "54\n",
      "55\n",
      "56\n",
      "57\n",
      "58\n",
      "59\n",
      "60\n",
      "61\n",
      "62\n",
      "63\n",
      "64\n",
      "65\n",
      "66\n",
      "67\n",
      "68\n",
      "69\n",
      "70\n",
      "71\n",
      "72\n",
      "73\n",
      "74\n",
      "75\n",
      "76\n",
      "77\n",
      "78\n",
      "79\n",
      "80\n",
      "81\n",
      "82\n",
      "83\n",
      "84\n",
      "85\n",
      "86\n",
      "87\n",
      "88\n",
      "89\n",
      "90\n",
      "91\n",
      "92\n",
      "93\n",
      "94\n",
      "95\n",
      "96\n",
      "97\n",
      "98\n",
      "99\n",
      "100\n",
      "101\n",
      "102\n",
      "103\n",
      "104\n",
      "105\n",
      "106\n",
      "107\n",
      "108\n",
      "109\n",
      "110\n",
      "111\n",
      "112\n",
      "113\n",
      "114\n",
      "115\n",
      "116\n",
      "117\n",
      "118\n",
      "119\n",
      "120\n",
      "121\n",
      "122\n",
      "123\n",
      "124\n",
      "125\n",
      "126\n",
      "127\n",
      "128\n",
      "129\n"
     ]
    },
    {
     "ename": "KeyboardInterrupt",
     "evalue": "",
     "output_type": "error",
     "traceback": [
      "\u001b[1;31m---------------------------------------------------------------------------\u001b[0m",
      "\u001b[1;31mKeyboardInterrupt\u001b[0m                         Traceback (most recent call last)",
      "Cell \u001b[1;32mIn[66], line 1\u001b[0m\n\u001b[1;32m----> 1\u001b[0m \u001b[43mword_ratio\u001b[49m\u001b[43m(\u001b[49m\u001b[43mchanel_junk_valid_new_temp\u001b[49m\u001b[43m)\u001b[49m\n",
      "Cell \u001b[1;32mIn[10], line 5\u001b[0m, in \u001b[0;36mword_ratio\u001b[1;34m(df)\u001b[0m\n\u001b[0;32m      3\u001b[0m p\u001b[38;5;241m=\u001b[39m\u001b[38;5;241m0\u001b[39m\n\u001b[0;32m      4\u001b[0m \u001b[38;5;28;01mfor\u001b[39;00m i \u001b[38;5;129;01min\u001b[39;00m df[\u001b[38;5;124m'\u001b[39m\u001b[38;5;124mtext\u001b[39m\u001b[38;5;124m'\u001b[39m]:\n\u001b[1;32m----> 5\u001b[0m     doc \u001b[38;5;241m=\u001b[39m \u001b[43mnlp\u001b[49m\u001b[43m(\u001b[49m\u001b[43mi\u001b[49m\u001b[43m)\u001b[49m\n\u001b[0;32m      6\u001b[0m     nb_word \u001b[38;5;241m=\u001b[39m \u001b[38;5;241m0\u001b[39m\n\u001b[0;32m      7\u001b[0m     nb_hash \u001b[38;5;241m=\u001b[39m \u001b[38;5;241m0\u001b[39m\n",
      "File \u001b[1;32m~\\AppData\\Local\\Programs\\Python\\Python311\\Lib\\site-packages\\spacy\\language.py:1011\u001b[0m, in \u001b[0;36mLanguage.__call__\u001b[1;34m(self, text, disable, component_cfg)\u001b[0m\n\u001b[0;32m   1009\u001b[0m     error_handler \u001b[38;5;241m=\u001b[39m proc\u001b[38;5;241m.\u001b[39mget_error_handler()\n\u001b[0;32m   1010\u001b[0m \u001b[38;5;28;01mtry\u001b[39;00m:\n\u001b[1;32m-> 1011\u001b[0m     doc \u001b[38;5;241m=\u001b[39m \u001b[43mproc\u001b[49m\u001b[43m(\u001b[49m\u001b[43mdoc\u001b[49m\u001b[43m,\u001b[49m\u001b[43m \u001b[49m\u001b[38;5;241;43m*\u001b[39;49m\u001b[38;5;241;43m*\u001b[39;49m\u001b[43mcomponent_cfg\u001b[49m\u001b[38;5;241;43m.\u001b[39;49m\u001b[43mget\u001b[49m\u001b[43m(\u001b[49m\u001b[43mname\u001b[49m\u001b[43m,\u001b[49m\u001b[43m \u001b[49m\u001b[43m{\u001b[49m\u001b[43m}\u001b[49m\u001b[43m)\u001b[49m\u001b[43m)\u001b[49m  \u001b[38;5;66;03m# type: ignore[call-arg]\u001b[39;00m\n\u001b[0;32m   1012\u001b[0m \u001b[38;5;28;01mexcept\u001b[39;00m \u001b[38;5;167;01mKeyError\u001b[39;00m \u001b[38;5;28;01mas\u001b[39;00m e:\n\u001b[0;32m   1013\u001b[0m     \u001b[38;5;66;03m# This typically happens if a component is not initialized\u001b[39;00m\n\u001b[0;32m   1014\u001b[0m     \u001b[38;5;28;01mraise\u001b[39;00m \u001b[38;5;167;01mValueError\u001b[39;00m(Errors\u001b[38;5;241m.\u001b[39mE109\u001b[38;5;241m.\u001b[39mformat(name\u001b[38;5;241m=\u001b[39mname)) \u001b[38;5;28;01mfrom\u001b[39;00m \u001b[38;5;21;01me\u001b[39;00m\n",
      "Cell \u001b[1;32mIn[5], line 16\u001b[0m, in \u001b[0;36mhashtag_pipe\u001b[1;34m(doc)\u001b[0m\n\u001b[0;32m     14\u001b[0m start_index \u001b[38;5;241m=\u001b[39m token\u001b[38;5;241m.\u001b[39mi\n\u001b[0;32m     15\u001b[0m end_index \u001b[38;5;241m=\u001b[39m start_index \u001b[38;5;241m+\u001b[39m \u001b[38;5;241m1\u001b[39m\n\u001b[1;32m---> 16\u001b[0m \u001b[43m\u001b[49m\u001b[38;5;28;43;01mwith\u001b[39;49;00m\u001b[43m \u001b[49m\u001b[43mdoc\u001b[49m\u001b[38;5;241;43m.\u001b[39;49m\u001b[43mretokenize\u001b[49m\u001b[43m(\u001b[49m\u001b[43m)\u001b[49m\u001b[43m \u001b[49m\u001b[38;5;28;43;01mas\u001b[39;49;00m\u001b[43m \u001b[49m\u001b[43mretokenizer\u001b[49m\u001b[43m:\u001b[49m\n\u001b[0;32m     17\u001b[0m \u001b[43m    \u001b[49m\u001b[43mretokenizer\u001b[49m\u001b[38;5;241;43m.\u001b[39;49m\u001b[43mmerge\u001b[49m\u001b[43m(\u001b[49m\u001b[43mdoc\u001b[49m\u001b[43m[\u001b[49m\u001b[43mstart_index\u001b[49m\u001b[43m:\u001b[49m\u001b[43mend_index\u001b[49m\u001b[38;5;241;43m+\u001b[39;49m\u001b[38;5;241;43m1\u001b[39;49m\u001b[43m]\u001b[49m\u001b[43m)\u001b[49m\n\u001b[0;32m     18\u001b[0m \u001b[43m    \u001b[49m\u001b[43mmerged_hashtag\u001b[49m\u001b[43m \u001b[49m\u001b[38;5;241;43m=\u001b[39;49m\u001b[43m \u001b[49m\u001b[38;5;28;43;01mTrue\u001b[39;49;00m\n",
      "File \u001b[1;32m~\\AppData\\Local\\Programs\\Python\\Python311\\Lib\\site-packages\\spacy\\tokens\\_retokenize.pyx:114\u001b[0m, in \u001b[0;36mspacy.tokens._retokenize.Retokenizer.__exit__\u001b[1;34m()\u001b[0m\n",
      "File \u001b[1;32m~\\AppData\\Local\\Programs\\Python\\Python311\\Lib\\site-packages\\spacy\\tokens\\_retokenize.pyx:222\u001b[0m, in \u001b[0;36mspacy.tokens._retokenize._merge\u001b[1;34m()\u001b[0m\n",
      "File \u001b[1;32m~\\AppData\\Local\\Programs\\Python\\Python311\\Lib\\site-packages\\spacy\\vocab.pyx:403\u001b[0m, in \u001b[0;36mspacy.vocab.Vocab.get_vector\u001b[1;34m()\u001b[0m\n",
      "File \u001b[1;32m~\\AppData\\Local\\Programs\\Python\\Python311\\Lib\\site-packages\\thinc\\util.py:50\u001b[0m, in \u001b[0;36mget_array_module\u001b[1;34m(arr)\u001b[0m\n\u001b[0;32m     49\u001b[0m \u001b[38;5;28;01mdef\u001b[39;00m \u001b[38;5;21mget_array_module\u001b[39m(arr):  \u001b[38;5;66;03m# pragma: no cover\u001b[39;00m\n\u001b[1;32m---> 50\u001b[0m     \u001b[38;5;28;01mif\u001b[39;00m \u001b[43mis_numpy_array\u001b[49m\u001b[43m(\u001b[49m\u001b[43marr\u001b[49m\u001b[43m)\u001b[49m:\n\u001b[0;32m     51\u001b[0m         \u001b[38;5;28;01mreturn\u001b[39;00m numpy\n\u001b[0;32m     52\u001b[0m     \u001b[38;5;28;01melif\u001b[39;00m is_cupy_array(arr):\n",
      "File \u001b[1;32m~\\AppData\\Local\\Programs\\Python\\Python311\\Lib\\site-packages\\thinc\\util.py:96\u001b[0m, in \u001b[0;36mis_numpy_array\u001b[1;34m(obj)\u001b[0m\n\u001b[0;32m     92\u001b[0m     \u001b[38;5;28;01melse\u001b[39;00m:\n\u001b[0;32m     93\u001b[0m         \u001b[38;5;28;01mreturn\u001b[39;00m \u001b[38;5;28;01mFalse\u001b[39;00m\n\u001b[1;32m---> 96\u001b[0m \u001b[38;5;28;01mdef\u001b[39;00m \u001b[38;5;21mis_numpy_array\u001b[39m(obj: Any) \u001b[38;5;241m-\u001b[39m\u001b[38;5;241m>\u001b[39m \u001b[38;5;28mbool\u001b[39m:\n\u001b[0;32m     97\u001b[0m \u001b[38;5;250m    \u001b[39m\u001b[38;5;124;03m\"\"\"Check whether an object is a numpy array.\"\"\"\u001b[39;00m\n\u001b[0;32m     98\u001b[0m     \u001b[38;5;28;01mif\u001b[39;00m \u001b[38;5;28misinstance\u001b[39m(obj, numpy\u001b[38;5;241m.\u001b[39mndarray):\n",
      "\u001b[1;31mKeyboardInterrupt\u001b[0m: "
     ]
    }
   ],
   "source": [
    "word_ratio(chanel_junk_valid_new_temp)"
   ]
  },
  {
   "cell_type": "code",
   "execution_count": null,
   "id": "3b9e757d",
   "metadata": {},
   "outputs": [],
   "source": [
    "chanel_junk_valid_new.head()"
   ]
  },
  {
   "cell_type": "markdown",
   "id": "4add183c",
   "metadata": {},
   "source": [
    "### Ratio de caps"
   ]
  },
  {
   "cell_type": "code",
   "execution_count": null,
   "id": "48c1cb52",
   "metadata": {},
   "outputs": [],
   "source": [
    "caps_ratio(chanel_junk_valid_new)"
   ]
  },
  {
   "cell_type": "code",
   "execution_count": 20,
   "id": "f16a2955",
   "metadata": {
    "collapsed": true
   },
   "outputs": [
    {
     "data": {
      "text/html": [
       "<div>\n",
       "<style scoped>\n",
       "    .dataframe tbody tr th:only-of-type {\n",
       "        vertical-align: middle;\n",
       "    }\n",
       "\n",
       "    .dataframe tbody tr th {\n",
       "        vertical-align: top;\n",
       "    }\n",
       "\n",
       "    .dataframe thead th {\n",
       "        text-align: right;\n",
       "    }\n",
       "</style>\n",
       "<table border=\"1\" class=\"dataframe\">\n",
       "  <thead>\n",
       "    <tr style=\"text-align: right;\">\n",
       "      <th></th>\n",
       "      <th>text</th>\n",
       "      <th>is_junk</th>\n",
       "    </tr>\n",
       "  </thead>\n",
       "  <tbody>\n",
       "    <tr>\n",
       "      <th>0</th>\n",
       "      <td>The camelia - a long time symbol of Chanel and...</td>\n",
       "      <td>0</td>\n",
       "    </tr>\n",
       "    <tr>\n",
       "      <th>1</th>\n",
       "      <td>Wknds are my happy place 🤍 even if they do inc...</td>\n",
       "      <td>1</td>\n",
       "    </tr>\n",
       "    <tr>\n",
       "      <th>2</th>\n",
       "      <td>Used Card holder XL 24999.-\\n\\nLine: 244xfzmn</td>\n",
       "      <td>1</td>\n",
       "    </tr>\n",
       "    <tr>\n",
       "      <th>3</th>\n",
       "      <td>My love for a chanelofficial classic flap 😌| #...</td>\n",
       "      <td>0</td>\n",
       "    </tr>\n",
       "    <tr>\n",
       "      <th>4</th>\n",
       "      <td>HAPPY BIRTHDAY KING KUMA\\n\\nJENNIE #SOLO STAGE...</td>\n",
       "      <td>1</td>\n",
       "    </tr>\n",
       "  </tbody>\n",
       "</table>\n",
       "</div>"
      ],
      "text/plain": [
       "                                                text  is_junk\n",
       "0  The camelia - a long time symbol of Chanel and...        0\n",
       "1  Wknds are my happy place 🤍 even if they do inc...        1\n",
       "2      Used Card holder XL 24999.-\\n\\nLine: 244xfzmn        1\n",
       "3  My love for a chanelofficial classic flap 😌| #...        0\n",
       "4  HAPPY BIRTHDAY KING KUMA\\n\\nJENNIE #SOLO STAGE...        1"
      ]
     },
     "execution_count": 20,
     "metadata": {},
     "output_type": "execute_result"
    }
   ],
   "source": [
    "chanel_junk_valid_new.head()"
   ]
  },
  {
   "cell_type": "markdown",
   "id": "cd114677",
   "metadata": {},
   "source": [
    "### Top hashtags"
   ]
  },
  {
   "cell_type": "code",
   "execution_count": null,
   "id": "0b4417d6",
   "metadata": {},
   "outputs": [],
   "source": [
    "top_hashtags(chanel_junk_valid_new)"
   ]
  },
  {
   "cell_type": "markdown",
   "id": "9eef4c9d",
   "metadata": {},
   "source": [
    "### Top emojis"
   ]
  },
  {
   "cell_type": "code",
   "execution_count": null,
   "id": "f7054ec9",
   "metadata": {},
   "outputs": [],
   "source": [
    "top_emojis(chanel_junk_valid_new)"
   ]
  }
 ],
 "metadata": {
  "kernelspec": {
   "display_name": "Python 3 (ipykernel)",
   "language": "python",
   "name": "python3"
  },
  "language_info": {
   "codemirror_mode": {
    "name": "ipython",
    "version": 3
   },
   "file_extension": ".py",
   "mimetype": "text/x-python",
   "name": "python",
   "nbconvert_exporter": "python",
   "pygments_lexer": "ipython3",
   "version": "3.11.2"
  }
 },
 "nbformat": 4,
 "nbformat_minor": 5
}
