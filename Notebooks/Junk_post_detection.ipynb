{
 "cells": [
  {
   "cell_type": "markdown",
   "id": "675abf8a",
   "metadata": {},
   "source": [
    "# Import des Data"
   ]
  },
  {
   "cell_type": "code",
   "execution_count": 1,
   "id": "c9f79094",
   "metadata": {},
   "outputs": [],
   "source": [
    "import pandas as pd"
   ]
  },
  {
   "cell_type": "code",
   "execution_count": 1,
   "id": "3957c3ca",
   "metadata": {},
   "outputs": [
    {
     "name": "stderr",
     "output_type": "stream",
     "text": [
      "C:\\Users\\a.tekiouk\\AppData\\Local\\Temp\\ipykernel_4488\\3904026442.py:2: FutureWarning: The error_bad_lines argument has been deprecated and will be removed in a future version. Use on_bad_lines in the future.\n",
      "\n",
      "\n",
      "  chanel_5k = pd.read_csv(\"C:/Users/a.tekiouk/Sujet_2/Sujet_2/DATA/chanel_5k.csv\",sep=\";\", error_bad_lines=False)\n"
     ]
    },
    {
     "data": {
      "text/plain": [
       "2285"
      ]
     },
     "execution_count": 1,
     "metadata": {},
     "output_type": "execute_result"
    }
   ],
   "source": [
    "chanel_5k = pd.read_csv(\"C:/Users/a.tekiouk/Sujet_2/Sujet_2/DATA/chanel_5k.csv\",sep=\";\", error_bad_lines=False)\n",
    "chanel = chanel_5k[chanel_5k['language'] == 'en']['text'].tolist()\n",
    "publication_time_chanel = chanel_5k[chanel_5k['language'] == 'en']['publication_time'].tolist()\n",
    "len(chanel)"
   ]
  },
  {
   "cell_type": "markdown",
   "id": "7f8c72a9",
   "metadata": {},
   "source": [
    "# Modification de la pipe"
   ]
  },
  {
   "cell_type": "code",
   "execution_count": 2,
   "id": "8d139e8f",
   "metadata": {},
   "outputs": [
    {
     "data": {
      "text/plain": [
       "<spacymoji.Emoji at 0x2430b0a2d90>"
      ]
     },
     "execution_count": 2,
     "metadata": {},
     "output_type": "execute_result"
    }
   ],
   "source": [
    "import numpy as np\n",
    "import spacy\n",
    "\n",
    "nlp = spacy.load(\"en_core_web_sm\")\n",
    "\n",
    "from spacymoji import Emoji\n",
    "\n",
    "\n",
    "nlp.add_pipe(\"emoji\", first=True)"
   ]
  },
  {
   "cell_type": "code",
   "execution_count": 4,
   "id": "b44faad5",
   "metadata": {},
   "outputs": [],
   "source": [
    "import spacy \n",
    "from spacy.vocab import Vocab\n",
    "from spacy.language import Language\n",
    "from spacy.tokens import Token\n",
    "\n",
    "\n",
    "@Language.component(\"hashtag\")\n",
    "def hashtag_pipe(doc):\n",
    "    merged_hashtag = False\n",
    "    while True:\n",
    "        for token in doc:\n",
    "            if token.text == '#':\n",
    "                if token.head is not None:\n",
    "                    start_index = token.i\n",
    "                    end_index = start_index + 1\n",
    "                    with doc.retokenize() as retokenizer:\n",
    "                        retokenizer.merge(doc[start_index:end_index+1])\n",
    "                        merged_hashtag = True\n",
    "                        break\n",
    "        if not merged_hashtag:\n",
    "            break\n",
    "        merged_hashtag = False\n",
    "    return doc\n"
   ]
  },
  {
   "cell_type": "code",
   "execution_count": 5,
   "id": "4c51bee2",
   "metadata": {},
   "outputs": [],
   "source": [
    "nlp.add_pipe(\"hashtag\", first=True)\n",
    "hashtag_getter = lambda token: token.text[0] in (\"#\")\n",
    "Token.set_extension(\"is_hashtag\", getter=hashtag_getter, force=True)"
   ]
  },
  {
   "cell_type": "markdown",
   "id": "a8d1fbf0",
   "metadata": {},
   "source": [
    "# Métohdes"
   ]
  },
  {
   "cell_type": "code",
   "execution_count": 6,
   "id": "bcfe3e2e",
   "metadata": {},
   "outputs": [],
   "source": [
    "def clean_right_side(df):\n",
    "        for i in range(len(df['text'])):\n",
    "            if(df['text'][i][-1]==\"#\"):\n",
    "                df['text'][i] = df['text'][i].rstrip(df['text'][i][-1])"
   ]
  },
  {
   "cell_type": "code",
   "execution_count": 7,
   "id": "a1a3e567",
   "metadata": {},
   "outputs": [],
   "source": [
    "def top_hashtags(text, top):\n",
    "    hashtag = []\n",
    "    for i in text:\n",
    "        doc = nlp(i)\n",
    "        for token in doc:\n",
    "            if token._.is_hashtag:\n",
    "                hashtag.append(token.text)\n",
    "    Hashtag_corpus = pd.DataFrame()\n",
    "    Hashtag_corpus['hashtag'] = hashtag\n",
    "    Hashtag_corpus2 = Hashtag_corpus.groupby(\"hashtag\").size()\n",
    "    return Hashtag_corpus2.nlargest(top).tail(top)"
   ]
  },
  {
   "cell_type": "code",
   "execution_count": 8,
   "id": "b2bb882c",
   "metadata": {},
   "outputs": [],
   "source": [
    "def top_emojis(text, top):\n",
    "    emoji = []\n",
    "    for i in text:\n",
    "        doc = nlp(i)\n",
    "        for token in doc:\n",
    "            if token._.is_emoji:\n",
    "                emoji.append(token.text)\n",
    "    Emoji_corpus = pd.DataFrame()\n",
    "    Emoji_corpus['emoji'] = emoji\n",
    "    Emoji_corpus2 = Emoji_corpus.groupby(\"emoji\").size()\n",
    "    print(Emoji_corpus2.nlargest(top))"
   ]
  },
  {
   "cell_type": "code",
   "execution_count": 9,
   "id": "14adac96",
   "metadata": {},
   "outputs": [],
   "source": [
    "def dummy_hashtags(df, top):\n",
    "    hashtag = []\n",
    "    for i in df[df['is_junk']==1]['text']:\n",
    "        doc = nlp(i)\n",
    "        for token in doc:\n",
    "            if token._.is_hashtag:\n",
    "                hashtag.append(token.text)\n",
    "    Hashtag_corpus = pd.DataFrame()\n",
    "    Hashtag_corpus['hashtag'] = hashtag\n",
    "    Hashtag_corpus2 = Hashtag_corpus.groupby(\"hashtag\").size().nlargest(top).tail(top)\n",
    "    df_hash = pd.DataFrame(Hashtag_corpus2.index)\n",
    "    print(df_hash)\n",
    "    j=0\n",
    "    for e in df_hash['hashtag']:\n",
    "        dummy = []\n",
    "        for t in df['text']:\n",
    "            if(e in t):\n",
    "                dummy.append(1)\n",
    "            else:\n",
    "                dummy.append(0)\n",
    "        df['has_hash_'+str(j)] = dummy\n",
    "        j=j+1"
   ]
  },
  {
   "cell_type": "code",
   "execution_count": 10,
   "id": "ae810af1",
   "metadata": {},
   "outputs": [],
   "source": [
    "def dummy_emojis(df,top):\n",
    "    emoji = []\n",
    "    for i in df[df['is_junk']==1]['text']:\n",
    "        doc = nlp(i)\n",
    "        for token in doc:\n",
    "            if token._.is_emoji:\n",
    "                emoji.append(token.text)\n",
    "    Emoji_corpus = pd.DataFrame()\n",
    "    Emoji_corpus['emoji'] = emoji\n",
    "    Emoji_corpus2= pd.DataFrame(Emoji_corpus.groupby(\"emoji\").size().nlargest(top).tail(top))\n",
    "    df_emo = pd.DataFrame(Emoji_corpus2.index)\n",
    "    j=0\n",
    "    for e in df_emo['emoji']:\n",
    "        dummy = []\n",
    "        for t in df['text']:\n",
    "            if(e in t):\n",
    "                dummy.append(1)\n",
    "            else:\n",
    "                dummy.append(0)\n",
    "        df['has_emo_'+str(j)] = dummy\n",
    "        j=j+1"
   ]
  },
  {
   "cell_type": "code",
   "execution_count": 11,
   "id": "8cd78142",
   "metadata": {},
   "outputs": [],
   "source": [
    "def word_ratio(df):\n",
    "    ratio = []\n",
    "    for i in df['text']:\n",
    "        doc = nlp(i)\n",
    "        nb_word = 0\n",
    "        nb_hash = 0\n",
    "        for token in doc:\n",
    "            if(token._.is_hashtag):\n",
    "                nb_hash+=1\n",
    "            else:\n",
    "                nb_word+=1\n",
    "        if((nb_hash+nb_word)!=0):\n",
    "            ratio.append(nb_word/(nb_hash+nb_word))\n",
    "        else:\n",
    "            ratio.append(0)  \n",
    "    df['ratio_word'] = ratio"
   ]
  },
  {
   "cell_type": "code",
   "execution_count": 12,
   "id": "e3bfa4b2",
   "metadata": {},
   "outputs": [],
   "source": [
    "def caps_ratio(df):\n",
    "    ratio = []\n",
    "    for i in df['text']:\n",
    "        doc = nlp(clean_hashtag(i))\n",
    "        nb_lower = 0\n",
    "        nb_caps = 0\n",
    "        for token in doc:\n",
    "            if(token.text.isupper()):\n",
    "                nb_caps+=1\n",
    "            else:\n",
    "                nb_lower+=1\n",
    "        if((nb_caps+nb_lower)!=0):\n",
    "            ratio.append(nb_caps/(nb_caps+nb_lower))\n",
    "        else:\n",
    "            ratio.append(1)\n",
    "    df['ratio_caps'] = ratio"
   ]
  },
  {
   "cell_type": "code",
   "execution_count": 13,
   "id": "dbd98a38",
   "metadata": {},
   "outputs": [],
   "source": [
    "def nb_punct(df):\n",
    "    tot = []\n",
    "    for i in df['text']:\n",
    "        doc = nlp(clean_hashtag(i))\n",
    "        nb_punct = 0\n",
    "        for token in doc:\n",
    "            if(token.is_punct):\n",
    "                nb_punct+=1\n",
    "        tot.append(nb_punct)\n",
    "    df['nb_punct'] = tot"
   ]
  },
  {
   "cell_type": "code",
   "execution_count": 14,
   "id": "30eb08c2",
   "metadata": {},
   "outputs": [],
   "source": [
    "import re\n",
    "\n",
    "def clean_hashtag(t): #--text\n",
    "    hashtag_pattern= re.compile(\"#[A-Za-z0-9_]+\")\n",
    "    return re.sub(hashtag_pattern,\"\", t) #On supprime tout les types de #\n",
    "\n",
    "\n",
    "def del_double(txt,publication_time,s,method): # --text --liste des date et heure de publication pour chaque élément de la liste --seuil (s dans [0;1] ou [0;100] selon la méthode) --méthode\n",
    "    t = txt.copy()\n",
    "    distance = method #initialisiation de levenshtein avec la distance normalisée.\n",
    "    i = 0\n",
    "    r = len(t)\n",
    "    while(i<r):\n",
    "        r = len(t)\n",
    "        j=i+1\n",
    "        while(j<r):\n",
    "            if(distance(clean_hashtag(t[i]).strip(),clean_hashtag(t[j]).strip()) <= s ): # Si la distance entre les deux élemens de la liste inf à seuil\n",
    "                if(publication_time[i]<publication_time[j]):\n",
    "                    del t[j] #delete\n",
    "                    r = len(t) #on actualise la taille de la listes\n",
    "                else:\n",
    "                    del t[i]\n",
    "                    r = len(t) #on actualise la taille de la listes\n",
    "            else:\n",
    "                j+=1\n",
    "        i+=1\n",
    "    return t"
   ]
  },
  {
   "cell_type": "markdown",
   "id": "3bd117ef",
   "metadata": {},
   "source": [
    "# Creation d'un sample de validation"
   ]
  },
  {
   "cell_type": "code",
   "execution_count": 11,
   "id": "7042c0ba",
   "metadata": {
    "collapsed": true
   },
   "outputs": [
    {
     "ename": "NameError",
     "evalue": "name 'chanel' is not defined",
     "output_type": "error",
     "traceback": [
      "\u001b[1;31m---------------------------------------------------------------------------\u001b[0m",
      "\u001b[1;31mNameError\u001b[0m                                 Traceback (most recent call last)",
      "Cell \u001b[1;32mIn[11], line 2\u001b[0m\n\u001b[0;32m      1\u001b[0m \u001b[38;5;28;01mimport\u001b[39;00m \u001b[38;5;21;01mrandom\u001b[39;00m\n\u001b[1;32m----> 2\u001b[0m chanel_junk_valid \u001b[38;5;241m=\u001b[39m random\u001b[38;5;241m.\u001b[39mchoices(\u001b[43mchanel\u001b[49m, k\u001b[38;5;241m=\u001b[39m\u001b[38;5;241m700\u001b[39m)\n",
      "\u001b[1;31mNameError\u001b[0m: name 'chanel' is not defined"
     ]
    }
   ],
   "source": [
    "import random\n",
    "chanel_junk_valid = random.choices(chanel, k=700)"
   ]
  },
  {
   "cell_type": "code",
   "execution_count": 14,
   "id": "8dcc7785",
   "metadata": {
    "collapsed": true
   },
   "outputs": [
    {
     "ename": "NameError",
     "evalue": "name 'chanel_junk_valid' is not defined",
     "output_type": "error",
     "traceback": [
      "\u001b[1;31m---------------------------------------------------------------------------\u001b[0m",
      "\u001b[1;31mNameError\u001b[0m                                 Traceback (most recent call last)",
      "Cell \u001b[1;32mIn[14], line 3\u001b[0m\n\u001b[0;32m      1\u001b[0m \u001b[38;5;28;01mimport\u001b[39;00m \u001b[38;5;21;01mtextdistance\u001b[39;00m\n\u001b[0;32m      2\u001b[0m dist \u001b[38;5;241m=\u001b[39m textdistance\u001b[38;5;241m.\u001b[39mlevenshtein\u001b[38;5;241m.\u001b[39mnormalized_distance\n\u001b[1;32m----> 3\u001b[0m chanel_junk_valid_dd \u001b[38;5;241m=\u001b[39m del_double(\u001b[43mchanel_junk_valid\u001b[49m,publication_time_chanel,\u001b[38;5;241m0.5\u001b[39m,dist)\n",
      "\u001b[1;31mNameError\u001b[0m: name 'chanel_junk_valid' is not defined"
     ]
    }
   ],
   "source": [
    "import textdistance\n",
    "dist = textdistance.levenshtein.normalized_distance\n",
    "chanel_junk_valid_dd = del_double(chanel_junk_valid,publication_time_chanel,0.5,dist)"
   ]
  },
  {
   "cell_type": "code",
   "execution_count": 18,
   "id": "1a47bbff",
   "metadata": {},
   "outputs": [
    {
     "data": {
      "text/plain": [
       "207"
      ]
     },
     "execution_count": 18,
     "metadata": {},
     "output_type": "execute_result"
    }
   ],
   "source": [
    "len(chanel_junk_valid_dd)"
   ]
  },
  {
   "cell_type": "code",
   "execution_count": 19,
   "id": "4726251b",
   "metadata": {},
   "outputs": [],
   "source": [
    "chanel_junk_valid_df= pd.DataFrame()\n",
    "chanel_junk_valid_df['text'] = chanel_junk_valid_dd"
   ]
  },
  {
   "cell_type": "code",
   "execution_count": 20,
   "id": "1ff6d698",
   "metadata": {},
   "outputs": [],
   "source": [
    "chanel_junk_valid_df.to_csv(\"C:/Users/a.tekiouk/Sujet_2/Sujet_2/DATA/chanel_junk_valid.csv\")\n",
    "# Ajout de la variable is_junk sur excel"
   ]
  },
  {
   "cell_type": "markdown",
   "id": "c1e6a2f0",
   "metadata": {},
   "source": [
    "### Sample de validation : "
   ]
  },
  {
   "cell_type": "code",
   "execution_count": 15,
   "id": "e2e63044",
   "metadata": {},
   "outputs": [],
   "source": [
    "chanel_junk_valid_new = pd.read_excel('C:/Users/a.tekiouk/Sujet_2/Sujet_2/DATA/chanel_junk_valid_new.xlsx')\n",
    "chanel_junk_valid_new = chanel_junk_valid_new[['text','is_junk']]"
   ]
  },
  {
   "cell_type": "code",
   "execution_count": 16,
   "id": "dd27e0fc",
   "metadata": {},
   "outputs": [
    {
     "data": {
      "text/html": [
       "<div>\n",
       "<style scoped>\n",
       "    .dataframe tbody tr th:only-of-type {\n",
       "        vertical-align: middle;\n",
       "    }\n",
       "\n",
       "    .dataframe tbody tr th {\n",
       "        vertical-align: top;\n",
       "    }\n",
       "\n",
       "    .dataframe thead th {\n",
       "        text-align: right;\n",
       "    }\n",
       "</style>\n",
       "<table border=\"1\" class=\"dataframe\">\n",
       "  <thead>\n",
       "    <tr style=\"text-align: right;\">\n",
       "      <th></th>\n",
       "      <th>text</th>\n",
       "      <th>is_junk</th>\n",
       "    </tr>\n",
       "  </thead>\n",
       "  <tbody>\n",
       "    <tr>\n",
       "      <th>0</th>\n",
       "      <td>The camelia - a long time symbol of Chanel and...</td>\n",
       "      <td>0</td>\n",
       "    </tr>\n",
       "    <tr>\n",
       "      <th>1</th>\n",
       "      <td>Wknds are my happy place 🤍 even if they do inc...</td>\n",
       "      <td>1</td>\n",
       "    </tr>\n",
       "    <tr>\n",
       "      <th>2</th>\n",
       "      <td>Used Card holder XL 24999.-\\n\\nLine: 244xfzmn</td>\n",
       "      <td>1</td>\n",
       "    </tr>\n",
       "    <tr>\n",
       "      <th>3</th>\n",
       "      <td>My love for a chanelofficial classic flap 😌| #...</td>\n",
       "      <td>0</td>\n",
       "    </tr>\n",
       "    <tr>\n",
       "      <th>4</th>\n",
       "      <td>HAPPY BIRTHDAY KING KUMA\\n\\nJENNIE #SOLO STAGE...</td>\n",
       "      <td>1</td>\n",
       "    </tr>\n",
       "  </tbody>\n",
       "</table>\n",
       "</div>"
      ],
      "text/plain": [
       "                                                text  is_junk\n",
       "0  The camelia - a long time symbol of Chanel and...        0\n",
       "1  Wknds are my happy place 🤍 even if they do inc...        1\n",
       "2      Used Card holder XL 24999.-\\n\\nLine: 244xfzmn        1\n",
       "3  My love for a chanelofficial classic flap 😌| #...        0\n",
       "4  HAPPY BIRTHDAY KING KUMA\\n\\nJENNIE #SOLO STAGE...        1"
      ]
     },
     "execution_count": 16,
     "metadata": {},
     "output_type": "execute_result"
    }
   ],
   "source": [
    "chanel_junk_valid_new.head()"
   ]
  },
  {
   "cell_type": "code",
   "execution_count": 18,
   "id": "8187646c",
   "metadata": {},
   "outputs": [
    {
     "name": "stderr",
     "output_type": "stream",
     "text": [
      "C:\\Users\\a.tekiouk\\AppData\\Local\\Temp\\ipykernel_10200\\1909570967.py:4: SettingWithCopyWarning: \n",
      "A value is trying to be set on a copy of a slice from a DataFrame\n",
      "\n",
      "See the caveats in the documentation: https://pandas.pydata.org/pandas-docs/stable/user_guide/indexing.html#returning-a-view-versus-a-copy\n",
      "  df['text'][i] = df['text'][i].rstrip(df['text'][i][-1])\n"
     ]
    }
   ],
   "source": [
    "clean_right_side(chanel_junk_valid_new)"
   ]
  },
  {
   "cell_type": "markdown",
   "id": "d477dabf",
   "metadata": {},
   "source": [
    "# Ajout de features"
   ]
  },
  {
   "cell_type": "markdown",
   "id": "fc6099cc",
   "metadata": {},
   "source": [
    "### Ratio de mot"
   ]
  },
  {
   "cell_type": "code",
   "execution_count": 19,
   "id": "a3960316",
   "metadata": {},
   "outputs": [],
   "source": [
    "word_ratio(chanel_junk_valid_new)"
   ]
  },
  {
   "cell_type": "code",
   "execution_count": 20,
   "id": "3b9e757d",
   "metadata": {},
   "outputs": [
    {
     "data": {
      "text/html": [
       "<div>\n",
       "<style scoped>\n",
       "    .dataframe tbody tr th:only-of-type {\n",
       "        vertical-align: middle;\n",
       "    }\n",
       "\n",
       "    .dataframe tbody tr th {\n",
       "        vertical-align: top;\n",
       "    }\n",
       "\n",
       "    .dataframe thead th {\n",
       "        text-align: right;\n",
       "    }\n",
       "</style>\n",
       "<table border=\"1\" class=\"dataframe\">\n",
       "  <thead>\n",
       "    <tr style=\"text-align: right;\">\n",
       "      <th></th>\n",
       "      <th>text</th>\n",
       "      <th>is_junk</th>\n",
       "      <th>ratio_word</th>\n",
       "    </tr>\n",
       "  </thead>\n",
       "  <tbody>\n",
       "    <tr>\n",
       "      <th>0</th>\n",
       "      <td>The camelia - a long time symbol of Chanel and...</td>\n",
       "      <td>0</td>\n",
       "      <td>0.587302</td>\n",
       "    </tr>\n",
       "    <tr>\n",
       "      <th>1</th>\n",
       "      <td>Wknds are my happy place 🤍 even if they do inc...</td>\n",
       "      <td>1</td>\n",
       "      <td>0.680851</td>\n",
       "    </tr>\n",
       "    <tr>\n",
       "      <th>2</th>\n",
       "      <td>Used Card holder XL 24999.-\\n\\nLine: 244xfzmn</td>\n",
       "      <td>1</td>\n",
       "      <td>1.000000</td>\n",
       "    </tr>\n",
       "    <tr>\n",
       "      <th>3</th>\n",
       "      <td>My love for a chanelofficial classic flap 😌| #...</td>\n",
       "      <td>0</td>\n",
       "      <td>0.562500</td>\n",
       "    </tr>\n",
       "    <tr>\n",
       "      <th>4</th>\n",
       "      <td>HAPPY BIRTHDAY KING KUMA\\n\\nJENNIE #SOLO STAGE...</td>\n",
       "      <td>1</td>\n",
       "      <td>0.310345</td>\n",
       "    </tr>\n",
       "  </tbody>\n",
       "</table>\n",
       "</div>"
      ],
      "text/plain": [
       "                                                text  is_junk  ratio_word\n",
       "0  The camelia - a long time symbol of Chanel and...        0    0.587302\n",
       "1  Wknds are my happy place 🤍 even if they do inc...        1    0.680851\n",
       "2      Used Card holder XL 24999.-\\n\\nLine: 244xfzmn        1    1.000000\n",
       "3  My love for a chanelofficial classic flap 😌| #...        0    0.562500\n",
       "4  HAPPY BIRTHDAY KING KUMA\\n\\nJENNIE #SOLO STAGE...        1    0.310345"
      ]
     },
     "execution_count": 20,
     "metadata": {},
     "output_type": "execute_result"
    }
   ],
   "source": [
    "chanel_junk_valid_new.head()"
   ]
  },
  {
   "cell_type": "markdown",
   "id": "4add183c",
   "metadata": {},
   "source": [
    "### Ratio de caps"
   ]
  },
  {
   "cell_type": "code",
   "execution_count": 20,
   "id": "48c1cb52",
   "metadata": {},
   "outputs": [],
   "source": [
    "caps_ratio(chanel_junk_valid_new)"
   ]
  },
  {
   "cell_type": "code",
   "execution_count": 22,
   "id": "f16a2955",
   "metadata": {},
   "outputs": [
    {
     "data": {
      "text/html": [
       "<div>\n",
       "<style scoped>\n",
       "    .dataframe tbody tr th:only-of-type {\n",
       "        vertical-align: middle;\n",
       "    }\n",
       "\n",
       "    .dataframe tbody tr th {\n",
       "        vertical-align: top;\n",
       "    }\n",
       "\n",
       "    .dataframe thead th {\n",
       "        text-align: right;\n",
       "    }\n",
       "</style>\n",
       "<table border=\"1\" class=\"dataframe\">\n",
       "  <thead>\n",
       "    <tr style=\"text-align: right;\">\n",
       "      <th></th>\n",
       "      <th>text</th>\n",
       "      <th>is_junk</th>\n",
       "      <th>ratio_word</th>\n",
       "      <th>ratio_caps</th>\n",
       "    </tr>\n",
       "  </thead>\n",
       "  <tbody>\n",
       "    <tr>\n",
       "      <th>0</th>\n",
       "      <td>The camelia - a long time symbol of Chanel and...</td>\n",
       "      <td>0</td>\n",
       "      <td>0.587302</td>\n",
       "      <td>0.027027</td>\n",
       "    </tr>\n",
       "    <tr>\n",
       "      <th>1</th>\n",
       "      <td>Wknds are my happy place 🤍 even if they do inc...</td>\n",
       "      <td>1</td>\n",
       "      <td>0.680851</td>\n",
       "      <td>0.000000</td>\n",
       "    </tr>\n",
       "    <tr>\n",
       "      <th>2</th>\n",
       "      <td>Used Card holder XL 24999.-\\n\\nLine: 244xfzmn</td>\n",
       "      <td>1</td>\n",
       "      <td>1.000000</td>\n",
       "      <td>0.111111</td>\n",
       "    </tr>\n",
       "    <tr>\n",
       "      <th>3</th>\n",
       "      <td>My love for a chanelofficial classic flap 😌| #...</td>\n",
       "      <td>0</td>\n",
       "      <td>0.562500</td>\n",
       "      <td>0.000000</td>\n",
       "    </tr>\n",
       "    <tr>\n",
       "      <th>4</th>\n",
       "      <td>HAPPY BIRTHDAY KING KUMA\\n\\nJENNIE #SOLO STAGE...</td>\n",
       "      <td>1</td>\n",
       "      <td>0.310345</td>\n",
       "      <td>0.545455</td>\n",
       "    </tr>\n",
       "  </tbody>\n",
       "</table>\n",
       "</div>"
      ],
      "text/plain": [
       "                                                text  is_junk  ratio_word  \\\n",
       "0  The camelia - a long time symbol of Chanel and...        0    0.587302   \n",
       "1  Wknds are my happy place 🤍 even if they do inc...        1    0.680851   \n",
       "2      Used Card holder XL 24999.-\\n\\nLine: 244xfzmn        1    1.000000   \n",
       "3  My love for a chanelofficial classic flap 😌| #...        0    0.562500   \n",
       "4  HAPPY BIRTHDAY KING KUMA\\n\\nJENNIE #SOLO STAGE...        1    0.310345   \n",
       "\n",
       "   ratio_caps  \n",
       "0    0.027027  \n",
       "1    0.000000  \n",
       "2    0.111111  \n",
       "3    0.000000  \n",
       "4    0.545455  "
      ]
     },
     "execution_count": 22,
     "metadata": {},
     "output_type": "execute_result"
    }
   ],
   "source": [
    "chanel_junk_valid_new.head()"
   ]
  },
  {
   "cell_type": "markdown",
   "id": "1d6a4d93",
   "metadata": {},
   "source": [
    "# Nb de ponctuation"
   ]
  },
  {
   "cell_type": "code",
   "execution_count": 21,
   "id": "19cc31c4",
   "metadata": {},
   "outputs": [],
   "source": [
    "nb_punct(chanel_junk_valid_new)"
   ]
  },
  {
   "cell_type": "code",
   "execution_count": 24,
   "id": "76df73f6",
   "metadata": {},
   "outputs": [
    {
     "data": {
      "text/html": [
       "<div>\n",
       "<style scoped>\n",
       "    .dataframe tbody tr th:only-of-type {\n",
       "        vertical-align: middle;\n",
       "    }\n",
       "\n",
       "    .dataframe tbody tr th {\n",
       "        vertical-align: top;\n",
       "    }\n",
       "\n",
       "    .dataframe thead th {\n",
       "        text-align: right;\n",
       "    }\n",
       "</style>\n",
       "<table border=\"1\" class=\"dataframe\">\n",
       "  <thead>\n",
       "    <tr style=\"text-align: right;\">\n",
       "      <th></th>\n",
       "      <th>text</th>\n",
       "      <th>is_junk</th>\n",
       "      <th>ratio_word</th>\n",
       "      <th>ratio_caps</th>\n",
       "      <th>nb_punct</th>\n",
       "    </tr>\n",
       "  </thead>\n",
       "  <tbody>\n",
       "    <tr>\n",
       "      <th>0</th>\n",
       "      <td>The camelia - a long time symbol of Chanel and...</td>\n",
       "      <td>0</td>\n",
       "      <td>0.587302</td>\n",
       "      <td>0.027027</td>\n",
       "      <td>5</td>\n",
       "    </tr>\n",
       "    <tr>\n",
       "      <th>1</th>\n",
       "      <td>Wknds are my happy place 🤍 even if they do inc...</td>\n",
       "      <td>1</td>\n",
       "      <td>0.680851</td>\n",
       "      <td>0.000000</td>\n",
       "      <td>24</td>\n",
       "    </tr>\n",
       "    <tr>\n",
       "      <th>2</th>\n",
       "      <td>Used Card holder XL 24999.-\\n\\nLine: 244xfzmn</td>\n",
       "      <td>1</td>\n",
       "      <td>1.000000</td>\n",
       "      <td>0.111111</td>\n",
       "      <td>1</td>\n",
       "    </tr>\n",
       "    <tr>\n",
       "      <th>3</th>\n",
       "      <td>My love for a chanelofficial classic flap 😌| #...</td>\n",
       "      <td>0</td>\n",
       "      <td>0.562500</td>\n",
       "      <td>0.000000</td>\n",
       "      <td>0</td>\n",
       "    </tr>\n",
       "    <tr>\n",
       "      <th>4</th>\n",
       "      <td>HAPPY BIRTHDAY KING KUMA\\n\\nJENNIE #SOLO STAGE...</td>\n",
       "      <td>1</td>\n",
       "      <td>0.310345</td>\n",
       "      <td>0.545455</td>\n",
       "      <td>0</td>\n",
       "    </tr>\n",
       "  </tbody>\n",
       "</table>\n",
       "</div>"
      ],
      "text/plain": [
       "                                                text  is_junk  ratio_word  \\\n",
       "0  The camelia - a long time symbol of Chanel and...        0    0.587302   \n",
       "1  Wknds are my happy place 🤍 even if they do inc...        1    0.680851   \n",
       "2      Used Card holder XL 24999.-\\n\\nLine: 244xfzmn        1    1.000000   \n",
       "3  My love for a chanelofficial classic flap 😌| #...        0    0.562500   \n",
       "4  HAPPY BIRTHDAY KING KUMA\\n\\nJENNIE #SOLO STAGE...        1    0.310345   \n",
       "\n",
       "   ratio_caps  nb_punct  \n",
       "0    0.027027         5  \n",
       "1    0.000000        24  \n",
       "2    0.111111         1  \n",
       "3    0.000000         0  \n",
       "4    0.545455         0  "
      ]
     },
     "execution_count": 24,
     "metadata": {},
     "output_type": "execute_result"
    }
   ],
   "source": [
    "chanel_junk_valid_new.head()"
   ]
  },
  {
   "cell_type": "markdown",
   "id": "cd114677",
   "metadata": {},
   "source": [
    "### Top hashtags junk"
   ]
  },
  {
   "cell_type": "code",
   "execution_count": 20,
   "id": "5b98d63e",
   "metadata": {},
   "outputs": [],
   "source": [
    "s = chanel_junk_valid_new[chanel_junk_valid_new['is_junk']==1]['text']"
   ]
  },
  {
   "cell_type": "code",
   "execution_count": 21,
   "id": "0b4417d6",
   "metadata": {
    "collapsed": true
   },
   "outputs": [
    {
     "data": {
      "text/plain": [
       "hashtag\n",
       "#chanel            91\n",
       "#fashion           29\n",
       "#style             19\n",
       "#explorepage       15\n",
       "#luxury            15\n",
       "#ootd              15\n",
       "#dior              14\n",
       "#gucci             13\n",
       "#Chanel            12\n",
       "#louisvuitton      12\n",
       "#chanellover       11\n",
       "#fashionblogger    11\n",
       "#aesthetic         10\n",
       "#bag               10\n",
       "#instagood         10\n",
       "dtype: int64"
      ]
     },
     "execution_count": 21,
     "metadata": {},
     "output_type": "execute_result"
    }
   ],
   "source": [
    "top_hashtags(s,15)"
   ]
  },
  {
   "cell_type": "markdown",
   "id": "9eef4c9d",
   "metadata": {},
   "source": [
    "### Top emojis junk"
   ]
  },
  {
   "cell_type": "code",
   "execution_count": 22,
   "id": "44fbe051",
   "metadata": {
    "collapsed": true
   },
   "outputs": [
    {
     "name": "stdout",
     "output_type": "stream",
     "text": [
      "emoji\n",
      "➖     34\n",
      "▪     28\n",
      "🌼     20\n",
      "✨     16\n",
      "😍     14\n",
      "❤     12\n",
      "🖤     12\n",
      "🔥     11\n",
      "❤️    10\n",
      "🤍      9\n",
      "🌸      8\n",
      "🎀      8\n",
      "✈      7\n",
      "👉      7\n",
      "📞      6\n",
      "dtype: int64\n"
     ]
    }
   ],
   "source": [
    "top_emojis(s,15)"
   ]
  },
  {
   "cell_type": "markdown",
   "id": "826a11e9",
   "metadata": {},
   "source": [
    "# Hashtag/emojis dummy"
   ]
  },
  {
   "cell_type": "code",
   "execution_count": 23,
   "id": "1e1b6978",
   "metadata": {},
   "outputs": [
    {
     "name": "stdout",
     "output_type": "stream",
     "text": [
      "        hashtag\n",
      "0       #chanel\n",
      "1      #fashion\n",
      "2        #style\n",
      "3  #explorepage\n",
      "4       #luxury\n"
     ]
    }
   ],
   "source": [
    "dummy_emojis(chanel_junk_valid_new,5)\n",
    "dummy_hashtags(chanel_junk_valid_new,5)"
   ]
  },
  {
   "cell_type": "markdown",
   "id": "55385e13",
   "metadata": {},
   "source": [
    "# Correlation, boxplot"
   ]
  },
  {
   "cell_type": "code",
   "execution_count": 24,
   "id": "880884a2",
   "metadata": {
    "scrolled": true
   },
   "outputs": [
    {
     "name": "stderr",
     "output_type": "stream",
     "text": [
      "C:\\Users\\a.tekiouk\\AppData\\Local\\Temp\\ipykernel_10200\\2573262369.py:4: FutureWarning: The default value of numeric_only in DataFrame.corr is deprecated. In a future version, it will default to False. Select only valid columns or specify the value of numeric_only to silence this warning.\n",
      "  corr_df = chanel_junk_valid_new.corr(method='pearson')\n"
     ]
    },
    {
     "data": {
      "image/png": "[encoded data removed]",
      "text/plain": [
       "<Figure size 800x600 with 2 Axes>"
      ]
     },
     "metadata": {},
     "output_type": "display_data"
    }
   ],
   "source": [
    "import seaborn as sns\n",
    "import matplotlib.pyplot as plt\n",
    "\n",
    "corr_df = chanel_junk_valid_new.corr(method='pearson')\n",
    "\n",
    "plt.figure(figsize=(8, 6))\n",
    "sns.heatmap(corr_df, annot=True, vmin=-1, vmax=1)\n",
    "plt.show()"
   ]
  },
  {
   "cell_type": "markdown",
   "id": "a467e8b3",
   "metadata": {},
   "source": [
    "Boxplot word ratio "
   ]
  },
  {
   "cell_type": "code",
   "execution_count": 25,
   "id": "de120e72",
   "metadata": {},
   "outputs": [
    {
     "data": {
      "text/plain": [
       "<Axes: xlabel='is_junk', ylabel='ratio_word'>"
      ]
     },
     "execution_count": 25,
     "metadata": {},
     "output_type": "execute_result"
    },
    {
     "data": {
      "image/png": "[encoded data removed]",
      "text/plain": [
       "<Figure size 640x480 with 1 Axes>"
      ]
     },
     "metadata": {},
     "output_type": "display_data"
    }
   ],
   "source": [
    "sns.boxplot(data=chanel_junk_valid_new, x=\"is_junk\", y=\"ratio_word\",color= 'skyblue')"
   ]
  },
  {
   "cell_type": "markdown",
   "id": "8c3a3277",
   "metadata": {},
   "source": [
    "Boxplot caps ratio"
   ]
  },
  {
   "cell_type": "code",
   "execution_count": 26,
   "id": "4492baf1",
   "metadata": {},
   "outputs": [
    {
     "data": {
      "text/plain": [
       "<Axes: xlabel='is_junk', ylabel='ratio_caps'>"
      ]
     },
     "execution_count": 26,
     "metadata": {},
     "output_type": "execute_result"
    },
    {
     "data": {
      "image/png": "[encoded data removed]",
      "text/plain": [
       "<Figure size 640x480 with 1 Axes>"
      ]
     },
     "metadata": {},
     "output_type": "display_data"
    }
   ],
   "source": [
    "sns.boxplot(data  = chanel_junk_valid_new,\n",
    "            x     = \"is_junk\",\n",
    "            y     = \"ratio_caps\",\n",
    "            color = 'skyblue')"
   ]
  },
  {
   "cell_type": "markdown",
   "id": "d7950223",
   "metadata": {},
   "source": [
    "Boxplot nb ponctuation"
   ]
  },
  {
   "cell_type": "code",
   "execution_count": 27,
   "id": "6c3f8430",
   "metadata": {},
   "outputs": [
    {
     "data": {
      "text/plain": [
       "<Axes: xlabel='is_junk', ylabel='nb_punct'>"
      ]
     },
     "execution_count": 27,
     "metadata": {},
     "output_type": "execute_result"
    },
    {
     "data": {
      "image/png": "[encoded data removed]",
      "text/plain": [
       "<Figure size 640x480 with 1 Axes>"
      ]
     },
     "metadata": {},
     "output_type": "display_data"
    }
   ],
   "source": [
    "sns.boxplot(data=chanel_junk_valid_new, x=\"is_junk\", y=\"nb_punct\")"
   ]
  },
  {
   "cell_type": "markdown",
   "id": "31bd2fd6",
   "metadata": {},
   "source": [
    "# Arbre de decision"
   ]
  },
  {
   "cell_type": "code",
   "execution_count": 35,
   "id": "4d44db45",
   "metadata": {},
   "outputs": [],
   "source": [
    "import sklearn\n",
    "from sklearn.tree import DecisionTreeClassifier\n",
    "from sklearn.model_selection import train_test_split\n",
    "from sklearn.metrics import confusion_matrix"
   ]
  },
  {
   "cell_type": "code",
   "execution_count": 54,
   "id": "b55af322",
   "metadata": {},
   "outputs": [],
   "source": [
    "nb_junk0 = len(chanel_junk_valid_new[chanel_junk_valid_new['is_junk']==0]['text'])\n",
    "i_0  = np.random.randint(nb_junk0, size=round(nb_junk0*0.75))"
   ]
  },
  {
   "cell_type": "code",
   "execution_count": 58,
   "id": "24a738d5",
   "metadata": {},
   "outputs": [],
   "source": [
    "nb_junk1 = len(chanel_junk_valid_new[chanel_junk_valid_new['is_junk']==1]['text'])\n",
    "i_1  = np.random.randint(nb_junk1, size=round(nb_junk1*0.40))"
   ]
  },
  {
   "cell_type": "code",
   "execution_count": 56,
   "id": "5143d266",
   "metadata": {},
   "outputs": [
    {
     "data": {
      "text/plain": [
       "34"
      ]
     },
     "execution_count": 56,
     "metadata": {},
     "output_type": "execute_result"
    }
   ],
   "source": [
    "len(i_0)"
   ]
  },
  {
   "cell_type": "code",
   "execution_count": 59,
   "id": "eb13e8a5",
   "metadata": {},
   "outputs": [
    {
     "data": {
      "text/plain": [
       "64"
      ]
     },
     "execution_count": 59,
     "metadata": {},
     "output_type": "execute_result"
    }
   ],
   "source": [
    "len(i_1)"
   ]
  },
  {
   "cell_type": "code",
   "execution_count": 81,
   "id": "89a38bd6",
   "metadata": {},
   "outputs": [],
   "source": [
    "train  = chanel_junk_valid_new.iloc[[*i_0,*i_1]]"
   ]
  },
  {
   "cell_type": "code",
   "execution_count": 82,
   "id": "6f1a259a",
   "metadata": {},
   "outputs": [],
   "source": [
    "test = chanel_junk_valid_new.drop([*i_0,*i_1])"
   ]
  },
  {
   "cell_type": "code",
   "execution_count": 83,
   "id": "d91d3cc1",
   "metadata": {},
   "outputs": [
    {
     "data": {
      "text/plain": [
       "98"
      ]
     },
     "execution_count": 83,
     "metadata": {},
     "output_type": "execute_result"
    }
   ],
   "source": [
    "len(train['text'])"
   ]
  },
  {
   "cell_type": "code",
   "execution_count": 84,
   "id": "5e180fe5",
   "metadata": {},
   "outputs": [
    {
     "data": {
      "text/plain": [
       "136"
      ]
     },
     "execution_count": 84,
     "metadata": {},
     "output_type": "execute_result"
    }
   ],
   "source": [
    "len(test['text'])"
   ]
  },
  {
   "cell_type": "code",
   "execution_count": 80,
   "id": "40372f95",
   "metadata": {},
   "outputs": [
    {
     "data": {
      "text/plain": [
       "207"
      ]
     },
     "execution_count": 80,
     "metadata": {},
     "output_type": "execute_result"
    }
   ],
   "source": [
    "len(chanel_junk_valid_new['text'])"
   ]
  },
  {
   "cell_type": "code",
   "execution_count": 61,
   "id": "7560a57a",
   "metadata": {},
   "outputs": [],
   "source": [
    "X = chanel_junk_valid_new.drop(['text', 'is_junk'], axis=1)"
   ]
  },
  {
   "cell_type": "code",
   "execution_count": 30,
   "id": "8d9b8b94",
   "metadata": {},
   "outputs": [],
   "source": [
    "y = chanel_junk_valid_new['is_junk']"
   ]
  },
  {
   "cell_type": "code",
   "execution_count": 43,
   "id": "7060cee1",
   "metadata": {},
   "outputs": [],
   "source": [
    "X_train = chanel_junk_valid_new.drop([1,2,3], axis=0)"
   ]
  },
  {
   "cell_type": "code",
   "execution_count": null,
   "id": "9fdbfe6f",
   "metadata": {},
   "outputs": [],
   "source": [
    "y_train = "
   ]
  },
  {
   "cell_type": "code",
   "execution_count": 32,
   "id": "6297c2d3",
   "metadata": {},
   "outputs": [],
   "source": [
    "tree1 = DecisionTreeClassifier()"
   ]
  },
  {
   "cell_type": "code",
   "execution_count": 33,
   "id": "438f41a8",
   "metadata": {},
   "outputs": [
    {
     "data": {
      "text/html": [
       "<style>#sk-container-id-1 {color: black;background-color: white;}#sk-container-id-1 pre{padding: 0;}#sk-container-id-1 div.sk-toggleable {background-color: white;}#sk-container-id-1 label.sk-toggleable__label {cursor: pointer;display: block;width: 100%;margin-bottom: 0;padding: 0.3em;box-sizing: border-box;text-align: center;}#sk-container-id-1 label.sk-toggleable__label-arrow:before {content: \"▸\";float: left;margin-right: 0.25em;color: #696969;}#sk-container-id-1 label.sk-toggleable__label-arrow:hover:before {color: black;}#sk-container-id-1 div.sk-estimator:hover label.sk-toggleable__label-arrow:before {color: black;}#sk-container-id-1 div.sk-toggleable__content {max-height: 0;max-width: 0;overflow: hidden;text-align: left;background-color: #f0f8ff;}#sk-container-id-1 div.sk-toggleable__content pre {margin: 0.2em;color: black;border-radius: 0.25em;background-color: #f0f8ff;}#sk-container-id-1 input.sk-toggleable__control:checked~div.sk-toggleable__content {max-height: 200px;max-width: 100%;overflow: auto;}#sk-container-id-1 input.sk-toggleable__control:checked~label.sk-toggleable__label-arrow:before {content: \"▾\";}#sk-container-id-1 div.sk-estimator input.sk-toggleable__control:checked~label.sk-toggleable__label {background-color: #d4ebff;}#sk-container-id-1 div.sk-label input.sk-toggleable__control:checked~label.sk-toggleable__label {background-color: #d4ebff;}#sk-container-id-1 input.sk-hidden--visually {border: 0;clip: rect(1px 1px 1px 1px);clip: rect(1px, 1px, 1px, 1px);height: 1px;margin: -1px;overflow: hidden;padding: 0;position: absolute;width: 1px;}#sk-container-id-1 div.sk-estimator {font-family: monospace;background-color: #f0f8ff;border: 1px dotted black;border-radius: 0.25em;box-sizing: border-box;margin-bottom: 0.5em;}#sk-container-id-1 div.sk-estimator:hover {background-color: #d4ebff;}#sk-container-id-1 div.sk-parallel-item::after {content: \"\";width: 100%;border-bottom: 1px solid gray;flex-grow: 1;}#sk-container-id-1 div.sk-label:hover label.sk-toggleable__label {background-color: #d4ebff;}#sk-container-id-1 div.sk-serial::before {content: \"\";position: absolute;border-left: 1px solid gray;box-sizing: border-box;top: 0;bottom: 0;left: 50%;z-index: 0;}#sk-container-id-1 div.sk-serial {display: flex;flex-direction: column;align-items: center;background-color: white;padding-right: 0.2em;padding-left: 0.2em;position: relative;}#sk-container-id-1 div.sk-item {position: relative;z-index: 1;}#sk-container-id-1 div.sk-parallel {display: flex;align-items: stretch;justify-content: center;background-color: white;position: relative;}#sk-container-id-1 div.sk-item::before, #sk-container-id-1 div.sk-parallel-item::before {content: \"\";position: absolute;border-left: 1px solid gray;box-sizing: border-box;top: 0;bottom: 0;left: 50%;z-index: -1;}#sk-container-id-1 div.sk-parallel-item {display: flex;flex-direction: column;z-index: 1;position: relative;background-color: white;}#sk-container-id-1 div.sk-parallel-item:first-child::after {align-self: flex-end;width: 50%;}#sk-container-id-1 div.sk-parallel-item:last-child::after {align-self: flex-start;width: 50%;}#sk-container-id-1 div.sk-parallel-item:only-child::after {width: 0;}#sk-container-id-1 div.sk-dashed-wrapped {border: 1px dashed gray;margin: 0 0.4em 0.5em 0.4em;box-sizing: border-box;padding-bottom: 0.4em;background-color: white;}#sk-container-id-1 div.sk-label label {font-family: monospace;font-weight: bold;display: inline-block;line-height: 1.2em;}#sk-container-id-1 div.sk-label-container {text-align: center;}#sk-container-id-1 div.sk-container {/* jupyter's `normalize.less` sets `[hidden] { display: none; }` but bootstrap.min.css set `[hidden] { display: none !important; }` so we also need the `!important` here to be able to override the default hidden behavior on the sphinx rendered scikit-learn.org. See: https://github.com/scikit-learn/scikit-learn/issues/21755 */display: inline-block !important;position: relative;}#sk-container-id-1 div.sk-text-repr-fallback {display: none;}</style><div id=\"sk-container-id-1\" class=\"sk-top-container\"><div class=\"sk-text-repr-fallback\"><pre>DecisionTreeClassifier()</pre><b>In a Jupyter environment, please rerun this cell to show the HTML representation or trust the notebook. <br />On GitHub, the HTML representation is unable to render, please try loading this page with nbviewer.org.</b></div><div class=\"sk-container\" hidden><div class=\"sk-item\"><div class=\"sk-estimator sk-toggleable\"><input class=\"sk-toggleable__control sk-hidden--visually\" id=\"sk-estimator-id-1\" type=\"checkbox\" checked><label for=\"sk-estimator-id-1\" class=\"sk-toggleable__label sk-toggleable__label-arrow\">DecisionTreeClassifier</label><div class=\"sk-toggleable__content\"><pre>DecisionTreeClassifier()</pre></div></div></div></div></div>"
      ],
      "text/plain": [
       "DecisionTreeClassifier()"
      ]
     },
     "execution_count": 33,
     "metadata": {},
     "output_type": "execute_result"
    }
   ],
   "source": [
    "tree1.fit(X_train,y_train)"
   ]
  },
  {
   "cell_type": "code",
   "execution_count": 37,
   "id": "89207583",
   "metadata": {},
   "outputs": [],
   "source": [
    "pred = tree1.predict(X_test)"
   ]
  },
  {
   "cell_type": "code",
   "execution_count": 38,
   "id": "ee64b2a3",
   "metadata": {},
   "outputs": [
    {
     "data": {
      "text/plain": [
       "array([[ 9, 12],\n",
       "       [ 6, 42]], dtype=int64)"
      ]
     },
     "execution_count": 38,
     "metadata": {},
     "output_type": "execute_result"
    }
   ],
   "source": [
    "confusion_matrix(y_true = y_test, y_pred = pred)"
   ]
  }
 ],
 "metadata": {
  "kernelspec": {
   "display_name": "Python 3 (ipykernel)",
   "language": "python",
   "name": "python3"
  },
  "language_info": {
   "codemirror_mode": {
    "name": "ipython",
    "version": 3
   },
   "file_extension": ".py",
   "mimetype": "text/x-python",
   "name": "python",
   "nbconvert_exporter": "python",
   "pygments_lexer": "ipython3",
   "version": "3.11.2"
  }
 },
 "nbformat": 4,
 "nbformat_minor": 5
}
