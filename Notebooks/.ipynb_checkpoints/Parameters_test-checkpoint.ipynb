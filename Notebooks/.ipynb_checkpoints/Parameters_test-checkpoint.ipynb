{
 "cells": [
  {
   "cell_type": "markdown",
   "id": "08968d0b",
   "metadata": {},
   "source": [
    "# Estimation des paramètres"
   ]
  },
  {
   "cell_type": "code",
   "execution_count": 1,
   "id": "ac248532",
   "metadata": {},
   "outputs": [],
   "source": [
    "import utilities\n",
    "import pandas            as pd\n",
    "import numpy             as np\n",
    "import seaborn           as sns\n",
    "import matplotlib.pyplot as plt\n",
    "import spacy\n",
    "import re\n",
    "import sklearn\n",
    "import random\n",
    "import textdistance\n",
    "\n",
    "from spacy.vocab               import Vocab\n",
    "from spacy.language            import Language\n",
    "from spacy.tokens              import Token\n",
    "from spacymoji                 import Emoji\n",
    "from   sklearn.tree            import DecisionTreeClassifier\n",
    "from   sklearn.model_selection import train_test_split\n",
    "from sklearn                   import metrics\n"
   ]
  },
  {
   "cell_type": "code",
   "execution_count": 2,
   "id": "ab665953",
   "metadata": {},
   "outputs": [],
   "source": [
    "nlp = spacy.load(\"en_core_web_sm\")\n",
    "\n",
    "@Language.component(\"hashtag\")\n",
    "def hashtag_pipe(\n",
    "    doc: spacy.tokens.Doc\n",
    ") -> spacy.tokens.Doc:\n",
    "    \"\"\"\n",
    "    A spaCy pipeline component that merges tokens of the form #word into a single token.\n",
    "\n",
    "    Parameters\n",
    "    ----------\n",
    "    doc : spacy.tokens.Doc\n",
    "        The input spaCy Doc object to process.\n",
    "\n",
    "    Returns\n",
    "    -------\n",
    "    spacy.tokens.Doc\n",
    "        The processed spaCy Doc object with hashtags merged into a single token.\n",
    "    \"\"\"\n",
    "    len_doc = -1\n",
    "    for token in doc:\n",
    "        len_doc=len_doc+1\n",
    "    merged_hashtag = False\n",
    "    while True:\n",
    "        for token in doc:\n",
    "            if token.text == '#':\n",
    "                if(token.head is not None and token.i!=len_doc):\n",
    "                    start_index = token.i\n",
    "                    end_index = start_index + 1\n",
    "                    with doc.retokenize() as retokenizer:\n",
    "                        retokenizer.merge(doc[start_index:end_index+1])\n",
    "                        merged_hashtag = True\n",
    "                        break\n",
    "        if not merged_hashtag:\n",
    "            break\n",
    "        merged_hashtag = False\n",
    "    return doc\n",
    "\n",
    "nlp.add_pipe(\"emoji\", first=True)\n",
    "nlp.add_pipe(\"hashtag\", first=True)\n",
    "Token.set_extension(\"is_hashtag\", getter=lambda token: token.text[0] in (\"#\"), force=True)"
   ]
  },
  {
   "cell_type": "markdown",
   "id": "6a573327",
   "metadata": {},
   "source": [
    "Importation du corpus."
   ]
  },
  {
   "cell_type": "code",
   "execution_count": 28,
   "id": "c4573790",
   "metadata": {},
   "outputs": [
    {
     "name": "stdout",
     "output_type": "stream",
     "text": [
      "# documents in corpus: 1802\n"
     ]
    }
   ],
   "source": [
    "corpus = pd.read_csv(\"C:/Users/a.tekiouk/Sujet_2/Sujet_2/DATA/chanel10k.csv\", sep=\";\", parse_dates=[\"publication_time\"])\n",
    "\n",
    "# on récupére les posts en anglais\n",
    "mask = corpus[\"language\"] == 'en'\n",
    "corpus = corpus.loc[mask]\n",
    "chanel = corpus['text'].tolist()\n",
    "publication_time_chanel = corpus['publication_time'].tolist()\n",
    "\n",
    "print(f\"# documents in corpus: {len(chanel)}\")"
   ]
  },
  {
   "cell_type": "markdown",
   "id": "56c02d51",
   "metadata": {},
   "source": [
    "### Estimation du seuil de la distance de Levenshtein normalisée"
   ]
  },
  {
   "cell_type": "code",
   "execution_count": 3,
   "id": "2e25ef14",
   "metadata": {},
   "outputs": [],
   "source": [
    "corpus_test = corpus[['text','publication_time']].sample(n= 100, random_state = 42)"
   ]
  },
  {
   "cell_type": "code",
   "execution_count": 4,
   "id": "1d6d3f92",
   "metadata": {},
   "outputs": [],
   "source": [
    "def nb_per_thresholds(\n",
    "    corus   : pd.DataFrame,\n",
    "    )-> tuple[list,list]:\n",
    "    \"\"\"\n",
    "    Return the number of post after deleting the posts with similar text and all the threshholds tested.\n",
    "\n",
    "    Parameters\n",
    "    ----------\n",
    "    corus   : pd.DataFrame\n",
    "    \"\"\"\n",
    "    nb_remaing_posts = []\n",
    "    thresholds = np.linspace(0,1,20)\n",
    "    dist = textdistance.levenshtein.normalized_distance\n",
    "    for limit in thresholds:\n",
    "        nb_remaing_posts.append(len(utilities.delete_duplicates(corpus_test['text'].tolist(),corpus_test['publication_time'].tolist(),limit,dist)))\n",
    "    return thresholds,nb_remaing_posts\n",
    "        "
   ]
  },
  {
   "cell_type": "code",
   "execution_count": 5,
   "id": "d61fa8b9",
   "metadata": {},
   "outputs": [],
   "source": [
    "x,y = nb_per_thresholds(corpus_test)\n"
   ]
  },
  {
   "cell_type": "code",
   "execution_count": 11,
   "id": "c6bcf845",
   "metadata": {},
   "outputs": [],
   "source": [
    "y = [i*100/max(y) for i in y]"
   ]
  },
  {
   "cell_type": "code",
   "execution_count": 13,
   "id": "34e96dbc",
   "metadata": {
    "scrolled": false
   },
   "outputs": [
    {
     "data": {
      "image/png": "[encoded data removed]",
      "text/plain": [
       "<Figure size 640x480 with 1 Axes>"
      ]
     },
     "metadata": {},
     "output_type": "display_data"
    }
   ],
   "source": [
    "import matplotlib.pyplot as plt\n",
    "\n",
    "fig = plt.figure()\n",
    "with plt.style.context('Solarize_Light2'):\n",
    "    plt.plot(x, y)\n",
    "    plt.xlabel('Levenshtein thresholds')\n",
    "    plt.ylabel('% of remaining posts')"
   ]
  },
  {
   "cell_type": "code",
   "execution_count": 26,
   "id": "30a584b8",
   "metadata": {},
   "outputs": [],
   "source": [
    "def get_duplicates(\n",
    "    corpus: list, \n",
    "    limit: float, \n",
    "    method: callable\n",
    "    ):\n",
    "    originals = []\n",
    "    copies = []\n",
    "    t = [utilities.clean_hashtag(s).strip() for s in corpus]\n",
    "    distance = method #initialisiation de levenshtein avec la distance normalisée.\n",
    "    i = 0\n",
    "    r = len(t)\n",
    "    while(i<r):\n",
    "        r = len(t)\n",
    "        j=i+1\n",
    "        while(j<r):\n",
    "            if(distance(t[i],t[j]) <= limit ): # Si la distance entre les deux élemens de la liste inf à seuil\n",
    "                originals.append(t[i])\n",
    "                copies.append([t[j]])\n",
    "                break\n",
    "            j+=1\n",
    "        i+=1\n",
    "    return pd.DataFrame({'originals' : originals , 'copies' : copies})"
   ]
  },
  {
   "cell_type": "code",
   "execution_count": 32,
   "id": "5f809344",
   "metadata": {},
   "outputs": [],
   "source": [
    "dist = textdistance.levenshtein.normalized_distance\n",
    "originlas_copies = get_duplicates(corpus['text'].sample(n= 50, random_state = 42).tolist(),0.6,dist)"
   ]
  },
  {
   "cell_type": "code",
   "execution_count": 47,
   "id": "680e3632",
   "metadata": {},
   "outputs": [],
   "source": [
    "def get_duplicates_per_thresholds():\n",
    "    list_duplicates_per_thresholds = []\n",
    "    list_thresholds = np.linspace(0.4,1,13)\n",
    "    dist = textdistance.levenshtein.normalized_distance\n",
    "    for thresholds in list_thresholds:\n",
    "        list_duplicates_per_thresholds.append(get_duplicates(corpus['text'].sample(n= 50, random_state = 10).tolist(),thresholds,dist))\n",
    "    return pd.DataFrame({'threshold' : list_thresholds , 'duplicates' : list_duplicates_per_thresholds})"
   ]
  },
  {
   "cell_type": "code",
   "execution_count": 50,
   "id": "5e937db3",
   "metadata": {},
   "outputs": [],
   "source": [
    "df_dup_per_thesh = get_duplicates_per_thresholds()"
   ]
  },
  {
   "cell_type": "code",
   "execution_count": 51,
   "id": "fb28c88c",
   "metadata": {},
   "outputs": [
    {
     "data": {
      "text/html": [
       "<div>\n",
       "<style scoped>\n",
       "    .dataframe tbody tr th:only-of-type {\n",
       "        vertical-align: middle;\n",
       "    }\n",
       "\n",
       "    .dataframe tbody tr th {\n",
       "        vertical-align: top;\n",
       "    }\n",
       "\n",
       "    .dataframe thead th {\n",
       "        text-align: right;\n",
       "    }\n",
       "</style>\n",
       "<table border=\"1\" class=\"dataframe\">\n",
       "  <thead>\n",
       "    <tr style=\"text-align: right;\">\n",
       "      <th></th>\n",
       "      <th>threshold</th>\n",
       "      <th>duplicates</th>\n",
       "    </tr>\n",
       "  </thead>\n",
       "  <tbody>\n",
       "    <tr>\n",
       "      <th>0</th>\n",
       "      <td>0.40</td>\n",
       "      <td>ori...</td>\n",
       "    </tr>\n",
       "    <tr>\n",
       "      <th>1</th>\n",
       "      <td>0.45</td>\n",
       "      <td>ori...</td>\n",
       "    </tr>\n",
       "    <tr>\n",
       "      <th>2</th>\n",
       "      <td>0.50</td>\n",
       "      <td>ori...</td>\n",
       "    </tr>\n",
       "    <tr>\n",
       "      <th>3</th>\n",
       "      <td>0.55</td>\n",
       "      <td>ori...</td>\n",
       "    </tr>\n",
       "    <tr>\n",
       "      <th>4</th>\n",
       "      <td>0.60</td>\n",
       "      <td>ori...</td>\n",
       "    </tr>\n",
       "    <tr>\n",
       "      <th>5</th>\n",
       "      <td>0.65</td>\n",
       "      <td>ori...</td>\n",
       "    </tr>\n",
       "    <tr>\n",
       "      <th>6</th>\n",
       "      <td>0.70</td>\n",
       "      <td>or...</td>\n",
       "    </tr>\n",
       "    <tr>\n",
       "      <th>7</th>\n",
       "      <td>0.75</td>\n",
       "      <td>or...</td>\n",
       "    </tr>\n",
       "    <tr>\n",
       "      <th>8</th>\n",
       "      <td>0.80</td>\n",
       "      <td>or...</td>\n",
       "    </tr>\n",
       "    <tr>\n",
       "      <th>9</th>\n",
       "      <td>0.85</td>\n",
       "      <td>or...</td>\n",
       "    </tr>\n",
       "    <tr>\n",
       "      <th>10</th>\n",
       "      <td>0.90</td>\n",
       "      <td>or...</td>\n",
       "    </tr>\n",
       "    <tr>\n",
       "      <th>11</th>\n",
       "      <td>0.95</td>\n",
       "      <td>or...</td>\n",
       "    </tr>\n",
       "    <tr>\n",
       "      <th>12</th>\n",
       "      <td>1.00</td>\n",
       "      <td>or...</td>\n",
       "    </tr>\n",
       "  </tbody>\n",
       "</table>\n",
       "</div>"
      ],
      "text/plain": [
       "    threshold                                         duplicates\n",
       "0        0.40                                             ori...\n",
       "1        0.45                                             ori...\n",
       "2        0.50                                             ori...\n",
       "3        0.55                                             ori...\n",
       "4        0.60                                             ori...\n",
       "5        0.65                                             ori...\n",
       "6        0.70                                              or...\n",
       "7        0.75                                              or...\n",
       "8        0.80                                              or...\n",
       "9        0.85                                              or...\n",
       "10       0.90                                              or...\n",
       "11       0.95                                              or...\n",
       "12       1.00                                              or..."
      ]
     },
     "execution_count": 51,
     "metadata": {},
     "output_type": "execute_result"
    }
   ],
   "source": [
    "df_dup_per_thesh"
   ]
  },
  {
   "cell_type": "markdown",
   "id": "72e1e276",
   "metadata": {},
   "source": [
    "### Optimisation paramètres de l'arbre de décision"
   ]
  },
  {
   "cell_type": "code",
   "execution_count": 7,
   "id": "51c645a3",
   "metadata": {},
   "outputs": [],
   "source": [
    "chanel_junk_valid_new = pd.read_excel('C:/Users/a.tekiouk/Sujet_2/Sujet_2/DATA/chanel_junk_valid_new.xlsx')\n",
    "chanel_junk_valid_new = chanel_junk_valid_new[['text','is_junk']].dropna()\n",
    "chanel_junk_valid_new['has_URL'] = utilities.get_presence_of_URL(corpus= chanel_junk_valid_new['text'], nlp= nlp  )\n",
    "chanel_junk_valid_new['has_phone_number'] = utilities.get_presence_of_phone_numbers(corpus= chanel_junk_valid_new['text'], nlp= nlp  )\n",
    "chanel_junk_valid_new['has_currency_symbol'] = utilities.get_presence_of_currency_symbol(corpus= chanel_junk_valid_new['text'], nlp= nlp  )\n",
    "chanel_junk_valid_new['word_ratio'] = utilities.get_word_ratio(corpus= chanel_junk_valid_new['text'], nlp= nlp  )\n",
    "chanel_junk_valid_new['caps_ratio'] = utilities.get_caps_ratio(corpus= chanel_junk_valid_new['text'], nlp= nlp)\n",
    "chanel_junk_valid_new['norm_punct'] = utilities.get_normalized_nb_punct(corpus= chanel_junk_valid_new['text'], nlp= nlp  )\n",
    "chanel_junk_valid_new = chanel_junk_valid_new.join(utilities.create_dummies(corpus= chanel_junk_valid_new['text'],y = chanel_junk_valid_new['is_junk'], element= 'emoji',nlp = nlp, top= 3))\n",
    "chanel_all_features = chanel_junk_valid_new.join(utilities.create_dummies(corpus= chanel_junk_valid_new['text'],y = chanel_junk_valid_new['is_junk'], element= 'hashtag', nlp = nlp, top= 3))\n",
    "train,test = utilities.train_test(data = chanel_all_features.dropna().drop('text',axis=1), y = 'is_junk', f_y0= 0.7, f_y1= 0.7)\n",
    "X_train = train.drop('is_junk',axis=1)\n",
    "y_train = train['is_junk']\n",
    "X_test = test.drop('is_junk',axis=1)\n",
    "y_test = test['is_junk']\n"
   ]
  },
  {
   "cell_type": "code",
   "execution_count": 11,
   "id": "cf29ffb4",
   "metadata": {},
   "outputs": [],
   "source": [
    "def optimize_ccp_alpha(X_train,X_test,y_train,y_test):    \n",
    "    list_ccp_alpha = np.linspace(0.01,0.040,31)\n",
    "    list_auc = []\n",
    "    for ccp in list_ccp_alpha:\n",
    "        tree = DecisionTreeClassifier(criterion = 'entropy', max_depth=8, ccp_alpha = ccp, min_samples_leaf = 5)\n",
    "        tree.fit(X_train,y_train)\n",
    "        y_pred = tree.predict(X_test)\n",
    "        fpr, tpr, thresholds = metrics.roc_curve(y_test, y_pred)\n",
    "        list_auc.append(metrics.auc(fpr, tpr))\n",
    "    return list_ccp_alpha,list_auc "
   ]
  },
  {
   "cell_type": "markdown",
   "id": "df21c14f",
   "metadata": {},
   "source": [
    "Arbre 1 : "
   ]
  },
  {
   "cell_type": "code",
   "execution_count": 38,
   "id": "6297c2d3",
   "metadata": {},
   "outputs": [
    {
     "data": {
      "image/png": "[encoded data removed]",
      "text/plain": [
       "<Figure size 800x800 with 1 Axes>"
      ]
     },
     "metadata": {},
     "output_type": "display_data"
    },
    {
     "name": "stdout",
     "output_type": "stream",
     "text": [
      "AUC : 0.648859543817527\n",
      "Accuracy score : 0.6581196581196581\n"
     ]
    }
   ],
   "source": [
    "tree1 = DecisionTreeClassifier(criterion = 'gini')\n",
    "tree1.fit(X_train,y_train)\n",
    "y_pred = tree1.predict(X_test)\n",
    "utilities.plot_confusion_matrix(y_true = y_test, y_pred = y_pred)\n",
    "fpr, tpr, thresholds = metrics.roc_curve(y_test, y_pred)\n",
    "print(f\"AUC : {metrics.auc(fpr, tpr)}\")\n",
    "print(f\"Accuracy score : {metrics.accuracy_score(y_test, y_pred)}\")"
   ]
  },
  {
   "cell_type": "markdown",
   "id": "cb14369a",
   "metadata": {},
   "source": [
    "Arbre 2"
   ]
  },
  {
   "cell_type": "code",
   "execution_count": 46,
   "id": "567b94ac",
   "metadata": {
    "scrolled": false
   },
   "outputs": [
    {
     "data": {
      "image/png": "[encoded data removed]",
      "text/plain": [
       "<Figure size 800x800 with 1 Axes>"
      ]
     },
     "metadata": {},
     "output_type": "display_data"
    },
    {
     "name": "stdout",
     "output_type": "stream",
     "text": [
      "AUC : 0.65906362545018\n",
      "Accuracy score : 0.6666666666666666\n"
     ]
    }
   ],
   "source": [
    "tree2 = DecisionTreeClassifier(criterion = 'entropy')\n",
    "tree2.fit(X_train,y_train)\n",
    "y_pred = tree2.predict(X_test)\n",
    "utilities.plot_confusion_matrix(y_true = y_test, y_pred = y_pred)\n",
    "fpr, tpr, thresholds = metrics.roc_curve(y_test, y_pred)\n",
    "print(f\"AUC : {metrics.auc(fpr, tpr)}\")\n",
    "print(f\"Accuracy score : {metrics.accuracy_score(y_test, y_pred)}\")"
   ]
  },
  {
   "cell_type": "markdown",
   "id": "91b8c585",
   "metadata": {},
   "source": [
    "Arbre 3"
   ]
  },
  {
   "cell_type": "code",
   "execution_count": 82,
   "id": "ebe38985",
   "metadata": {},
   "outputs": [
    {
     "data": {
      "image/png": "[encoded data removed]",
      "text/plain": [
       "<Figure size 800x800 with 1 Axes>"
      ]
     },
     "metadata": {},
     "output_type": "display_data"
    },
    {
     "name": "stdout",
     "output_type": "stream",
     "text": [
      "AUC : 0.592436974789916\n",
      "Accuracy score : 0.5726495726495726\n"
     ]
    }
   ],
   "source": [
    "tree3 = DecisionTreeClassifier(criterion = 'entropy',class_weight = \"balanced\")\n",
    "tree3.fit(X_train,y_train)\n",
    "y_pred = tree3.predict(X_test)\n",
    "utilities.plot_confusion_matrix(y_true = y_test, y_pred = y_pred)\n",
    "fpr, tpr, thresholds = metrics.roc_curve(y_test, y_pred)\n",
    "print(f\"AUC : {metrics.auc(fpr, tpr)}\")\n",
    "print(f\"Accuracy score : {metrics.accuracy_score(y_test, y_pred)}\")"
   ]
  },
  {
   "cell_type": "markdown",
   "id": "641907cb",
   "metadata": {},
   "source": [
    "Arbre 4"
   ]
  },
  {
   "cell_type": "code",
   "execution_count": 81,
   "id": "c2ead52a",
   "metadata": {},
   "outputs": [
    {
     "data": {
      "image/png": "[encoded data removed]",
      "text/plain": [
       "<Figure size 800x800 with 1 Axes>"
      ]
     },
     "metadata": {},
     "output_type": "display_data"
    },
    {
     "name": "stdout",
     "output_type": "stream",
     "text": [
      "AUC : 0.710984393757503\n",
      "Accuracy score : 0.7435897435897436\n"
     ]
    }
   ],
   "source": [
    "tree4 = DecisionTreeClassifier(criterion = 'entropy', max_depth=10)\n",
    "tree4.fit(X_train,y_train)\n",
    "y_pred = tree4.predict(X_test)\n",
    "utilities.plot_confusion_matrix(y_true = y_test, y_pred = y_pred)\n",
    "fpr, tpr, thresholds = metrics.roc_curve(y_test, y_pred)\n",
    "print(f\"AUC : {metrics.auc(fpr, tpr)}\")\n",
    "print(f\"Accuracy score : {metrics.accuracy_score(y_test, y_pred)}\")"
   ]
  },
  {
   "cell_type": "markdown",
   "id": "2431851f",
   "metadata": {},
   "source": [
    "Arbre 5"
   ]
  },
  {
   "cell_type": "code",
   "execution_count": 130,
   "id": "ad1e5bd3",
   "metadata": {
    "scrolled": true
   },
   "outputs": [
    {
     "data": {
      "image/png": "[encoded data removed]",
      "text/plain": [
       "<Figure size 800x800 with 1 Axes>"
      ]
     },
     "metadata": {},
     "output_type": "display_data"
    },
    {
     "name": "stdout",
     "output_type": "stream",
     "text": [
      "AUC : 0.7563025210084033\n",
      "Accuracy score : 0.7863247863247863\n"
     ]
    }
   ],
   "source": [
    "tree5 = DecisionTreeClassifier(criterion = 'entropy', max_depth=8, ccp_alpha = 0.025, min_samples_leaf = 5)\n",
    "tree5.fit(X_train,y_train)\n",
    "y_pred = tree5.predict(X_test)\n",
    "utilities.plot_confusion_matrix(y_true = y_test, y_pred = y_pred)\n",
    "fpr, tpr, thresholds = metrics.roc_curve(y_test, y_pred)\n",
    "print(f\"AUC : {metrics.auc(fpr, tpr)}\")\n",
    "print(f\"Accuracy score : {metrics.accuracy_score(y_test, y_pred)}\")"
   ]
  },
  {
   "cell_type": "code",
   "execution_count": 12,
   "id": "99c0d01c",
   "metadata": {},
   "outputs": [],
   "source": [
    "ccp = optimize_ccp_alpha(X_train,X_test,y_train,y_test)"
   ]
  },
  {
   "cell_type": "code",
   "execution_count": 13,
   "id": "2e4682f4",
   "metadata": {},
   "outputs": [
    {
     "data": {
      "text/plain": [
       "(array([0.01 , 0.011, 0.012, 0.013, 0.014, 0.015, 0.016, 0.017, 0.018,\n",
       "        0.019, 0.02 , 0.021, 0.022, 0.023, 0.024, 0.025, 0.026, 0.027,\n",
       "        0.028, 0.029, 0.03 , 0.031, 0.032, 0.033, 0.034, 0.035, 0.036,\n",
       "        0.037, 0.038, 0.039, 0.04 ]),\n",
       " [0.695078031212485,\n",
       "  0.695078031212485,\n",
       "  0.6877250900360145,\n",
       "  0.6877250900360145,\n",
       "  0.6877250900360145,\n",
       "  0.695078031212485,\n",
       "  0.695078031212485,\n",
       "  0.695078031212485,\n",
       "  0.695078031212485,\n",
       "  0.695078031212485,\n",
       "  0.695078031212485,\n",
       "  0.695078031212485,\n",
       "  0.695078031212485,\n",
       "  0.695078031212485,\n",
       "  0.695078031212485,\n",
       "  0.695078031212485,\n",
       "  0.695078031212485,\n",
       "  0.695078031212485,\n",
       "  0.6616146458583434,\n",
       "  0.6616146458583434,\n",
       "  0.6616146458583434,\n",
       "  0.6616146458583434,\n",
       "  0.6616146458583434,\n",
       "  0.6616146458583434,\n",
       "  0.6616146458583434,\n",
       "  0.6616146458583434,\n",
       "  0.6616146458583434,\n",
       "  0.6616146458583434,\n",
       "  0.6616146458583434,\n",
       "  0.6616146458583434,\n",
       "  0.6616146458583434])"
      ]
     },
     "execution_count": 13,
     "metadata": {},
     "output_type": "execute_result"
    }
   ],
   "source": [
    "ccp"
   ]
  }
 ],
 "metadata": {
  "kernelspec": {
   "display_name": "Python 3 (ipykernel)",
   "language": "python",
   "name": "python3"
  },
  "language_info": {
   "codemirror_mode": {
    "name": "ipython",
    "version": 3
   },
   "file_extension": ".py",
   "mimetype": "text/x-python",
   "name": "python",
   "nbconvert_exporter": "python",
   "pygments_lexer": "ipython3",
   "version": "3.11.2"
  }
 },
 "nbformat": 4,
 "nbformat_minor": 5
}
