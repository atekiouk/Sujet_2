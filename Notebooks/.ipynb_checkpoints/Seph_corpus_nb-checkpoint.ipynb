{
 "cells": [
  {
   "cell_type": "markdown",
   "id": "71e0289e",
   "metadata": {},
   "source": [
    "## **Importation du corpus Sephora**"
   ]
  },
  {
   "cell_type": "code",
   "execution_count": 25,
   "id": "75ff5826",
   "metadata": {
    "scrolled": true
   },
   "outputs": [],
   "source": [
    "import pandas as pd\n",
    "import numpy as np\n",
    "import seaborn as sns"
   ]
  },
  {
   "cell_type": "code",
   "execution_count": 15,
   "id": "77fc8abf",
   "metadata": {
    "scrolled": false
   },
   "outputs": [
    {
     "name": "stderr",
     "output_type": "stream",
     "text": [
      "C:\\Users\\a.tekiouk\\AppData\\Local\\Temp\\ipykernel_20496\\478569033.py:1: FutureWarning: The error_bad_lines argument has been deprecated and will be removed in a future version. Use on_bad_lines in the future.\n",
      "\n",
      "\n",
      "  corpus_sephora = pd.read_csv(\"C:/Users/a.tekiouk/Sujet_2/Sujet_2/DATA/corpus_sephora.csv\",sep=\";\", error_bad_lines=False)\n"
     ]
    },
    {
     "data": {
      "text/html": [
       "<div>\n",
       "<style scoped>\n",
       "    .dataframe tbody tr th:only-of-type {\n",
       "        vertical-align: middle;\n",
       "    }\n",
       "\n",
       "    .dataframe tbody tr th {\n",
       "        vertical-align: top;\n",
       "    }\n",
       "\n",
       "    .dataframe thead th {\n",
       "        text-align: right;\n",
       "    }\n",
       "</style>\n",
       "<table border=\"1\" class=\"dataframe\">\n",
       "  <thead>\n",
       "    <tr style=\"text-align: right;\">\n",
       "      <th></th>\n",
       "      <th>post_id</th>\n",
       "      <th>text</th>\n",
       "      <th>publication_time</th>\n",
       "      <th>collection_time</th>\n",
       "      <th>comments</th>\n",
       "      <th>likes</th>\n",
       "      <th>language</th>\n",
       "    </tr>\n",
       "  </thead>\n",
       "  <tbody>\n",
       "    <tr>\n",
       "      <th>0</th>\n",
       "      <td>17902879820742557</td>\n",
       "      <td>I love so much my collections from rarebeauty ...</td>\n",
       "      <td>2023-03-02 11:21:40+00:00</td>\n",
       "      <td>2023-03-02 14:08:55.328483+00:00</td>\n",
       "      <td>4</td>\n",
       "      <td>0</td>\n",
       "      <td>en</td>\n",
       "    </tr>\n",
       "    <tr>\n",
       "      <th>1</th>\n",
       "      <td>18108863101296002</td>\n",
       "      <td>Absolutely stunning✨\\n.\\n.\\n\\n#makeuplooks #ma...</td>\n",
       "      <td>2023-02-28 20:40:39+00:00</td>\n",
       "      <td>2023-03-02 14:08:55.328483+00:00</td>\n",
       "      <td>19</td>\n",
       "      <td>980</td>\n",
       "      <td>en</td>\n",
       "    </tr>\n",
       "    <tr>\n",
       "      <th>2</th>\n",
       "      <td>17845549664938623</td>\n",
       "      <td>The tea is HOT! Did you know that these 4 big ...</td>\n",
       "      <td>2023-03-02 07:37:34+00:00</td>\n",
       "      <td>2023-03-02 14:08:55.329481+00:00</td>\n",
       "      <td>7</td>\n",
       "      <td>1555</td>\n",
       "      <td>en</td>\n",
       "    </tr>\n",
       "    <tr>\n",
       "      <th>3</th>\n",
       "      <td>17947486076531533</td>\n",
       "      <td>777 💌 #greeneyes #sunkissed #grannyhair #curly...</td>\n",
       "      <td>2023-02-28 17:44:23+00:00</td>\n",
       "      <td>2023-03-02 14:08:55.330465+00:00</td>\n",
       "      <td>52</td>\n",
       "      <td>3534</td>\n",
       "      <td>en</td>\n",
       "    </tr>\n",
       "    <tr>\n",
       "      <th>4</th>\n",
       "      <td>17965335578263008</td>\n",
       "      <td>Bugün Highlighter önerisiyle geldiimm 🥳\\n\\nRev...</td>\n",
       "      <td>2023-03-01 16:36:15+00:00</td>\n",
       "      <td>2023-03-02 14:08:55.330465+00:00</td>\n",
       "      <td>29</td>\n",
       "      <td>44</td>\n",
       "      <td>tr</td>\n",
       "    </tr>\n",
       "  </tbody>\n",
       "</table>\n",
       "</div>"
      ],
      "text/plain": [
       "             post_id                                               text  \\\n",
       "0  17902879820742557  I love so much my collections from rarebeauty ...   \n",
       "1  18108863101296002  Absolutely stunning✨\\n.\\n.\\n\\n#makeuplooks #ma...   \n",
       "2  17845549664938623  The tea is HOT! Did you know that these 4 big ...   \n",
       "3  17947486076531533  777 💌 #greeneyes #sunkissed #grannyhair #curly...   \n",
       "4  17965335578263008  Bugün Highlighter önerisiyle geldiimm 🥳\\n\\nRev...   \n",
       "\n",
       "            publication_time                   collection_time  comments  \\\n",
       "0  2023-03-02 11:21:40+00:00  2023-03-02 14:08:55.328483+00:00         4   \n",
       "1  2023-02-28 20:40:39+00:00  2023-03-02 14:08:55.328483+00:00        19   \n",
       "2  2023-03-02 07:37:34+00:00  2023-03-02 14:08:55.329481+00:00         7   \n",
       "3  2023-02-28 17:44:23+00:00  2023-03-02 14:08:55.330465+00:00        52   \n",
       "4  2023-03-01 16:36:15+00:00  2023-03-02 14:08:55.330465+00:00        29   \n",
       "\n",
       "   likes language  \n",
       "0      0       en  \n",
       "1    980       en  \n",
       "2   1555       en  \n",
       "3   3534       en  \n",
       "4     44       tr  "
      ]
     },
     "execution_count": 15,
     "metadata": {},
     "output_type": "execute_result"
    }
   ],
   "source": [
    "corpus_sephora = pd.read_csv(\"C:/Users/a.tekiouk/Sujet_2/Sujet_2/DATA/corpus_sephora.csv\",sep=\";\", error_bad_lines=False)\n",
    "corpus_sephora.head()"
   ]
  },
  {
   "cell_type": "markdown",
   "id": "089ebf39",
   "metadata": {},
   "source": [
    "format publication time/collection time : *`YYYY-MM-DD HH:MM:SS+00:00`*"
   ]
  },
  {
   "cell_type": "code",
   "execution_count": 45,
   "id": "687e5a93",
   "metadata": {},
   "outputs": [
    {
     "data": {
      "text/plain": [
       "(200, 7)"
      ]
     },
     "execution_count": 45,
     "metadata": {},
     "output_type": "execute_result"
    }
   ],
   "source": [
    "corpus_sephora.shape"
   ]
  },
  {
   "cell_type": "code",
   "execution_count": 47,
   "id": "aaed893f",
   "metadata": {},
   "outputs": [
    {
     "data": {
      "text/html": [
       "<div>\n",
       "<style scoped>\n",
       "    .dataframe tbody tr th:only-of-type {\n",
       "        vertical-align: middle;\n",
       "    }\n",
       "\n",
       "    .dataframe tbody tr th {\n",
       "        vertical-align: top;\n",
       "    }\n",
       "\n",
       "    .dataframe thead th {\n",
       "        text-align: right;\n",
       "    }\n",
       "</style>\n",
       "<table border=\"1\" class=\"dataframe\">\n",
       "  <thead>\n",
       "    <tr style=\"text-align: right;\">\n",
       "      <th></th>\n",
       "      <th>comments</th>\n",
       "      <th>likes</th>\n",
       "    </tr>\n",
       "  </thead>\n",
       "  <tbody>\n",
       "    <tr>\n",
       "      <th>count</th>\n",
       "      <td>200.000000</td>\n",
       "      <td>200.000000</td>\n",
       "    </tr>\n",
       "    <tr>\n",
       "      <th>mean</th>\n",
       "      <td>27.265000</td>\n",
       "      <td>464.295000</td>\n",
       "    </tr>\n",
       "    <tr>\n",
       "      <th>std</th>\n",
       "      <td>136.034229</td>\n",
       "      <td>1104.630809</td>\n",
       "    </tr>\n",
       "    <tr>\n",
       "      <th>min</th>\n",
       "      <td>0.000000</td>\n",
       "      <td>0.000000</td>\n",
       "    </tr>\n",
       "    <tr>\n",
       "      <th>25%</th>\n",
       "      <td>2.000000</td>\n",
       "      <td>13.750000</td>\n",
       "    </tr>\n",
       "    <tr>\n",
       "      <th>50%</th>\n",
       "      <td>6.000000</td>\n",
       "      <td>42.000000</td>\n",
       "    </tr>\n",
       "    <tr>\n",
       "      <th>75%</th>\n",
       "      <td>17.250000</td>\n",
       "      <td>516.500000</td>\n",
       "    </tr>\n",
       "    <tr>\n",
       "      <th>max</th>\n",
       "      <td>1882.000000</td>\n",
       "      <td>10338.000000</td>\n",
       "    </tr>\n",
       "  </tbody>\n",
       "</table>\n",
       "</div>"
      ],
      "text/plain": [
       "          comments         likes\n",
       "count   200.000000    200.000000\n",
       "mean     27.265000    464.295000\n",
       "std     136.034229   1104.630809\n",
       "min       0.000000      0.000000\n",
       "25%       2.000000     13.750000\n",
       "50%       6.000000     42.000000\n",
       "75%      17.250000    516.500000\n",
       "max    1882.000000  10338.000000"
      ]
     },
     "execution_count": 47,
     "metadata": {},
     "output_type": "execute_result"
    }
   ],
   "source": [
    "corpus_sephora[['comments','likes']].describe()"
   ]
  },
  {
   "cell_type": "code",
   "execution_count": 34,
   "id": "72775d06",
   "metadata": {},
   "outputs": [
    {
     "data": {
      "text/plain": [
       "<seaborn.axisgrid.FacetGrid at 0x1f71a14e6d0>"
      ]
     },
     "execution_count": 34,
     "metadata": {},
     "output_type": "execute_result"
    },
    {
     "data": {
      "image/png": "[encoded data removed]",
      "text/plain": [
       "<Figure size 500x500 with 1 Axes>"
      ]
     },
     "metadata": {},
     "output_type": "display_data"
    }
   ],
   "source": [
    "sns.displot(corpus_sephora['likes'])"
   ]
  },
  {
   "cell_type": "code",
   "execution_count": 37,
   "id": "1dac8441",
   "metadata": {
    "scrolled": false
   },
   "outputs": [
    {
     "data": {
      "text/plain": [
       "<seaborn.axisgrid.FacetGrid at 0x1f71ab66810>"
      ]
     },
     "execution_count": 37,
     "metadata": {},
     "output_type": "execute_result"
    },
    {
     "data": {
      "image/png": "[encoded data removed]",
      "text/plain": [
       "<Figure size 500x500 with 1 Axes>"
      ]
     },
     "metadata": {},
     "output_type": "display_data"
    }
   ],
   "source": [
    "sns.displot(corpus_sephora['comments'])"
   ]
  },
  {
   "cell_type": "code",
   "execution_count": 43,
   "id": "767be2cf",
   "metadata": {},
   "outputs": [
    {
     "data": {
      "text/plain": [
       "array(['en', 'tr', 'fr', 'af', 'it', 'fa', 'pl', 'el', 'tl', 'ko', 'fi',\n",
       "       'no', 'sl', 'et', 'pt', 'ja', nan, 'de', 'es', 'ar', 'hr'],\n",
       "      dtype=object)"
      ]
     },
     "execution_count": 43,
     "metadata": {},
     "output_type": "execute_result"
    }
   ],
   "source": [
    "corpus_sephora['language'].unique()"
   ]
  },
  {
   "cell_type": "markdown",
   "id": "601ff112",
   "metadata": {},
   "source": [
    "### Library spaCy"
   ]
  },
  {
   "cell_type": "code",
   "execution_count": null,
   "id": "39e4b04c",
   "metadata": {},
   "outputs": [],
   "source": []
  },
  {
   "cell_type": "code",
   "execution_count": null,
   "id": "4b790d46",
   "metadata": {},
   "outputs": [],
   "source": []
  },
  {
   "cell_type": "code",
   "execution_count": null,
   "id": "545e97c8",
   "metadata": {},
   "outputs": [],
   "source": []
  }
 ],
 "metadata": {
  "kernelspec": {
   "display_name": "Python 3 (ipykernel)",
   "language": "python",
   "name": "python3"
  },
  "language_info": {
   "codemirror_mode": {
    "name": "ipython",
    "version": 3
   },
   "file_extension": ".py",
   "mimetype": "text/x-python",
   "name": "python",
   "nbconvert_exporter": "python",
   "pygments_lexer": "ipython3",
   "version": "3.11.2"
  }
 },
 "nbformat": 4,
 "nbformat_minor": 5
}
