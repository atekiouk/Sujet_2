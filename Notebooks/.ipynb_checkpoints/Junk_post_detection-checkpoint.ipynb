{
 "cells": [
  {
   "cell_type": "markdown",
   "id": "675abf8a",
   "metadata": {},
   "source": [
    "# Import des Data"
   ]
  },
  {
   "cell_type": "markdown",
   "id": "4153ad43",
   "metadata": {},
   "source": [
    "On importe toutes les bibliothèques."
   ]
  },
  {
   "cell_type": "code",
   "execution_count": 3,
   "id": "c9f79094",
   "metadata": {},
   "outputs": [],
   "source": [
    "import pandas            as pd\n",
    "import numpy             as np\n",
    "import seaborn           as sns\n",
    "import matplotlib.pyplot as plt\n",
    "import spacy\n",
    "import re\n",
    "import sklearn\n",
    "import random\n",
    "\n",
    "from spacy.vocab               import Vocab\n",
    "from spacy.language            import Language\n",
    "from spacy.tokens              import Token\n",
    "from spacymoji                 import Emoji\n",
    "from   sklearn.tree            import DecisionTreeClassifier\n",
    "from   sklearn.model_selection import train_test_split\n",
    "from   sklearn.metrics         import confusion_matrix\n",
    "\n",
    "\n",
    "\n",
    "\n"
   ]
  },
  {
   "cell_type": "markdown",
   "id": "443fcce9",
   "metadata": {},
   "source": [
    "Importation du corpus."
   ]
  },
  {
   "cell_type": "code",
   "execution_count": 8,
   "id": "3957c3ca",
   "metadata": {},
   "outputs": [
    {
     "name": "stdout",
     "output_type": "stream",
     "text": [
      "# documents in corpus: 2285\n"
     ]
    }
   ],
   "source": [
    "corpus = pd.read_csv(\"C:/Users/a.tekiouk/Sujet_2/Sujet_2/DATA/chanel_5k.csv\", sep=\";\", parse_dates=[\"publication_time\"])\n",
    "\n",
    "# on récupére les posts en anglais\n",
    "mask = corpus[\"language\"] == 'en'\n",
    "corpus = corpus.loc[mask]\n",
    "chanel = corpus['text'].tolist()\n",
    "publication_time_chanel = corpus['publication_time'].tolist()\n",
    "\n",
    "print(f\"# documents in corpus: {len(chanel)}\")"
   ]
  },
  {
   "cell_type": "markdown",
   "id": "b357d64c",
   "metadata": {},
   "source": [
    "On définit les différents éléments de la *pipeline* `spacy` pour détecter les emojis et les hashtags."
   ]
  },
  {
   "cell_type": "code",
   "execution_count": 4,
   "id": "b44faad5",
   "metadata": {},
   "outputs": [],
   "source": [
    "@Language.component(\"hashtag\")\n",
    "def hashtag_pipe(\n",
    "    doc : spacy.tokens.doc.Doc\n",
    ") -> spacy.tokens.doc.Doc:\n",
    "    \"\"\"\n",
    "    Spacy pipeline component that detects if a word is a hashtag or not.\n",
    "\n",
    "    Parameters\n",
    "    ----------\n",
    "    doc : spacy.tokens.Doc\n",
    "        The input document to process.\n",
    "\n",
    "    Returns\n",
    "    -------\n",
    "    spacy.tokens.Doc\n",
    "        The processed document with updated token attributes.\n",
    "    \"\"\"\n",
    "    merged_hashtag = False\n",
    "    while True:\n",
    "        for token in doc:\n",
    "            if token.text == '#':\n",
    "                if token.head is not None:\n",
    "                    start_index = token.i\n",
    "                    end_index = start_index + 1\n",
    "                    with doc.retokenize() as retokenizer:\n",
    "                        retokenizer.merge(doc[start_index:end_index+1])\n",
    "                        merged_hashtag = True\n",
    "                        break\n",
    "        if not merged_hashtag:\n",
    "            break\n",
    "        merged_hashtag = False\n",
    "    return doc\n",
    "\n",
    "# définition du pipe\n",
    "nlp = spacy.load(\"en_core_web_sm\")\n",
    "nlp.add_pipe(\"emoji\", first=True)\n",
    "nlp.add_pipe(\"hashtag\", first=True)\n",
    "Token.set_extension(\"is_hashtag\", getter=lambda token: token.text[0] in (\"#\"), force=True)"
   ]
  },
  {
   "cell_type": "markdown",
   "id": "a8d1fbf0",
   "metadata": {},
   "source": [
    "# Méthodes"
   ]
  },
  {
   "cell_type": "code",
   "execution_count": 5,
   "id": "f0cb1f94",
   "metadata": {},
   "outputs": [],
   "source": [
    "def clean_hashtag(text: str) -> str:\n",
    "    \"\"\"\n",
    "    Remove hashtags from a text.\n",
    "\n",
    "    Parameters\n",
    "    ----------\n",
    "    text : str\n",
    "        The input text.\n",
    "\n",
    "    Returns\n",
    "    -------\n",
    "    str\n",
    "    \"\"\"\n",
    "    hashtag_pattern= re.compile(\"#[A-Za-z0-9_]+\")\n",
    "    return re.sub(hashtag_pattern,\"\", text) #On supprime tout les types de #\n",
    "    "
   ]
  },
  {
   "cell_type": "code",
   "execution_count": 6,
   "id": "bcfe3e2e",
   "metadata": {},
   "outputs": [],
   "source": [
    "def clear_trailing_hash(\n",
    "    corpus: pd.Series\n",
    ") -> None:\n",
    "    \"\"\"\n",
    "    Clear any trailing '#' character from each string in a list.\n",
    "    \n",
    "    Parameters\n",
    "    ----------\n",
    "    corpus : list of str\n",
    "        pd.Series of strings to be processed.\n",
    "    \n",
    "    Returns\n",
    "    -------\n",
    "    None\n",
    "        The function only modifies the input corpus list in place.\n",
    "    \"\"\"\n",
    "    for i in range(len(corpus)):\n",
    "        if(corpus[i][-1]==\"#\"):\n",
    "            corpus[i] = corpus[i].rstrip(corpus[i][-1])"
   ]
  },
  {
   "cell_type": "code",
   "execution_count": 8,
   "id": "a1a3e567",
   "metadata": {},
   "outputs": [
    {
     "ename": "IndentationError",
     "evalue": "unindent does not match any outer indentation level (<tokenize>, line 27)",
     "output_type": "error",
     "traceback": [
      "\u001b[1;36m  File \u001b[1;32m<tokenize>:27\u001b[1;36m\u001b[0m\n\u001b[1;33m    hashtags = []\u001b[0m\n\u001b[1;37m    ^\u001b[0m\n\u001b[1;31mIndentationError\u001b[0m\u001b[1;31m:\u001b[0m unindent does not match any outer indentation level\n"
     ]
    }
   ],
   "source": [
    "# TODO: voir si l'on peut passer en paramètre un objet spacy qui identifie le type de token,\n",
    "# afin de n'écrire qu'une seule méthode (pour les hashtags, les emojis, etc...).\n",
    "def top_hashtags(\n",
    "    corpus: pd.Series,\n",
    "    top: int = 5,\n",
    "    nlp : spacy.lang.en.English\n",
    ") -> pd.Series:\n",
    "        \"\"\"\n",
    "    Retrieves the most frequent hashtags in the given corpus.\n",
    "    \n",
    "    Parameters\n",
    "    ----------\n",
    "    corpus : pd.Series\n",
    "        The pd.Series of text documents to retrieve hashtags from.\n",
    "    top : int, optional\n",
    "        The number of top hashtags to return. Default is 5.\n",
    "    nlp : spacy.lang.en.English\n",
    "        A spacy language model with a custom pipe to detect hashtags.\n",
    "    \n",
    "    Returns\n",
    "    -------\n",
    "    pd.Series\n",
    "        A pandas Series containing the count of each of the most frequent hashtags found in the corpus,\n",
    "        sorted in descending order.\n",
    "    \"\"\"\n",
    "    # retrieve all hashtags in corpus\n",
    "    hashtags = []\n",
    "    for i in corpus:\n",
    "        doc = nlp(i)\n",
    "        for token in doc:\n",
    "            if token._.is_hashtag:\n",
    "                hashtags.append(token.text)\n",
    "    # count hashtags & return most frequents\n",
    "    return (\n",
    "        pd\n",
    "        .Series(hashtags)\n",
    "        .value_counts()\n",
    "        .sort_values(ascending=False)\n",
    "        .head(top)\n",
    "    )"
   ]
  },
  {
   "cell_type": "code",
   "execution_count": 10,
   "id": "b2bb882c",
   "metadata": {},
   "outputs": [
    {
     "ename": "IndentationError",
     "evalue": "unindent does not match any outer indentation level (<tokenize>, line 24)",
     "output_type": "error",
     "traceback": [
      "\u001b[1;36m  File \u001b[1;32m<tokenize>:24\u001b[1;36m\u001b[0m\n\u001b[1;33m    emojis = []\u001b[0m\n\u001b[1;37m    ^\u001b[0m\n\u001b[1;31mIndentationError\u001b[0m\u001b[1;31m:\u001b[0m unindent does not match any outer indentation level\n"
     ]
    }
   ],
   "source": [
    "def top_emojis(\n",
    "    corpus: pd.Series,\n",
    "    top: int = 5\n",
    " ) -> pd.Series:\n",
    "         \"\"\"\n",
    "    Retrieves the most frequent emojis in the given corpus.\n",
    "    \n",
    "    Parameters\n",
    "    ----------\n",
    "    corpus : pd.Series\n",
    "        The pd.Series of text documents to retrieve hashtags from.\n",
    "    top : int, optional\n",
    "        The number of top hashtags to return. Default is 5.\n",
    "    nlp : spacy.lang.en.English\n",
    "        A spacy language model with a custom pipe to detect hashtags.\n",
    "    \n",
    "    Returns\n",
    "    -------\n",
    "    pd.Series\n",
    "        A pandas Series containing the count of each of the most frequent emojis found in the corpus,\n",
    "        sorted in descending order.\n",
    "    \"\"\"\n",
    "    # Retrieve emojis in corpus\n",
    "    emojis = []\n",
    "    for i in corpus:\n",
    "        doc = nlp(i)\n",
    "        for token in doc:\n",
    "            if token._.is_emoji:\n",
    "                emojis.append(token.text)\n",
    "\n",
    "    # count occurrences & return most frequent\n",
    "    return (\n",
    "        pd\n",
    "        .Series(emojis)\n",
    "        .value_counts()\n",
    "        .sort_values(ascending=False)\n",
    "        .head(top)\n",
    "    )"
   ]
  },
  {
   "cell_type": "code",
   "execution_count": 36,
   "id": "257cbb0b",
   "metadata": {},
   "outputs": [],
   "source": [
    "def create_dummies(corpus: pd.Series,\n",
    "                   y : pd.Series,\n",
    "                   element: str,\n",
    "                   top: int = 5\n",
    ") -> pd.DataFrame:\n",
    "    \"\"\"\n",
    "    Create dummy encodings for most frequents text elements in the given corpus.\n",
    "\n",
    "    Parameters\n",
    "    ----------\n",
    "    corpus : pd.Series\n",
    "        The corpus on which the elements will be searched for.\n",
    "    y : pd.Series\n",
    "        The variable which will enable to filter the rows to use to determine the top elements+\n",
    "    element : str, {'hashtag', 'emoji'}\n",
    "        The text element to look for. Currently, only 'hashtag' and 'emoji' are supported.\n",
    "    top : int, optional\n",
    "        The number of top modalities to dummy encode. Default is 5.\n",
    "\n",
    "    Returns\n",
    "    -------\n",
    "    pd.DataFrame\n",
    "        The dummy encoding corresponding to the most frequent modalities of the specified elements.\n",
    "    \n",
    "    Raises\n",
    "    ------\n",
    "    ValueError: if ``element`` is not supported.\n",
    "    \"\"\"\n",
    "    def _is_hashtag(token):\n",
    "        return token._.is_hashtag\n",
    "    def _is_emoji(token):\n",
    "        return token._.is_emoji\n",
    "    if element == 'hashtag':\n",
    "        detector = _is_hashtag\n",
    "    elif element == 'emoji':\n",
    "        detector = _is_emoji\n",
    "    else:\n",
    "        raise ValueError(\"Only 'hashtag' and 'emoji' elements are supported.\")\n",
    "\n",
    "    top_elements = (\n",
    "        corpus[y==1]\n",
    "        .apply(lambda text: [token.text for token in nlp(text) if detector(token)])\n",
    "        .explode()\n",
    "        .value_counts()\n",
    "        .head(top)\n",
    "        .index\n",
    "    )\n",
    "\n",
    "    dummy = pd.DataFrame(index=corpus.index)\n",
    "    for e in top_elements:\n",
    "        dummy[e] = corpus.apply(lambda text: 1 if e in [token.text for token in nlp(text) if detector(token)] else 0)\n",
    "\n",
    "    return dummy"
   ]
  },
  {
   "cell_type": "code",
   "execution_count": 12,
   "id": "8cd78142",
   "metadata": {},
   "outputs": [],
   "source": [
    "def get_word_ratio(\n",
    "    corpus: list, \n",
    "    nlp: spacy.lang.en.English\n",
    ") -> list[float]:\n",
    "    \"\"\"\n",
    "    Computes the ratio of words to hashtags in the text column of the given dataframe.\n",
    "\n",
    "    Parameters\n",
    "    ----------\n",
    "    df: pd.DataFrame\n",
    "        The dataframe containing the text column.\n",
    "    nlp: spacy.lang.en.English\n",
    "        The spacy English pipeline.\n",
    "\n",
    "    Returns\n",
    "    -------\n",
    "    List[float]\n",
    "        The list of word-to-hashtag ratios computed for each text in the dataframe.\n",
    "    \"\"\"\n",
    "    ratio = []\n",
    "    for i in corpus:\n",
    "        doc = nlp(i)\n",
    "        nb_word = 0\n",
    "        nb_hash = 0\n",
    "        for token in doc:\n",
    "            if(token._.is_hashtag):\n",
    "                nb_hash+=1\n",
    "            else:\n",
    "                nb_word+=1\n",
    "        if((nb_hash+nb_word)!=0):\n",
    "            ratio.append(nb_word/(nb_hash+nb_word))\n",
    "        else:\n",
    "            ratio.append(0)  \n",
    "    return ratio"
   ]
  },
  {
   "cell_type": "code",
   "execution_count": 13,
   "id": "e3bfa4b2",
   "metadata": {},
   "outputs": [],
   "source": [
    "def get_caps_ratio(\n",
    "    corpus: list,\n",
    "    nlp: spacy.lang.en.English\n",
    ") -> list[float]:\n",
    "    \"\"\"\n",
    "    Calculates the ratio of capitalized words in each text of the given DataFrame.\n",
    "    \n",
    "    Parameters\n",
    "    ----------\n",
    "    corpus: list\n",
    "        The list containing the text to analyze.\n",
    "    \n",
    "    Returns\n",
    "    -------\n",
    "    list[float]\n",
    "        The list containing the ratios of capitalized words for each text.\n",
    "    \"\"\"\n",
    "    ratio = []\n",
    "    for i in corpus:\n",
    "        doc = nlp(clean_hashtag(i))\n",
    "        nb_lower = 0\n",
    "        nb_caps = 0\n",
    "        for token in doc:\n",
    "            if(token.text.isupper()):\n",
    "                nb_caps+=1\n",
    "            else:\n",
    "                nb_lower+=1\n",
    "        if((nb_caps+nb_lower)!=0):\n",
    "            ratio.append(nb_caps/(nb_caps+nb_lower))\n",
    "        else:\n",
    "            ratio.append(1)\n",
    "    return ratio"
   ]
  },
  {
   "cell_type": "code",
   "execution_count": 14,
   "id": "dbd98a38",
   "metadata": {},
   "outputs": [],
   "source": [
    "def get_normalized_nb_punct(\n",
    "        corpus: list,\n",
    "        nlp: spacy.lang.en.English\n",
    "        ) -> list:\n",
    "    \"\"\"\n",
    "    Counts the number of punctuation symbols in each string of the given corpus.\n",
    "    \n",
    "    Parameters\n",
    "    ----------\n",
    "    corpus : list\n",
    "        A list of strings to be processed.\n",
    "    nlp : spacy.lang.en.English\n",
    "        A spaCy English language processing pipeline instance.\n",
    "\n",
    "    Returns\n",
    "    -------\n",
    "    list\n",
    "        A list containing the number of punctuation symbols in each string of the corpus.\n",
    "    \"\"\"\n",
    "    tot = []\n",
    "    for i in corpus:\n",
    "        doc = nlp(clean_hashtag(i))\n",
    "        nb_punct = 0\n",
    "        for token in doc:\n",
    "            if(token.is_punct):\n",
    "                nb_punct+=1\n",
    "        if(len(doc)!=0):\n",
    "            tot.append(nb_punct/len(doc))\n",
    "        else:\n",
    "            tot.append(1)\n",
    "    return tot"
   ]
  },
  {
   "cell_type": "code",
   "execution_count": 15,
   "id": "30eb08c2",
   "metadata": {},
   "outputs": [],
   "source": [
    "def del_double(\n",
    "    corpus: list, \n",
    "    publication_time: list, \n",
    "    limit: float, \n",
    "    method: callable\n",
    "    ) -> list: \n",
    "    \"\"\"\n",
    "    Remove duplicated elements from a list of strings using Levenshtein distance.\n",
    "\n",
    "    Parameters\n",
    "    ----------\n",
    "    corpus : list of str\n",
    "        The list of strings to remove duplicates from.\n",
    "    publication_time : list of timestamp\n",
    "        The list of publication time for each element in the corpus.\n",
    "    limit : float\n",
    "        The distance threshold under which two elements are considered duplicates.\n",
    "        Must be in the range [0, 1] if using normalized Levenshtein distance, or\n",
    "        in the range [0, 100] if using classical Levenshtein distance.\n",
    "    method : function\n",
    "        The method to use to compute the distance between two strings.\n",
    "\n",
    "    Returns\n",
    "    -------\n",
    "    list of str\n",
    "        The list of strings with duplicates removed.\n",
    "    \"\"\"\n",
    "    \n",
    "    t = txt.copy()\n",
    "    distance = method #initialisiation de levenshtein avec la distance normalisée.\n",
    "    i = 0\n",
    "    r = len(t)\n",
    "    while(i<r):\n",
    "        r = len(t)\n",
    "        j=i+1\n",
    "        while(j<r):\n",
    "            if(distance(clean_hashtag(t[i]).strip(),clean_hashtag(t[j]).strip()) <= s ): # Si la distance entre les deux élemens de la liste inf à seuil\n",
    "                if(publication_time[i]<publication_time[j]):\n",
    "                    del t[j] #delete\n",
    "                    r = len(t) #on actualise la taille de la liste\n",
    "                else:\n",
    "                    del t[i]\n",
    "                    r = len(t) #on actualise la taille de la liste\n",
    "            else:\n",
    "                j+=1\n",
    "        i+=1\n",
    "    return t"
   ]
  },
  {
   "cell_type": "code",
   "execution_count": 66,
   "id": "aea142bb",
   "metadata": {},
   "outputs": [],
   "source": [
    "def train_test(\n",
    "    data: pd.DataFrame,\n",
    "    y: str,\n",
    "    f_y0: float, \n",
    "    f_y1: float\n",
    "    ) -> tuple[pd.DataFrame, pd.DataFrame]:\n",
    "    \"\"\"\n",
    "    Splits a pandas DataFrame into two DataFrames for training and testing purposes.\n",
    "\n",
    "    Parameters:\n",
    "    ----------\n",
    "        data : pd.DataFrame\n",
    "            The input DataFrame.\n",
    "        y : str \n",
    "            The target variable.\n",
    "        f_y0 : float\n",
    "            The fraction of rows with y=0 to include in the training DataFrame.\n",
    "        f_y1 : float\n",
    "            The fraction of rows with y=1 to include in the training DataFrame.\n",
    "\n",
    "    Returns:\n",
    "        tuple(pd.DataFrame, pd.DataFrame): The training and testing DataFrames.\n",
    "    \"\"\"\n",
    "    num_y0 = (data[y] == 0).sum()\n",
    "    num_y1 = (data[y] == 1).sum()\n",
    "    \n",
    "    # Calculate the number of rows to put in train set and test set\n",
    "    num_train_y0 = int(num_y0 * f_y0)\n",
    "    num_train_y1 = int(num_y1 * f_y1)\n",
    "    num_train = num_train_y0 + num_train_y1\n",
    "    \n",
    "    # Split the data into train and test sets\n",
    "    train_y0 = data[data[y] == 0].sample(n=num_train_y0)\n",
    "    train_y1 = data[data[y] == 1].sample(n=num_train_y1)\n",
    "    train = pd.concat([train_y0, train_y1])\n",
    "    test = data.drop(train.index)\n",
    "    \n",
    "    return train, test"
   ]
  },
  {
   "cell_type": "markdown",
   "id": "3bd117ef",
   "metadata": {},
   "source": [
    "# Creation d'un sample de validation"
   ]
  },
  {
   "cell_type": "code",
   "execution_count": null,
   "id": "7042c0ba",
   "metadata": {},
   "outputs": [],
   "source": [
    "import random\n",
    "chanel_junk_valid = random.choices(chanel, k=700)"
   ]
  },
  {
   "cell_type": "code",
   "execution_count": 35,
   "id": "8dcc7785",
   "metadata": {
    "collapsed": true
   },
   "outputs": [
    {
     "ename": "NameError",
     "evalue": "name 'chanel_junk_valid' is not defined",
     "output_type": "error",
     "traceback": [
      "\u001b[1;31m---------------------------------------------------------------------------\u001b[0m",
      "\u001b[1;31mNameError\u001b[0m                                 Traceback (most recent call last)",
      "Cell \u001b[1;32mIn[35], line 3\u001b[0m\n\u001b[0;32m      1\u001b[0m \u001b[38;5;28;01mimport\u001b[39;00m \u001b[38;5;21;01mtextdistance\u001b[39;00m\n\u001b[0;32m      2\u001b[0m dist \u001b[38;5;241m=\u001b[39m textdistance\u001b[38;5;241m.\u001b[39mlevenshtein\u001b[38;5;241m.\u001b[39mnormalized_distance\n\u001b[1;32m----> 3\u001b[0m chanel_junk_valid_dd \u001b[38;5;241m=\u001b[39m del_double(\u001b[43mchanel_junk_valid\u001b[49m,publication_time_chanel,\u001b[38;5;241m0.5\u001b[39m,dist)\n",
      "\u001b[1;31mNameError\u001b[0m: name 'chanel_junk_valid' is not defined"
     ]
    }
   ],
   "source": [
    "import textdistance\n",
    "dist = textdistance.levenshtein.normalized_distance\n",
    "chanel_junk_valid_dd = del_double(chanel_junk_valid,publication_time_chanel,0.5,dist)"
   ]
  },
  {
   "cell_type": "code",
   "execution_count": null,
   "id": "1a47bbff",
   "metadata": {},
   "outputs": [],
   "source": [
    "len(chanel_junk_valid_dd)"
   ]
  },
  {
   "cell_type": "code",
   "execution_count": null,
   "id": "4726251b",
   "metadata": {},
   "outputs": [],
   "source": [
    "chanel_junk_valid_df= pd.DataFrame()\n",
    "chanel_junk_valid_df['text'] = chanel_junk_valid_dd"
   ]
  },
  {
   "cell_type": "code",
   "execution_count": null,
   "id": "1ff6d698",
   "metadata": {},
   "outputs": [],
   "source": [
    "chanel_junk_valid_df.to_csv(\"C:/Users/a.tekiouk/Sujet_2/Sujet_2/DATA/chanel_junk_valid.csv\")\n",
    "# Ajout de la variable is_junk sur excel"
   ]
  },
  {
   "cell_type": "markdown",
   "id": "c1e6a2f0",
   "metadata": {},
   "source": [
    "### Sample de validation : "
   ]
  },
  {
   "cell_type": "code",
   "execution_count": 40,
   "id": "e2e63044",
   "metadata": {},
   "outputs": [
    {
     "name": "stderr",
     "output_type": "stream",
     "text": [
      "C:\\Users\\a.tekiouk\\AppData\\Local\\Temp\\ipykernel_4092\\672916536.py:19: SettingWithCopyWarning: \n",
      "A value is trying to be set on a copy of a slice from a DataFrame\n",
      "\n",
      "See the caveats in the documentation: https://pandas.pydata.org/pandas-docs/stable/user_guide/indexing.html#returning-a-view-versus-a-copy\n",
      "  corpus[i] = corpus[i].rstrip(corpus[i][-1])\n"
     ]
    }
   ],
   "source": [
    "chanel_junk_valid_new = pd.read_excel('C:/Users/a.tekiouk/Sujet_2/Sujet_2/DATA/chanel_junk_valid_new.xlsx')\n",
    "chanel_junk_valid_new = chanel_junk_valid_new[['text','is_junk']]\n",
    "clear_trailing_hash(chanel_junk_valid_new['text'])"
   ]
  },
  {
   "cell_type": "code",
   "execution_count": 41,
   "id": "dd27e0fc",
   "metadata": {},
   "outputs": [
    {
     "data": {
      "text/html": [
       "<div>\n",
       "<style scoped>\n",
       "    .dataframe tbody tr th:only-of-type {\n",
       "        vertical-align: middle;\n",
       "    }\n",
       "\n",
       "    .dataframe tbody tr th {\n",
       "        vertical-align: top;\n",
       "    }\n",
       "\n",
       "    .dataframe thead th {\n",
       "        text-align: right;\n",
       "    }\n",
       "</style>\n",
       "<table border=\"1\" class=\"dataframe\">\n",
       "  <thead>\n",
       "    <tr style=\"text-align: right;\">\n",
       "      <th></th>\n",
       "      <th>text</th>\n",
       "      <th>is_junk</th>\n",
       "    </tr>\n",
       "  </thead>\n",
       "  <tbody>\n",
       "    <tr>\n",
       "      <th>0</th>\n",
       "      <td>The camelia - a long time symbol of Chanel and...</td>\n",
       "      <td>0</td>\n",
       "    </tr>\n",
       "    <tr>\n",
       "      <th>1</th>\n",
       "      <td>Wknds are my happy place 🤍 even if they do inc...</td>\n",
       "      <td>1</td>\n",
       "    </tr>\n",
       "    <tr>\n",
       "      <th>2</th>\n",
       "      <td>Used Card holder XL 24999.-\\n\\nLine: 244xfzmn</td>\n",
       "      <td>1</td>\n",
       "    </tr>\n",
       "    <tr>\n",
       "      <th>3</th>\n",
       "      <td>My love for a chanelofficial classic flap 😌| #...</td>\n",
       "      <td>0</td>\n",
       "    </tr>\n",
       "    <tr>\n",
       "      <th>4</th>\n",
       "      <td>HAPPY BIRTHDAY KING KUMA\\n\\nJENNIE #SOLO STAGE...</td>\n",
       "      <td>1</td>\n",
       "    </tr>\n",
       "  </tbody>\n",
       "</table>\n",
       "</div>"
      ],
      "text/plain": [
       "                                                text  is_junk\n",
       "0  The camelia - a long time symbol of Chanel and...        0\n",
       "1  Wknds are my happy place 🤍 even if they do inc...        1\n",
       "2      Used Card holder XL 24999.-\\n\\nLine: 244xfzmn        1\n",
       "3  My love for a chanelofficial classic flap 😌| #...        0\n",
       "4  HAPPY BIRTHDAY KING KUMA\\n\\nJENNIE #SOLO STAGE...        1"
      ]
     },
     "execution_count": 41,
     "metadata": {},
     "output_type": "execute_result"
    }
   ],
   "source": [
    "chanel_junk_valid_new.head()"
   ]
  },
  {
   "cell_type": "markdown",
   "id": "d477dabf",
   "metadata": {},
   "source": [
    "# Ajout de features"
   ]
  },
  {
   "cell_type": "markdown",
   "id": "fc6099cc",
   "metadata": {},
   "source": [
    "### Ratio de mot"
   ]
  },
  {
   "cell_type": "code",
   "execution_count": 42,
   "id": "a3960316",
   "metadata": {},
   "outputs": [],
   "source": [
    "chanel_junk_valid_new['word_ratio'] = get_word_ratio(corpus= chanel_junk_valid_new['text'], nlp= nlp  )"
   ]
  },
  {
   "cell_type": "code",
   "execution_count": 30,
   "id": "3b9e757d",
   "metadata": {},
   "outputs": [
    {
     "data": {
      "text/html": [
       "<div>\n",
       "<style scoped>\n",
       "    .dataframe tbody tr th:only-of-type {\n",
       "        vertical-align: middle;\n",
       "    }\n",
       "\n",
       "    .dataframe tbody tr th {\n",
       "        vertical-align: top;\n",
       "    }\n",
       "\n",
       "    .dataframe thead th {\n",
       "        text-align: right;\n",
       "    }\n",
       "</style>\n",
       "<table border=\"1\" class=\"dataframe\">\n",
       "  <thead>\n",
       "    <tr style=\"text-align: right;\">\n",
       "      <th></th>\n",
       "      <th>text</th>\n",
       "      <th>is_junk</th>\n",
       "      <th>word_ratio</th>\n",
       "    </tr>\n",
       "  </thead>\n",
       "  <tbody>\n",
       "    <tr>\n",
       "      <th>0</th>\n",
       "      <td>The camelia - a long time symbol of Chanel and...</td>\n",
       "      <td>0</td>\n",
       "      <td>0.587302</td>\n",
       "    </tr>\n",
       "    <tr>\n",
       "      <th>1</th>\n",
       "      <td>Wknds are my happy place 🤍 even if they do inc...</td>\n",
       "      <td>1</td>\n",
       "      <td>0.680851</td>\n",
       "    </tr>\n",
       "    <tr>\n",
       "      <th>2</th>\n",
       "      <td>Used Card holder XL 24999.-\\n\\nLine: 244xfzmn</td>\n",
       "      <td>1</td>\n",
       "      <td>1.000000</td>\n",
       "    </tr>\n",
       "    <tr>\n",
       "      <th>3</th>\n",
       "      <td>My love for a chanelofficial classic flap 😌| #...</td>\n",
       "      <td>0</td>\n",
       "      <td>0.562500</td>\n",
       "    </tr>\n",
       "    <tr>\n",
       "      <th>4</th>\n",
       "      <td>HAPPY BIRTHDAY KING KUMA\\n\\nJENNIE #SOLO STAGE...</td>\n",
       "      <td>1</td>\n",
       "      <td>0.310345</td>\n",
       "    </tr>\n",
       "  </tbody>\n",
       "</table>\n",
       "</div>"
      ],
      "text/plain": [
       "                                                text  is_junk  word_ratio\n",
       "0  The camelia - a long time symbol of Chanel and...        0    0.587302\n",
       "1  Wknds are my happy place 🤍 even if they do inc...        1    0.680851\n",
       "2      Used Card holder XL 24999.-\\n\\nLine: 244xfzmn        1    1.000000\n",
       "3  My love for a chanelofficial classic flap 😌| #...        0    0.562500\n",
       "4  HAPPY BIRTHDAY KING KUMA\\n\\nJENNIE #SOLO STAGE...        1    0.310345"
      ]
     },
     "execution_count": 30,
     "metadata": {},
     "output_type": "execute_result"
    }
   ],
   "source": [
    "chanel_junk_valid_new.head()"
   ]
  },
  {
   "cell_type": "markdown",
   "id": "4add183c",
   "metadata": {},
   "source": [
    "### Ratio de caps"
   ]
  },
  {
   "cell_type": "code",
   "execution_count": 43,
   "id": "48c1cb52",
   "metadata": {},
   "outputs": [],
   "source": [
    "chanel_junk_valid_new['caps_ratio'] = get_caps_ratio(corpus= chanel_junk_valid_new['text'], nlp= nlp  )"
   ]
  },
  {
   "cell_type": "code",
   "execution_count": 34,
   "id": "f16a2955",
   "metadata": {},
   "outputs": [
    {
     "data": {
      "text/html": [
       "<div>\n",
       "<style scoped>\n",
       "    .dataframe tbody tr th:only-of-type {\n",
       "        vertical-align: middle;\n",
       "    }\n",
       "\n",
       "    .dataframe tbody tr th {\n",
       "        vertical-align: top;\n",
       "    }\n",
       "\n",
       "    .dataframe thead th {\n",
       "        text-align: right;\n",
       "    }\n",
       "</style>\n",
       "<table border=\"1\" class=\"dataframe\">\n",
       "  <thead>\n",
       "    <tr style=\"text-align: right;\">\n",
       "      <th></th>\n",
       "      <th>text</th>\n",
       "      <th>is_junk</th>\n",
       "      <th>word_ratio</th>\n",
       "      <th>caps_ratio</th>\n",
       "    </tr>\n",
       "  </thead>\n",
       "  <tbody>\n",
       "    <tr>\n",
       "      <th>0</th>\n",
       "      <td>The camelia - a long time symbol of Chanel and...</td>\n",
       "      <td>0</td>\n",
       "      <td>0.587302</td>\n",
       "      <td>0.027027</td>\n",
       "    </tr>\n",
       "    <tr>\n",
       "      <th>1</th>\n",
       "      <td>Wknds are my happy place 🤍 even if they do inc...</td>\n",
       "      <td>1</td>\n",
       "      <td>0.680851</td>\n",
       "      <td>0.000000</td>\n",
       "    </tr>\n",
       "    <tr>\n",
       "      <th>2</th>\n",
       "      <td>Used Card holder XL 24999.-\\n\\nLine: 244xfzmn</td>\n",
       "      <td>1</td>\n",
       "      <td>1.000000</td>\n",
       "      <td>0.111111</td>\n",
       "    </tr>\n",
       "    <tr>\n",
       "      <th>3</th>\n",
       "      <td>My love for a chanelofficial classic flap 😌| #...</td>\n",
       "      <td>0</td>\n",
       "      <td>0.562500</td>\n",
       "      <td>0.000000</td>\n",
       "    </tr>\n",
       "    <tr>\n",
       "      <th>4</th>\n",
       "      <td>HAPPY BIRTHDAY KING KUMA\\n\\nJENNIE #SOLO STAGE...</td>\n",
       "      <td>1</td>\n",
       "      <td>0.310345</td>\n",
       "      <td>0.545455</td>\n",
       "    </tr>\n",
       "  </tbody>\n",
       "</table>\n",
       "</div>"
      ],
      "text/plain": [
       "                                                text  is_junk  word_ratio  \\\n",
       "0  The camelia - a long time symbol of Chanel and...        0    0.587302   \n",
       "1  Wknds are my happy place 🤍 even if they do inc...        1    0.680851   \n",
       "2      Used Card holder XL 24999.-\\n\\nLine: 244xfzmn        1    1.000000   \n",
       "3  My love for a chanelofficial classic flap 😌| #...        0    0.562500   \n",
       "4  HAPPY BIRTHDAY KING KUMA\\n\\nJENNIE #SOLO STAGE...        1    0.310345   \n",
       "\n",
       "   caps_ratio  \n",
       "0    0.027027  \n",
       "1    0.000000  \n",
       "2    0.111111  \n",
       "3    0.000000  \n",
       "4    0.545455  "
      ]
     },
     "execution_count": 34,
     "metadata": {},
     "output_type": "execute_result"
    }
   ],
   "source": [
    "chanel_junk_valid_new.head()"
   ]
  },
  {
   "cell_type": "markdown",
   "id": "1d6a4d93",
   "metadata": {},
   "source": [
    "# Nb de ponctuation"
   ]
  },
  {
   "cell_type": "code",
   "execution_count": 44,
   "id": "19cc31c4",
   "metadata": {},
   "outputs": [],
   "source": [
    "chanel_junk_valid_new['norm_punct'] = get_normalized_nb_punct(corpus= chanel_junk_valid_new['text'], nlp= nlp  )"
   ]
  },
  {
   "cell_type": "code",
   "execution_count": 52,
   "id": "76df73f6",
   "metadata": {},
   "outputs": [
    {
     "data": {
      "text/html": [
       "<div>\n",
       "<style scoped>\n",
       "    .dataframe tbody tr th:only-of-type {\n",
       "        vertical-align: middle;\n",
       "    }\n",
       "\n",
       "    .dataframe tbody tr th {\n",
       "        vertical-align: top;\n",
       "    }\n",
       "\n",
       "    .dataframe thead th {\n",
       "        text-align: right;\n",
       "    }\n",
       "</style>\n",
       "<table border=\"1\" class=\"dataframe\">\n",
       "  <thead>\n",
       "    <tr style=\"text-align: right;\">\n",
       "      <th></th>\n",
       "      <th>text</th>\n",
       "      <th>is_junk</th>\n",
       "      <th>word_ratio</th>\n",
       "      <th>caps_ratio</th>\n",
       "      <th>norm_punct</th>\n",
       "    </tr>\n",
       "  </thead>\n",
       "  <tbody>\n",
       "    <tr>\n",
       "      <th>0</th>\n",
       "      <td>The camelia - a long time symbol of Chanel and...</td>\n",
       "      <td>0</td>\n",
       "      <td>0.587302</td>\n",
       "      <td>0.027027</td>\n",
       "      <td>0.135135</td>\n",
       "    </tr>\n",
       "    <tr>\n",
       "      <th>1</th>\n",
       "      <td>Wknds are my happy place 🤍 even if they do inc...</td>\n",
       "      <td>1</td>\n",
       "      <td>0.680851</td>\n",
       "      <td>0.000000</td>\n",
       "      <td>0.375000</td>\n",
       "    </tr>\n",
       "    <tr>\n",
       "      <th>2</th>\n",
       "      <td>Used Card holder XL 24999.-\\n\\nLine: 244xfzmn</td>\n",
       "      <td>1</td>\n",
       "      <td>1.000000</td>\n",
       "      <td>0.111111</td>\n",
       "      <td>0.111111</td>\n",
       "    </tr>\n",
       "    <tr>\n",
       "      <th>3</th>\n",
       "      <td>My love for a chanelofficial classic flap 😌| #...</td>\n",
       "      <td>0</td>\n",
       "      <td>0.562500</td>\n",
       "      <td>0.000000</td>\n",
       "      <td>0.000000</td>\n",
       "    </tr>\n",
       "    <tr>\n",
       "      <th>4</th>\n",
       "      <td>HAPPY BIRTHDAY KING KUMA\\n\\nJENNIE #SOLO STAGE...</td>\n",
       "      <td>1</td>\n",
       "      <td>0.310345</td>\n",
       "      <td>0.545455</td>\n",
       "      <td>0.000000</td>\n",
       "    </tr>\n",
       "  </tbody>\n",
       "</table>\n",
       "</div>"
      ],
      "text/plain": [
       "                                                text  is_junk  word_ratio  \\\n",
       "0  The camelia - a long time symbol of Chanel and...        0    0.587302   \n",
       "1  Wknds are my happy place 🤍 even if they do inc...        1    0.680851   \n",
       "2      Used Card holder XL 24999.-\\n\\nLine: 244xfzmn        1    1.000000   \n",
       "3  My love for a chanelofficial classic flap 😌| #...        0    0.562500   \n",
       "4  HAPPY BIRTHDAY KING KUMA\\n\\nJENNIE #SOLO STAGE...        1    0.310345   \n",
       "\n",
       "   caps_ratio  norm_punct  \n",
       "0    0.027027    0.135135  \n",
       "1    0.000000    0.375000  \n",
       "2    0.111111    0.111111  \n",
       "3    0.000000    0.000000  \n",
       "4    0.545455    0.000000  "
      ]
     },
     "execution_count": 52,
     "metadata": {},
     "output_type": "execute_result"
    }
   ],
   "source": [
    "chanel_junk_valid_new.head()"
   ]
  },
  {
   "cell_type": "markdown",
   "id": "cd114677",
   "metadata": {},
   "source": [
    "### Top hashtags junk"
   ]
  },
  {
   "cell_type": "code",
   "execution_count": null,
   "id": "5b98d63e",
   "metadata": {},
   "outputs": [],
   "source": [
    "s = chanel_junk_valid_new[chanel_junk_valid_new['is_junk']==1]['text']"
   ]
  },
  {
   "cell_type": "code",
   "execution_count": 53,
   "id": "0b4417d6",
   "metadata": {
    "collapsed": true
   },
   "outputs": [
    {
     "ename": "NameError",
     "evalue": "name 'top_hashtags' is not defined",
     "output_type": "error",
     "traceback": [
      "\u001b[1;31m---------------------------------------------------------------------------\u001b[0m",
      "\u001b[1;31mNameError\u001b[0m                                 Traceback (most recent call last)",
      "Cell \u001b[1;32mIn[53], line 1\u001b[0m\n\u001b[1;32m----> 1\u001b[0m \u001b[43mtop_hashtags\u001b[49m(s,\u001b[38;5;241m15\u001b[39m)\n",
      "\u001b[1;31mNameError\u001b[0m: name 'top_hashtags' is not defined"
     ]
    }
   ],
   "source": [
    "top_hashtags(s,15)"
   ]
  },
  {
   "cell_type": "markdown",
   "id": "9eef4c9d",
   "metadata": {},
   "source": [
    "### Top emojis junk"
   ]
  },
  {
   "cell_type": "code",
   "execution_count": null,
   "id": "44fbe051",
   "metadata": {},
   "outputs": [],
   "source": [
    "top_emojis(s,15)"
   ]
  },
  {
   "cell_type": "markdown",
   "id": "826a11e9",
   "metadata": {},
   "source": [
    "# Hashtag/emojis dummy"
   ]
  },
  {
   "cell_type": "code",
   "execution_count": 45,
   "id": "1e1b6978",
   "metadata": {},
   "outputs": [],
   "source": [
    "chanel_junk_valid_new = chanel_junk_valid_new.join(create_dummies(corpus= chanel_junk_valid_new['text'],y = chanel_junk_valid_new['is_junk'], element= 'emoji', top= 5))\n",
    "chanel_all_features = chanel_junk_valid_new.join(create_dummies(corpus= chanel_junk_valid_new['text'],y = chanel_junk_valid_new['is_junk'], element= 'hashtag', top= 5))"
   ]
  },
  {
   "cell_type": "code",
   "execution_count": 46,
   "id": "59cea053",
   "metadata": {},
   "outputs": [
    {
     "data": {
      "text/html": [
       "<div>\n",
       "<style scoped>\n",
       "    .dataframe tbody tr th:only-of-type {\n",
       "        vertical-align: middle;\n",
       "    }\n",
       "\n",
       "    .dataframe tbody tr th {\n",
       "        vertical-align: top;\n",
       "    }\n",
       "\n",
       "    .dataframe thead th {\n",
       "        text-align: right;\n",
       "    }\n",
       "</style>\n",
       "<table border=\"1\" class=\"dataframe\">\n",
       "  <thead>\n",
       "    <tr style=\"text-align: right;\">\n",
       "      <th></th>\n",
       "      <th>text</th>\n",
       "      <th>is_junk</th>\n",
       "      <th>word_ratio</th>\n",
       "      <th>caps_ratio</th>\n",
       "      <th>norm_punct</th>\n",
       "      <th>➖</th>\n",
       "      <th>▪</th>\n",
       "      <th>🌼</th>\n",
       "      <th>✨</th>\n",
       "      <th>😍</th>\n",
       "      <th>#chanel</th>\n",
       "      <th>#fashion</th>\n",
       "      <th>#style</th>\n",
       "      <th>#ootd</th>\n",
       "      <th>#explorepage</th>\n",
       "    </tr>\n",
       "  </thead>\n",
       "  <tbody>\n",
       "    <tr>\n",
       "      <th>0</th>\n",
       "      <td>The camelia - a long time symbol of Chanel and...</td>\n",
       "      <td>0</td>\n",
       "      <td>0.587302</td>\n",
       "      <td>0.027027</td>\n",
       "      <td>0.135135</td>\n",
       "      <td>0</td>\n",
       "      <td>0</td>\n",
       "      <td>0</td>\n",
       "      <td>0</td>\n",
       "      <td>0</td>\n",
       "      <td>1</td>\n",
       "      <td>0</td>\n",
       "      <td>0</td>\n",
       "      <td>0</td>\n",
       "      <td>0</td>\n",
       "    </tr>\n",
       "    <tr>\n",
       "      <th>1</th>\n",
       "      <td>Wknds are my happy place 🤍 even if they do inc...</td>\n",
       "      <td>1</td>\n",
       "      <td>0.680851</td>\n",
       "      <td>0.000000</td>\n",
       "      <td>0.375000</td>\n",
       "      <td>0</td>\n",
       "      <td>0</td>\n",
       "      <td>0</td>\n",
       "      <td>0</td>\n",
       "      <td>0</td>\n",
       "      <td>1</td>\n",
       "      <td>1</td>\n",
       "      <td>1</td>\n",
       "      <td>1</td>\n",
       "      <td>0</td>\n",
       "    </tr>\n",
       "    <tr>\n",
       "      <th>2</th>\n",
       "      <td>Used Card holder XL 24999.-\\n\\nLine: 244xfzmn</td>\n",
       "      <td>1</td>\n",
       "      <td>1.000000</td>\n",
       "      <td>0.111111</td>\n",
       "      <td>0.111111</td>\n",
       "      <td>0</td>\n",
       "      <td>0</td>\n",
       "      <td>0</td>\n",
       "      <td>0</td>\n",
       "      <td>0</td>\n",
       "      <td>0</td>\n",
       "      <td>0</td>\n",
       "      <td>0</td>\n",
       "      <td>0</td>\n",
       "      <td>0</td>\n",
       "    </tr>\n",
       "    <tr>\n",
       "      <th>3</th>\n",
       "      <td>My love for a chanelofficial classic flap 😌| #...</td>\n",
       "      <td>0</td>\n",
       "      <td>0.562500</td>\n",
       "      <td>0.000000</td>\n",
       "      <td>0.000000</td>\n",
       "      <td>0</td>\n",
       "      <td>0</td>\n",
       "      <td>0</td>\n",
       "      <td>0</td>\n",
       "      <td>0</td>\n",
       "      <td>1</td>\n",
       "      <td>0</td>\n",
       "      <td>0</td>\n",
       "      <td>0</td>\n",
       "      <td>0</td>\n",
       "    </tr>\n",
       "    <tr>\n",
       "      <th>4</th>\n",
       "      <td>HAPPY BIRTHDAY KING KUMA\\n\\nJENNIE #SOLO STAGE...</td>\n",
       "      <td>1</td>\n",
       "      <td>0.310345</td>\n",
       "      <td>0.545455</td>\n",
       "      <td>0.000000</td>\n",
       "      <td>0</td>\n",
       "      <td>0</td>\n",
       "      <td>0</td>\n",
       "      <td>0</td>\n",
       "      <td>0</td>\n",
       "      <td>0</td>\n",
       "      <td>0</td>\n",
       "      <td>0</td>\n",
       "      <td>0</td>\n",
       "      <td>0</td>\n",
       "    </tr>\n",
       "  </tbody>\n",
       "</table>\n",
       "</div>"
      ],
      "text/plain": [
       "                                                text  is_junk  word_ratio  \\\n",
       "0  The camelia - a long time symbol of Chanel and...        0    0.587302   \n",
       "1  Wknds are my happy place 🤍 even if they do inc...        1    0.680851   \n",
       "2      Used Card holder XL 24999.-\\n\\nLine: 244xfzmn        1    1.000000   \n",
       "3  My love for a chanelofficial classic flap 😌| #...        0    0.562500   \n",
       "4  HAPPY BIRTHDAY KING KUMA\\n\\nJENNIE #SOLO STAGE...        1    0.310345   \n",
       "\n",
       "   caps_ratio  norm_punct  ➖  ▪  🌼  ✨  😍  #chanel  #fashion  #style  #ootd  \\\n",
       "0    0.027027    0.135135  0  0  0  0  0        1         0       0      0   \n",
       "1    0.000000    0.375000  0  0  0  0  0        1         1       1      1   \n",
       "2    0.111111    0.111111  0  0  0  0  0        0         0       0      0   \n",
       "3    0.000000    0.000000  0  0  0  0  0        1         0       0      0   \n",
       "4    0.545455    0.000000  0  0  0  0  0        0         0       0      0   \n",
       "\n",
       "   #explorepage  \n",
       "0             0  \n",
       "1             0  \n",
       "2             0  \n",
       "3             0  \n",
       "4             0  "
      ]
     },
     "execution_count": 46,
     "metadata": {},
     "output_type": "execute_result"
    }
   ],
   "source": [
    "chanel_all_features.head()"
   ]
  },
  {
   "cell_type": "markdown",
   "id": "55385e13",
   "metadata": {},
   "source": [
    "# Correlation, boxplot"
   ]
  },
  {
   "cell_type": "code",
   "execution_count": 52,
   "id": "880884a2",
   "metadata": {
    "scrolled": true
   },
   "outputs": [
    {
     "name": "stderr",
     "output_type": "stream",
     "text": [
      "C:\\Users\\a.tekiouk\\AppData\\Local\\Temp\\ipykernel_4092\\1709041263.py:1: FutureWarning: The default value of numeric_only in DataFrame.corr is deprecated. In a future version, it will default to False. Select only valid columns or specify the value of numeric_only to silence this warning.\n",
      "  corr_df = chanel_all_features.corr(method='pearson')\n",
      "C:\\Users\\a.tekiouk\\AppData\\Local\\Programs\\Python\\Python311\\Lib\\site-packages\\seaborn\\utils.py:80: UserWarning: Glyph 10134 (\\N{HEAVY MINUS SIGN}) missing from current font.\n",
      "  fig.canvas.draw()\n",
      "C:\\Users\\a.tekiouk\\AppData\\Local\\Programs\\Python\\Python311\\Lib\\site-packages\\seaborn\\utils.py:80: UserWarning: Glyph 127804 (\\N{BLOSSOM}) missing from current font.\n",
      "  fig.canvas.draw()\n",
      "C:\\Users\\a.tekiouk\\AppData\\Local\\Programs\\Python\\Python311\\Lib\\site-packages\\seaborn\\utils.py:80: UserWarning: Glyph 10024 (\\N{SPARKLES}) missing from current font.\n",
      "  fig.canvas.draw()\n",
      "C:\\Users\\a.tekiouk\\AppData\\Local\\Programs\\Python\\Python311\\Lib\\site-packages\\IPython\\core\\pylabtools.py:152: UserWarning: Glyph 10134 (\\N{HEAVY MINUS SIGN}) missing from current font.\n",
      "  fig.canvas.print_figure(bytes_io, **kw)\n",
      "C:\\Users\\a.tekiouk\\AppData\\Local\\Programs\\Python\\Python311\\Lib\\site-packages\\IPython\\core\\pylabtools.py:152: UserWarning: Glyph 127804 (\\N{BLOSSOM}) missing from current font.\n",
      "  fig.canvas.print_figure(bytes_io, **kw)\n",
      "C:\\Users\\a.tekiouk\\AppData\\Local\\Programs\\Python\\Python311\\Lib\\site-packages\\IPython\\core\\pylabtools.py:152: UserWarning: Glyph 10024 (\\N{SPARKLES}) missing from current font.\n",
      "  fig.canvas.print_figure(bytes_io, **kw)\n"
     ]
    },
    {
     "data": {
      "image/png": "[encoded data removed]",
      "text/plain": [
       "<Figure size 800x600 with 2 Axes>"
      ]
     },
     "metadata": {},
     "output_type": "display_data"
    }
   ],
   "source": [
    "corr_df = chanel_all_features.corr(method='pearson')\n",
    "\n",
    "plt.figure(figsize=(8, 6))\n",
    "sns.heatmap(corr_df, annot=True, vmin=-1, vmax=1)\n",
    "plt.show()"
   ]
  },
  {
   "cell_type": "markdown",
   "id": "a467e8b3",
   "metadata": {},
   "source": [
    "Boxplot word ratio "
   ]
  },
  {
   "cell_type": "code",
   "execution_count": 53,
   "id": "de120e72",
   "metadata": {},
   "outputs": [
    {
     "data": {
      "text/plain": [
       "<Axes: xlabel='is_junk', ylabel='word_ratio'>"
      ]
     },
     "execution_count": 53,
     "metadata": {},
     "output_type": "execute_result"
    },
    {
     "data": {
      "image/png": "[encoded data removed]",
      "text/plain": [
       "<Figure size 640x480 with 1 Axes>"
      ]
     },
     "metadata": {},
     "output_type": "display_data"
    }
   ],
   "source": [
    "sns.boxplot(data  = chanel_all_features, \n",
    "            x     = \"is_junk\", \n",
    "            y     = \"word_ratio\",\n",
    "            color = \"skyblue\")"
   ]
  },
  {
   "cell_type": "markdown",
   "id": "8c3a3277",
   "metadata": {},
   "source": [
    "Boxplot caps ratio"
   ]
  },
  {
   "cell_type": "code",
   "execution_count": 54,
   "id": "4492baf1",
   "metadata": {},
   "outputs": [
    {
     "data": {
      "text/plain": [
       "<Axes: xlabel='is_junk', ylabel='caps_ratio'>"
      ]
     },
     "execution_count": 54,
     "metadata": {},
     "output_type": "execute_result"
    },
    {
     "data": {
      "image/png": "[encoded data removed]",
      "text/plain": [
       "<Figure size 640x480 with 1 Axes>"
      ]
     },
     "metadata": {},
     "output_type": "display_data"
    }
   ],
   "source": [
    "sns.boxplot(data  = chanel_all_features,\n",
    "            x     = \"is_junk\",\n",
    "            y     = \"caps_ratio\",\n",
    "            color = 'skyblue')"
   ]
  },
  {
   "cell_type": "markdown",
   "id": "d7950223",
   "metadata": {},
   "source": [
    "Boxplot nb ponctuation"
   ]
  },
  {
   "cell_type": "code",
   "execution_count": 55,
   "id": "6c3f8430",
   "metadata": {},
   "outputs": [
    {
     "data": {
      "text/plain": [
       "<Axes: xlabel='is_junk', ylabel='norm_punct'>"
      ]
     },
     "execution_count": 55,
     "metadata": {},
     "output_type": "execute_result"
    },
    {
     "data": {
      "image/png": "[encoded data removed]",
      "text/plain": [
       "<Figure size 640x480 with 1 Axes>"
      ]
     },
     "metadata": {},
     "output_type": "display_data"
    }
   ],
   "source": [
    "sns.boxplot(data = chanel_all_features,\n",
    "            x    = \"is_junk\",\n",
    "            y    = \"norm_punct\" )"
   ]
  },
  {
   "cell_type": "markdown",
   "id": "31bd2fd6",
   "metadata": {},
   "source": [
    "# Arbre de decision"
   ]
  },
  {
   "cell_type": "code",
   "execution_count": 67,
   "id": "b8d6b1a3",
   "metadata": {},
   "outputs": [],
   "source": [
    "train,test = train_test(data = chanel_all_features.drop('text',axis=1), y = 'is_junk', f_y0= 0.75, f_y1= 0.40)"
   ]
  },
  {
   "cell_type": "code",
   "execution_count": 105,
   "id": "6297c2d3",
   "metadata": {},
   "outputs": [],
   "source": [
    "tree1 = DecisionTreeClassifier()"
   ]
  },
  {
   "cell_type": "code",
   "execution_count": 107,
   "id": "4baf49b1",
   "metadata": {},
   "outputs": [],
   "source": [
    "X_train = train.drop('is_junk',axis=1)\n",
    "y_train = train['is_junk']\n",
    "X_test = test.drop('is_junk',axis=1)\n",
    "y_test = test['is_junk']"
   ]
  },
  {
   "cell_type": "code",
   "execution_count": 108,
   "id": "438f41a8",
   "metadata": {},
   "outputs": [
    {
     "data": {
      "text/html": [
       "<style>#sk-container-id-1 {color: black;background-color: white;}#sk-container-id-1 pre{padding: 0;}#sk-container-id-1 div.sk-toggleable {background-color: white;}#sk-container-id-1 label.sk-toggleable__label {cursor: pointer;display: block;width: 100%;margin-bottom: 0;padding: 0.3em;box-sizing: border-box;text-align: center;}#sk-container-id-1 label.sk-toggleable__label-arrow:before {content: \"▸\";float: left;margin-right: 0.25em;color: #696969;}#sk-container-id-1 label.sk-toggleable__label-arrow:hover:before {color: black;}#sk-container-id-1 div.sk-estimator:hover label.sk-toggleable__label-arrow:before {color: black;}#sk-container-id-1 div.sk-toggleable__content {max-height: 0;max-width: 0;overflow: hidden;text-align: left;background-color: #f0f8ff;}#sk-container-id-1 div.sk-toggleable__content pre {margin: 0.2em;color: black;border-radius: 0.25em;background-color: #f0f8ff;}#sk-container-id-1 input.sk-toggleable__control:checked~div.sk-toggleable__content {max-height: 200px;max-width: 100%;overflow: auto;}#sk-container-id-1 input.sk-toggleable__control:checked~label.sk-toggleable__label-arrow:before {content: \"▾\";}#sk-container-id-1 div.sk-estimator input.sk-toggleable__control:checked~label.sk-toggleable__label {background-color: #d4ebff;}#sk-container-id-1 div.sk-label input.sk-toggleable__control:checked~label.sk-toggleable__label {background-color: #d4ebff;}#sk-container-id-1 input.sk-hidden--visually {border: 0;clip: rect(1px 1px 1px 1px);clip: rect(1px, 1px, 1px, 1px);height: 1px;margin: -1px;overflow: hidden;padding: 0;position: absolute;width: 1px;}#sk-container-id-1 div.sk-estimator {font-family: monospace;background-color: #f0f8ff;border: 1px dotted black;border-radius: 0.25em;box-sizing: border-box;margin-bottom: 0.5em;}#sk-container-id-1 div.sk-estimator:hover {background-color: #d4ebff;}#sk-container-id-1 div.sk-parallel-item::after {content: \"\";width: 100%;border-bottom: 1px solid gray;flex-grow: 1;}#sk-container-id-1 div.sk-label:hover label.sk-toggleable__label {background-color: #d4ebff;}#sk-container-id-1 div.sk-serial::before {content: \"\";position: absolute;border-left: 1px solid gray;box-sizing: border-box;top: 0;bottom: 0;left: 50%;z-index: 0;}#sk-container-id-1 div.sk-serial {display: flex;flex-direction: column;align-items: center;background-color: white;padding-right: 0.2em;padding-left: 0.2em;position: relative;}#sk-container-id-1 div.sk-item {position: relative;z-index: 1;}#sk-container-id-1 div.sk-parallel {display: flex;align-items: stretch;justify-content: center;background-color: white;position: relative;}#sk-container-id-1 div.sk-item::before, #sk-container-id-1 div.sk-parallel-item::before {content: \"\";position: absolute;border-left: 1px solid gray;box-sizing: border-box;top: 0;bottom: 0;left: 50%;z-index: -1;}#sk-container-id-1 div.sk-parallel-item {display: flex;flex-direction: column;z-index: 1;position: relative;background-color: white;}#sk-container-id-1 div.sk-parallel-item:first-child::after {align-self: flex-end;width: 50%;}#sk-container-id-1 div.sk-parallel-item:last-child::after {align-self: flex-start;width: 50%;}#sk-container-id-1 div.sk-parallel-item:only-child::after {width: 0;}#sk-container-id-1 div.sk-dashed-wrapped {border: 1px dashed gray;margin: 0 0.4em 0.5em 0.4em;box-sizing: border-box;padding-bottom: 0.4em;background-color: white;}#sk-container-id-1 div.sk-label label {font-family: monospace;font-weight: bold;display: inline-block;line-height: 1.2em;}#sk-container-id-1 div.sk-label-container {text-align: center;}#sk-container-id-1 div.sk-container {/* jupyter's `normalize.less` sets `[hidden] { display: none; }` but bootstrap.min.css set `[hidden] { display: none !important; }` so we also need the `!important` here to be able to override the default hidden behavior on the sphinx rendered scikit-learn.org. See: https://github.com/scikit-learn/scikit-learn/issues/21755 */display: inline-block !important;position: relative;}#sk-container-id-1 div.sk-text-repr-fallback {display: none;}</style><div id=\"sk-container-id-1\" class=\"sk-top-container\"><div class=\"sk-text-repr-fallback\"><pre>DecisionTreeClassifier()</pre><b>In a Jupyter environment, please rerun this cell to show the HTML representation or trust the notebook. <br />On GitHub, the HTML representation is unable to render, please try loading this page with nbviewer.org.</b></div><div class=\"sk-container\" hidden><div class=\"sk-item\"><div class=\"sk-estimator sk-toggleable\"><input class=\"sk-toggleable__control sk-hidden--visually\" id=\"sk-estimator-id-1\" type=\"checkbox\" checked><label for=\"sk-estimator-id-1\" class=\"sk-toggleable__label sk-toggleable__label-arrow\">DecisionTreeClassifier</label><div class=\"sk-toggleable__content\"><pre>DecisionTreeClassifier()</pre></div></div></div></div></div>"
      ],
      "text/plain": [
       "DecisionTreeClassifier()"
      ]
     },
     "execution_count": 108,
     "metadata": {},
     "output_type": "execute_result"
    }
   ],
   "source": [
    "tree1.fit(X_train,y_train)"
   ]
  },
  {
   "cell_type": "code",
   "execution_count": 128,
   "id": "33556283",
   "metadata": {},
   "outputs": [
    {
     "data": {
      "text/plain": [
       "[Text(0.3869047619047619, 0.9642857142857143, 'x[0] <= 0.389\\ngini = 0.453\\nsamples = 98\\nvalue = [34, 64]'),\n",
       " Text(0.19047619047619047, 0.8928571428571429, 'x[0] <= 0.222\\ngini = 0.091\\nsamples = 21\\nvalue = [1, 20]'),\n",
       " Text(0.14285714285714285, 0.8214285714285714, 'x[0] <= 0.171\\ngini = 0.18\\nsamples = 10\\nvalue = [1, 9]'),\n",
       " Text(0.09523809523809523, 0.75, 'gini = 0.0\\nsamples = 9\\nvalue = [0, 9]'),\n",
       " Text(0.19047619047619047, 0.75, 'gini = 0.0\\nsamples = 1\\nvalue = [1, 0]'),\n",
       " Text(0.23809523809523808, 0.8214285714285714, 'gini = 0.0\\nsamples = 11\\nvalue = [0, 11]'),\n",
       " Text(0.5833333333333334, 0.8928571428571429, 'x[2] <= 0.139\\ngini = 0.49\\nsamples = 77\\nvalue = [33, 44]'),\n",
       " Text(0.38095238095238093, 0.8214285714285714, 'x[9] <= 0.5\\ngini = 0.47\\nsamples = 37\\nvalue = [23, 14]'),\n",
       " Text(0.2857142857142857, 0.75, 'x[6] <= 0.5\\ngini = 0.43\\nsamples = 32\\nvalue = [22, 10]'),\n",
       " Text(0.23809523809523808, 0.6785714285714286, 'x[1] <= 0.021\\ngini = 0.391\\nsamples = 30\\nvalue = [22, 8]'),\n",
       " Text(0.19047619047619047, 0.6071428571428571, 'x[1] <= 0.009\\ngini = 0.472\\nsamples = 21\\nvalue = [13, 8]'),\n",
       " Text(0.14285714285714285, 0.5357142857142857, 'x[2] <= 0.122\\ngini = 0.401\\nsamples = 18\\nvalue = [13, 5]'),\n",
       " Text(0.09523809523809523, 0.4642857142857143, 'x[0] <= 0.537\\ngini = 0.444\\nsamples = 15\\nvalue = [10, 5]'),\n",
       " Text(0.047619047619047616, 0.39285714285714285, 'gini = 0.0\\nsamples = 3\\nvalue = [3, 0]'),\n",
       " Text(0.14285714285714285, 0.39285714285714285, 'x[0] <= 0.662\\ngini = 0.486\\nsamples = 12\\nvalue = [7, 5]'),\n",
       " Text(0.09523809523809523, 0.32142857142857145, 'gini = 0.0\\nsamples = 2\\nvalue = [0, 2]'),\n",
       " Text(0.19047619047619047, 0.32142857142857145, 'x[0] <= 0.935\\ngini = 0.42\\nsamples = 10\\nvalue = [7, 3]'),\n",
       " Text(0.14285714285714285, 0.25, 'gini = 0.0\\nsamples = 4\\nvalue = [4, 0]'),\n",
       " Text(0.23809523809523808, 0.25, 'x[7] <= 0.5\\ngini = 0.5\\nsamples = 6\\nvalue = [3, 3]'),\n",
       " Text(0.19047619047619047, 0.17857142857142858, 'x[2] <= 0.092\\ngini = 0.48\\nsamples = 5\\nvalue = [2, 3]'),\n",
       " Text(0.14285714285714285, 0.10714285714285714, 'x[2] <= 0.043\\ngini = 0.444\\nsamples = 3\\nvalue = [2, 1]'),\n",
       " Text(0.09523809523809523, 0.03571428571428571, 'gini = 0.5\\nsamples = 2\\nvalue = [1, 1]'),\n",
       " Text(0.19047619047619047, 0.03571428571428571, 'gini = 0.0\\nsamples = 1\\nvalue = [1, 0]'),\n",
       " Text(0.23809523809523808, 0.10714285714285714, 'gini = 0.0\\nsamples = 2\\nvalue = [0, 2]'),\n",
       " Text(0.2857142857142857, 0.17857142857142858, 'gini = 0.0\\nsamples = 1\\nvalue = [1, 0]'),\n",
       " Text(0.19047619047619047, 0.4642857142857143, 'gini = 0.0\\nsamples = 3\\nvalue = [3, 0]'),\n",
       " Text(0.23809523809523808, 0.5357142857142857, 'gini = 0.0\\nsamples = 3\\nvalue = [0, 3]'),\n",
       " Text(0.2857142857142857, 0.6071428571428571, 'gini = 0.0\\nsamples = 9\\nvalue = [9, 0]'),\n",
       " Text(0.3333333333333333, 0.6785714285714286, 'gini = 0.0\\nsamples = 2\\nvalue = [0, 2]'),\n",
       " Text(0.47619047619047616, 0.75, 'x[0] <= 0.823\\ngini = 0.32\\nsamples = 5\\nvalue = [1, 4]'),\n",
       " Text(0.42857142857142855, 0.6785714285714286, 'gini = 0.0\\nsamples = 4\\nvalue = [0, 4]'),\n",
       " Text(0.5238095238095238, 0.6785714285714286, 'gini = 0.0\\nsamples = 1\\nvalue = [1, 0]'),\n",
       " Text(0.7857142857142857, 0.8214285714285714, 'x[6] <= 0.5\\ngini = 0.375\\nsamples = 40\\nvalue = [10, 30]'),\n",
       " Text(0.7380952380952381, 0.75, 'x[1] <= 0.032\\ngini = 0.355\\nsamples = 39\\nvalue = [9, 30]'),\n",
       " Text(0.6904761904761905, 0.6785714285714286, 'x[12] <= 0.5\\ngini = 0.404\\nsamples = 32\\nvalue = [9, 23]'),\n",
       " Text(0.6428571428571429, 0.6071428571428571, 'x[0] <= 0.989\\ngini = 0.383\\nsamples = 31\\nvalue = [8, 23]'),\n",
       " Text(0.47619047619047616, 0.5357142857142857, 'x[0] <= 0.918\\ngini = 0.457\\nsamples = 17\\nvalue = [6, 11]'),\n",
       " Text(0.38095238095238093, 0.4642857142857143, 'x[2] <= 0.198\\ngini = 0.355\\nsamples = 13\\nvalue = [3, 10]'),\n",
       " Text(0.3333333333333333, 0.39285714285714285, 'gini = 0.0\\nsamples = 5\\nvalue = [0, 5]'),\n",
       " Text(0.42857142857142855, 0.39285714285714285, 'x[2] <= 0.227\\ngini = 0.469\\nsamples = 8\\nvalue = [3, 5]'),\n",
       " Text(0.38095238095238093, 0.32142857142857145, 'gini = 0.0\\nsamples = 2\\nvalue = [2, 0]'),\n",
       " Text(0.47619047619047616, 0.32142857142857145, 'x[0] <= 0.532\\ngini = 0.278\\nsamples = 6\\nvalue = [1, 5]'),\n",
       " Text(0.42857142857142855, 0.25, 'x[2] <= 0.286\\ngini = 0.5\\nsamples = 2\\nvalue = [1, 1]'),\n",
       " Text(0.38095238095238093, 0.17857142857142858, 'gini = 0.0\\nsamples = 1\\nvalue = [0, 1]'),\n",
       " Text(0.47619047619047616, 0.17857142857142858, 'gini = 0.0\\nsamples = 1\\nvalue = [1, 0]'),\n",
       " Text(0.5238095238095238, 0.25, 'gini = 0.0\\nsamples = 4\\nvalue = [0, 4]'),\n",
       " Text(0.5714285714285714, 0.4642857142857143, 'x[2] <= 0.147\\ngini = 0.375\\nsamples = 4\\nvalue = [3, 1]'),\n",
       " Text(0.5238095238095238, 0.39285714285714285, 'gini = 0.0\\nsamples = 1\\nvalue = [0, 1]'),\n",
       " Text(0.6190476190476191, 0.39285714285714285, 'gini = 0.0\\nsamples = 3\\nvalue = [3, 0]'),\n",
       " Text(0.8095238095238095, 0.5357142857142857, 'x[1] <= 0.008\\ngini = 0.245\\nsamples = 14\\nvalue = [2, 12]'),\n",
       " Text(0.7619047619047619, 0.4642857142857143, 'x[2] <= 0.161\\ngini = 0.346\\nsamples = 9\\nvalue = [2, 7]'),\n",
       " Text(0.7142857142857143, 0.39285714285714285, 'gini = 0.0\\nsamples = 3\\nvalue = [0, 3]'),\n",
       " Text(0.8095238095238095, 0.39285714285714285, 'x[2] <= 0.17\\ngini = 0.444\\nsamples = 6\\nvalue = [2, 4]'),\n",
       " Text(0.7619047619047619, 0.32142857142857145, 'gini = 0.0\\nsamples = 1\\nvalue = [1, 0]'),\n",
       " Text(0.8571428571428571, 0.32142857142857145, 'x[2] <= 0.199\\ngini = 0.32\\nsamples = 5\\nvalue = [1, 4]'),\n",
       " Text(0.8095238095238095, 0.25, 'gini = 0.0\\nsamples = 2\\nvalue = [0, 2]'),\n",
       " Text(0.9047619047619048, 0.25, 'x[2] <= 0.209\\ngini = 0.444\\nsamples = 3\\nvalue = [1, 2]'),\n",
       " Text(0.8571428571428571, 0.17857142857142858, 'gini = 0.0\\nsamples = 1\\nvalue = [1, 0]'),\n",
       " Text(0.9523809523809523, 0.17857142857142858, 'gini = 0.0\\nsamples = 2\\nvalue = [0, 2]'),\n",
       " Text(0.8571428571428571, 0.4642857142857143, 'gini = 0.0\\nsamples = 5\\nvalue = [0, 5]'),\n",
       " Text(0.7380952380952381, 0.6071428571428571, 'gini = 0.0\\nsamples = 1\\nvalue = [1, 0]'),\n",
       " Text(0.7857142857142857, 0.6785714285714286, 'gini = 0.0\\nsamples = 7\\nvalue = [0, 7]'),\n",
       " Text(0.8333333333333334, 0.75, 'gini = 0.0\\nsamples = 1\\nvalue = [1, 0]')]"
      ]
     },
     "execution_count": 128,
     "metadata": {},
     "output_type": "execute_result"
    },
    {
     "data": {
      "image/png": "[encoded data removed]",
      "text/plain": [
       "<Figure size 640x480 with 1 Axes>"
      ]
     },
     "metadata": {},
     "output_type": "display_data"
    }
   ],
   "source": [
    "sklearn.tree.plot_tree(tree1)"
   ]
  },
  {
   "cell_type": "code",
   "execution_count": 123,
   "id": "89207583",
   "metadata": {},
   "outputs": [],
   "source": [
    "pred = tree1.predict(X_test)"
   ]
  },
  {
   "cell_type": "code",
   "execution_count": 124,
   "id": "ee64b2a3",
   "metadata": {},
   "outputs": [
    {
     "name": "stdout",
     "output_type": "stream",
     "text": [
      "TP : 8  | FP : 4\n",
      "FN : 27 | TN : 70\n"
     ]
    }
   ],
   "source": [
    "cm = confusion_matrix(y_true = y_test, y_pred = pred)\n",
    "\n",
    "print(f\"TP : {cm[0,0]}  | FP : {cm[0,1]}\\nFN : {cm[1,0]} | TN : {cm[1,1]}\")"
   ]
  },
  {
   "cell_type": "code",
   "execution_count": null,
   "id": "a7f1ed19",
   "metadata": {},
   "outputs": [],
   "source": []
  }
 ],
 "metadata": {
  "kernelspec": {
   "display_name": "Python 3 (ipykernel)",
   "language": "python",
   "name": "python3"
  },
  "language_info": {
   "codemirror_mode": {
    "name": "ipython",
    "version": 3
   },
   "file_extension": ".py",
   "mimetype": "text/x-python",
   "name": "python",
   "nbconvert_exporter": "python",
   "pygments_lexer": "ipython3",
   "version": "3.11.2"
  }
 },
 "nbformat": 4,
 "nbformat_minor": 5
}
