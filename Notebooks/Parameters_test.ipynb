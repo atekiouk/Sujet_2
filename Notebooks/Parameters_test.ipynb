{
 "cells": [
  {
   "cell_type": "code",
   "execution_count": 29,
   "id": "ac248532",
   "metadata": {},
   "outputs": [],
   "source": [
    "import utilities\n",
    "import pandas            as pd\n",
    "import numpy             as np\n",
    "import seaborn           as sns\n",
    "import matplotlib.pyplot as plt\n",
    "import spacy\n",
    "import re\n",
    "import sklearn\n",
    "import random\n",
    "import textdistance\n",
    "\n",
    "from spacy.vocab               import Vocab\n",
    "from spacy.language            import Language\n",
    "from spacy.tokens              import Token\n",
    "from spacymoji                 import Emoji\n",
    "from   sklearn.tree            import DecisionTreeClassifier\n",
    "from   sklearn.model_selection import train_test_split\n",
    "from   sklearn.metrics         import confusion_matrix\n",
    "\n",
    "\n",
    "\n",
    "\n"
   ]
  },
  {
   "cell_type": "markdown",
   "id": "6a573327",
   "metadata": {},
   "source": [
    "Importation du corpus."
   ]
  },
  {
   "cell_type": "code",
   "execution_count": 30,
   "id": "c4573790",
   "metadata": {},
   "outputs": [
    {
     "name": "stdout",
     "output_type": "stream",
     "text": [
      "# documents in corpus: 1802\n"
     ]
    }
   ],
   "source": [
    "corpus = pd.read_csv(\"C:/Users/a.tekiouk/Sujet_2/Sujet_2/DATA/chanel10k.csv\", sep=\";\", parse_dates=[\"publication_time\"])\n",
    "\n",
    "# on récupére les posts en anglais\n",
    "mask = corpus[\"language\"] == 'en'\n",
    "corpus = corpus.loc[mask]\n",
    "chanel = corpus['text'].tolist()\n",
    "publication_time_chanel = corpus['publication_time'].tolist()\n",
    "\n",
    "print(f\"# documents in corpus: {len(chanel)}\")"
   ]
  },
  {
   "cell_type": "code",
   "execution_count": 51,
   "id": "2e25ef14",
   "metadata": {},
   "outputs": [],
   "source": [
    "corpus_test = corpus[['text','publication_time']].sample(n= 100, random_state = 42)"
   ]
  },
  {
   "cell_type": "code",
   "execution_count": 52,
   "id": "1d6d3f92",
   "metadata": {},
   "outputs": [],
   "source": [
    "def nb_per_thresholds(\n",
    "    corus   : pd.DataFrame,\n",
    "    )-> tuple[list,list]:\n",
    "    \"\"\"\n",
    "    Return the number of post after deleting the posts with similar text and all the threshholds tested.\n",
    "\n",
    "    Parameters\n",
    "    ----------\n",
    "    corus   : pd.DataFrame\n",
    "    \"\"\"\n",
    "    nb_remaing_posts = []\n",
    "    thresholds = np.linspace(0,1,20)\n",
    "    dist = textdistance.levenshtein.normalized_distance\n",
    "    for limit in thresholds:\n",
    "        nb_remaing_posts.append(len(utilities.del_double(corpus_test['text'].tolist(),corpus_test['publication_time'].tolist(),limit,dist)))\n",
    "    return thresholds,nb_remaing_posts\n",
    "        "
   ]
  },
  {
   "cell_type": "code",
   "execution_count": 53,
   "id": "d61fa8b9",
   "metadata": {
    "collapsed": true
   },
   "outputs": [
    {
     "ename": "KeyboardInterrupt",
     "evalue": "",
     "output_type": "error",
     "traceback": [
      "\u001b[1;31m---------------------------------------------------------------------------\u001b[0m",
      "\u001b[1;31mKeyboardInterrupt\u001b[0m                         Traceback (most recent call last)",
      "Cell \u001b[1;32mIn[53], line 1\u001b[0m\n\u001b[1;32m----> 1\u001b[0m x,y \u001b[38;5;241m=\u001b[39m \u001b[43mnb_per_thresholds\u001b[49m\u001b[43m(\u001b[49m\u001b[43mcorpus_test\u001b[49m\u001b[43m)\u001b[49m\n",
      "Cell \u001b[1;32mIn[52], line 15\u001b[0m, in \u001b[0;36mnb_per_thresholds\u001b[1;34m(corus)\u001b[0m\n\u001b[0;32m     13\u001b[0m dist \u001b[38;5;241m=\u001b[39m textdistance\u001b[38;5;241m.\u001b[39mlevenshtein\u001b[38;5;241m.\u001b[39mnormalized_distance\n\u001b[0;32m     14\u001b[0m \u001b[38;5;28;01mfor\u001b[39;00m limit \u001b[38;5;129;01min\u001b[39;00m thresholds:\n\u001b[1;32m---> 15\u001b[0m     nb_remaing_posts\u001b[38;5;241m.\u001b[39mappend(\u001b[38;5;28mlen\u001b[39m(\u001b[43mutilities\u001b[49m\u001b[38;5;241;43m.\u001b[39;49m\u001b[43mdel_double\u001b[49m\u001b[43m(\u001b[49m\u001b[43mcorpus_test\u001b[49m\u001b[43m[\u001b[49m\u001b[38;5;124;43m'\u001b[39;49m\u001b[38;5;124;43mtext\u001b[39;49m\u001b[38;5;124;43m'\u001b[39;49m\u001b[43m]\u001b[49m\u001b[38;5;241;43m.\u001b[39;49m\u001b[43mtolist\u001b[49m\u001b[43m(\u001b[49m\u001b[43m)\u001b[49m\u001b[43m,\u001b[49m\u001b[43mcorpus_test\u001b[49m\u001b[43m[\u001b[49m\u001b[38;5;124;43m'\u001b[39;49m\u001b[38;5;124;43mpublication_time\u001b[39;49m\u001b[38;5;124;43m'\u001b[39;49m\u001b[43m]\u001b[49m\u001b[38;5;241;43m.\u001b[39;49m\u001b[43mtolist\u001b[49m\u001b[43m(\u001b[49m\u001b[43m)\u001b[49m\u001b[43m,\u001b[49m\u001b[43mlimit\u001b[49m\u001b[43m,\u001b[49m\u001b[43mdist\u001b[49m\u001b[43m)\u001b[49m))\n\u001b[0;32m     16\u001b[0m \u001b[38;5;28;01mreturn\u001b[39;00m thresholds,nb_remaing_posts\n",
      "File \u001b[1;32m~\\Sujet_2\\Sujet_2\\Notebooks\\utilities.py:386\u001b[0m, in \u001b[0;36mdel_double\u001b[1;34m(corpus, publication_time, limit, method)\u001b[0m\n\u001b[0;32m    384\u001b[0m j\u001b[38;5;241m=\u001b[39mi\u001b[38;5;241m+\u001b[39m\u001b[38;5;241m1\u001b[39m\n\u001b[0;32m    385\u001b[0m \u001b[38;5;28;01mwhile\u001b[39;00m(j\u001b[38;5;241m<\u001b[39mr):\n\u001b[1;32m--> 386\u001b[0m     \u001b[38;5;28;01mif\u001b[39;00m(\u001b[43mdistance\u001b[49m\u001b[43m(\u001b[49m\u001b[43mclean_hashtag\u001b[49m\u001b[43m(\u001b[49m\u001b[43mt\u001b[49m\u001b[43m[\u001b[49m\u001b[43mi\u001b[49m\u001b[43m]\u001b[49m\u001b[43m)\u001b[49m\u001b[38;5;241;43m.\u001b[39;49m\u001b[43mstrip\u001b[49m\u001b[43m(\u001b[49m\u001b[43m)\u001b[49m\u001b[43m,\u001b[49m\u001b[43mclean_hashtag\u001b[49m\u001b[43m(\u001b[49m\u001b[43mt\u001b[49m\u001b[43m[\u001b[49m\u001b[43mj\u001b[49m\u001b[43m]\u001b[49m\u001b[43m)\u001b[49m\u001b[38;5;241;43m.\u001b[39;49m\u001b[43mstrip\u001b[49m\u001b[43m(\u001b[49m\u001b[43m)\u001b[49m\u001b[43m)\u001b[49m \u001b[38;5;241m<\u001b[39m\u001b[38;5;241m=\u001b[39m limit ): \u001b[38;5;66;03m# Si la distance entre les deux élemens de la liste inf à seuil\u001b[39;00m\n\u001b[0;32m    387\u001b[0m         \u001b[38;5;28;01mif\u001b[39;00m(publication_time[i]\u001b[38;5;241m<\u001b[39mpublication_time[j]):\n\u001b[0;32m    388\u001b[0m             \u001b[38;5;28;01mdel\u001b[39;00m t[j] \u001b[38;5;66;03m#delete\u001b[39;00m\n",
      "File \u001b[1;32m~\\AppData\\Local\\Programs\\Python\\Python311\\Lib\\site-packages\\textdistance\\algorithms\\base.py:49\u001b[0m, in \u001b[0;36mBase.normalized_distance\u001b[1;34m(self, *sequences)\u001b[0m\n\u001b[0;32m     47\u001b[0m \u001b[38;5;28;01mif\u001b[39;00m maximum \u001b[38;5;241m==\u001b[39m \u001b[38;5;241m0\u001b[39m:\n\u001b[0;32m     48\u001b[0m     \u001b[38;5;28;01mreturn\u001b[39;00m \u001b[38;5;241m0\u001b[39m\n\u001b[1;32m---> 49\u001b[0m \u001b[38;5;28;01mreturn\u001b[39;00m \u001b[38;5;28;43mself\u001b[39;49m\u001b[38;5;241;43m.\u001b[39;49m\u001b[43mdistance\u001b[49m\u001b[43m(\u001b[49m\u001b[38;5;241;43m*\u001b[39;49m\u001b[43msequences\u001b[49m\u001b[43m)\u001b[49m \u001b[38;5;241m/\u001b[39m maximum\n",
      "File \u001b[1;32m~\\AppData\\Local\\Programs\\Python\\Python311\\Lib\\site-packages\\textdistance\\algorithms\\base.py:34\u001b[0m, in \u001b[0;36mBase.distance\u001b[1;34m(self, *sequences)\u001b[0m\n\u001b[0;32m     31\u001b[0m \u001b[38;5;28;01mdef\u001b[39;00m \u001b[38;5;21mdistance\u001b[39m(\u001b[38;5;28mself\u001b[39m, \u001b[38;5;241m*\u001b[39msequences: Sequence[\u001b[38;5;28mobject\u001b[39m]) \u001b[38;5;241m-\u001b[39m\u001b[38;5;241m>\u001b[39m \u001b[38;5;28mfloat\u001b[39m:\n\u001b[0;32m     32\u001b[0m \u001b[38;5;250m    \u001b[39m\u001b[38;5;124;03m\"\"\"Get distance between sequences\u001b[39;00m\n\u001b[0;32m     33\u001b[0m \u001b[38;5;124;03m    \"\"\"\u001b[39;00m\n\u001b[1;32m---> 34\u001b[0m     \u001b[38;5;28;01mreturn\u001b[39;00m \u001b[38;5;28;43mself\u001b[39;49m\u001b[43m(\u001b[49m\u001b[38;5;241;43m*\u001b[39;49m\u001b[43msequences\u001b[49m\u001b[43m)\u001b[49m\n",
      "File \u001b[1;32m~\\AppData\\Local\\Programs\\Python\\Python311\\Lib\\site-packages\\textdistance\\algorithms\\edit_based.py:137\u001b[0m, in \u001b[0;36mLevenshtein.__call__\u001b[1;34m(self, s1, s2)\u001b[0m\n\u001b[0;32m    134\u001b[0m     \u001b[38;5;28;01massert\u001b[39;00m \u001b[38;5;28misinstance\u001b[39m(result, \u001b[38;5;28mint\u001b[39m)\n\u001b[0;32m    135\u001b[0m     \u001b[38;5;28;01mreturn\u001b[39;00m result\n\u001b[1;32m--> 137\u001b[0m \u001b[38;5;28;01mreturn\u001b[39;00m \u001b[38;5;28;43mself\u001b[39;49m\u001b[38;5;241;43m.\u001b[39;49m\u001b[43m_cycled\u001b[49m\u001b[43m(\u001b[49m\u001b[43ms1\u001b[49m\u001b[43m,\u001b[49m\u001b[43m \u001b[49m\u001b[43ms2\u001b[49m\u001b[43m)\u001b[49m\n",
      "File \u001b[1;32m~\\AppData\\Local\\Programs\\Python\\Python311\\Lib\\site-packages\\textdistance\\algorithms\\edit_based.py:126\u001b[0m, in \u001b[0;36mLevenshtein._cycled\u001b[1;34m(self, s1, s2)\u001b[0m\n\u001b[0;32m    124\u001b[0m         dist \u001b[38;5;241m=\u001b[39m \u001b[38;5;28mself\u001b[39m\u001b[38;5;241m.\u001b[39mtest_func(s1[r \u001b[38;5;241m-\u001b[39m \u001b[38;5;241m1\u001b[39m], s2[c \u001b[38;5;241m-\u001b[39m \u001b[38;5;241m1\u001b[39m])\n\u001b[0;32m    125\u001b[0m         edit \u001b[38;5;241m=\u001b[39m prev[c \u001b[38;5;241m-\u001b[39m \u001b[38;5;241m1\u001b[39m] \u001b[38;5;241m+\u001b[39m (\u001b[38;5;129;01mnot\u001b[39;00m dist)\n\u001b[1;32m--> 126\u001b[0m         cur[c] \u001b[38;5;241m=\u001b[39m \u001b[38;5;28mmin\u001b[39m(edit, deletion, insertion)\n\u001b[0;32m    127\u001b[0m \u001b[38;5;28;01mreturn\u001b[39;00m cur[\u001b[38;5;241m-\u001b[39m\u001b[38;5;241m1\u001b[39m]\n",
      "\u001b[1;31mKeyboardInterrupt\u001b[0m: "
     ]
    }
   ],
   "source": [
    "x,y = nb_per_thresholds(corpus_test)"
   ]
  },
  {
   "cell_type": "code",
   "execution_count": 50,
   "id": "34e96dbc",
   "metadata": {},
   "outputs": [
    {
     "data": {
      "image/png": "[encoded data removed]",
      "text/plain": [
       "<Figure size 640x480 with 1 Axes>"
      ]
     },
     "metadata": {},
     "output_type": "display_data"
    }
   ],
   "source": [
    "import matplotlib.pyplot as plt\n",
    "\n",
    "fig = plt.figure()\n",
    "with plt.style.context('Solarize_Light2'):\n",
    "    plt.plot(x, y)\n",
    "    plt.xlabel('Number of remaining post')\n",
    "    plt.ylabel('Levenshtein thresholds')"
   ]
  }
 ],
 "metadata": {
  "kernelspec": {
   "display_name": "Python 3 (ipykernel)",
   "language": "python",
   "name": "python3"
  },
  "language_info": {
   "codemirror_mode": {
    "name": "ipython",
    "version": 3
   },
   "file_extension": ".py",
   "mimetype": "text/x-python",
   "name": "python",
   "nbconvert_exporter": "python",
   "pygments_lexer": "ipython3",
   "version": "3.11.2"
  }
 },
 "nbformat": 4,
 "nbformat_minor": 5
}
