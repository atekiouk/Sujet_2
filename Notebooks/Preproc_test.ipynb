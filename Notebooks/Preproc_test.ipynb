{
 "cells": [
  {
   "cell_type": "markdown",
   "id": "22f239d8",
   "metadata": {},
   "source": [
    "# Hashtags dans le corpus Sephora"
   ]
  },
  {
   "cell_type": "code",
   "execution_count": 27,
   "id": "c6b7bb1e",
   "metadata": {},
   "outputs": [],
   "source": [
    "import numpy as np\n",
    "import spacy\n",
    "\n",
    "nlp = spacy.load(\"en_core_web_sm\")"
   ]
  },
  {
   "cell_type": "code",
   "execution_count": 28,
   "id": "26456e2d",
   "metadata": {},
   "outputs": [],
   "source": [
    "import spacy \n",
    "from spacy.vocab import Vocab\n",
    "from spacy.language import Language\n",
    "from spacy.tokens import Token\n",
    "\n",
    "\n",
    "@Language.component(\"hashtag\")\n",
    "def hashtag_pipe(doc):\n",
    "    merged_hashtag = False\n",
    "    while True:\n",
    "        for token in doc:\n",
    "            if token.text == '#':\n",
    "                if token.head is not None:\n",
    "                    start_index = token.i\n",
    "                    end_index = start_index + 1\n",
    "                    with doc.retokenize() as retokenizer:\n",
    "                        retokenizer.merge(doc[start_index:end_index+1])\n",
    "                        merged_hashtag = True\n",
    "                        break\n",
    "        if not merged_hashtag:\n",
    "            break\n",
    "        merged_hashtag = False\n",
    "    return doc\n"
   ]
  },
  {
   "cell_type": "code",
   "execution_count": 29,
   "id": "b88821c8",
   "metadata": {},
   "outputs": [],
   "source": [
    "nlp.add_pipe(\"hashtag\", first=True)\n",
    "hashtag_getter = lambda token: token.text[0] in (\"#\")\n",
    "Token.set_extension(\"is_hashtag\", getter=hashtag_getter, force=True)"
   ]
  },
  {
   "cell_type": "code",
   "execution_count": 164,
   "id": "77f1dfa2",
   "metadata": {},
   "outputs": [],
   "source": [
    "def extract_hashtags(text, index_vector, top):\n",
    "    hashtag = []\n",
    "    for i in index_vector:\n",
    "        doc = nlp(text[i])\n",
    "        for token in doc:\n",
    "            if token._.is_hashtag:\n",
    "                hashtag.append(token.text)\n",
    "    Hashtag_corpus = pd.DataFrame()\n",
    "    Hashtag_corpus['hashtag'] = hashtag\n",
    "    Hashtag_corpus2 = Hashtag_corpus.groupby(\"hashtag\").size()\n",
    "    print(Hashtag_corpus2.nlargest(15).tail(top))"
   ]
  },
  {
   "cell_type": "code",
   "execution_count": 162,
   "id": "e19be8d3",
   "metadata": {
    "collapsed": true
   },
   "outputs": [
    {
     "name": "stderr",
     "output_type": "stream",
     "text": [
      "C:\\Users\\a.tekiouk\\AppData\\Local\\Temp\\ipykernel_40540\\3058205479.py:2: FutureWarning: The error_bad_lines argument has been deprecated and will be removed in a future version. Use on_bad_lines in the future.\n",
      "\n",
      "\n",
      "  corpus_sephora3k = pd.read_csv(\"C:/Users/a.tekiouk/Sujet_2/Sujet_2/DATA/corpus_sephora3k.csv\",sep=\";\", error_bad_lines=False)\n"
     ]
    }
   ],
   "source": [
    "import pandas as pd\n",
    "corpus_sephora3k = pd.read_csv(\"C:/Users/a.tekiouk/Sujet_2/Sujet_2/DATA/corpus_sephora3k.csv\",sep=\";\", error_bad_lines=False)\n",
    "text = corpus_sephora3k[corpus_sephora3k['language'] == 'en']['text'].tolist()\n",
    "publication_time = corpus_sephora3k[corpus_sephora3k['language'] == 'en']['publication_time'].tolist()"
   ]
  },
  {
   "cell_type": "code",
   "execution_count": 145,
   "id": "91e7195b",
   "metadata": {},
   "outputs": [],
   "source": [
    "import random"
   ]
  },
  {
   "cell_type": "code",
   "execution_count": 169,
   "id": "6b6fb59e",
   "metadata": {
    "scrolled": true
   },
   "outputs": [
    {
     "name": "stdout",
     "output_type": "stream",
     "text": [
      "hashtag\n",
      "#sephora                  76\n",
      "#makeup                   41\n",
      "#makeupartist             22\n",
      "#beauty                   19\n",
      "#makeuplover              18\n",
      "#hudabeauty               17\n",
      "#makeuptutorial           17\n",
      "#anastasiabeverlyhills    15\n",
      "#maccosmetics             15\n",
      "#makeupaddict             15\n",
      "#mua                      13\n",
      "#fentybeauty              12\n",
      "#nars                     11\n",
      "#ulta                     11\n",
      "#maybelline               10\n",
      "dtype: int64\n"
     ]
    }
   ],
   "source": [
    "extract_hashtags(text, np.random.randint(1992, size=100), 20)"
   ]
  },
  {
   "cell_type": "code",
   "execution_count": null,
   "id": "bf45690e",
   "metadata": {},
   "outputs": [],
   "source": [
    "#sephora\n",
    "#hudabeauty\n",
    "#maccosmetics\n",
    "#anastasiabeverlyhills"
   ]
  },
  {
   "cell_type": "markdown",
   "id": "aee2d9a9",
   "metadata": {},
   "source": [
    "## Corpus de texte avec des hashtags relatif à Sephora"
   ]
  },
  {
   "cell_type": "code",
   "execution_count": 193,
   "id": "b9b65a4e",
   "metadata": {},
   "outputs": [
    {
     "name": "stderr",
     "output_type": "stream",
     "text": [
      "C:\\Users\\a.tekiouk\\AppData\\Local\\Temp\\ipykernel_40540\\2582156150.py:1: FutureWarning: The error_bad_lines argument has been deprecated and will be removed in a future version. Use on_bad_lines in the future.\n",
      "\n",
      "\n",
      "  sephora1k = pd.read_csv(\"C:/Users/a.tekiouk/Sujet_2/Sujet_2/DATA/sephora_1k.csv\",sep=\";\", error_bad_lines=False)\n"
     ]
    },
    {
     "data": {
      "text/plain": [
       "735"
      ]
     },
     "execution_count": 193,
     "metadata": {},
     "output_type": "execute_result"
    }
   ],
   "source": [
    "sephora1k = pd.read_csv(\"C:/Users/a.tekiouk/Sujet_2/Sujet_2/DATA/sephora_1k.csv\",sep=\";\", error_bad_lines=False)\n",
    "sephora = sephora1k[sephora1k['language'] == 'en']['text'].tolist()\n",
    "len(sephora)"
   ]
  },
  {
   "cell_type": "code",
   "execution_count": 194,
   "id": "babe5433",
   "metadata": {},
   "outputs": [
    {
     "name": "stderr",
     "output_type": "stream",
     "text": [
      "C:\\Users\\a.tekiouk\\AppData\\Local\\Temp\\ipykernel_40540\\3760129671.py:1: FutureWarning: The error_bad_lines argument has been deprecated and will be removed in a future version. Use on_bad_lines in the future.\n",
      "\n",
      "\n",
      "  hudabeauty1k = pd.read_csv(\"C:/Users/a.tekiouk/Sujet_2/Sujet_2/DATA/hudabeauty_1k.csv\",sep=\";\", error_bad_lines=False)\n"
     ]
    },
    {
     "data": {
      "text/plain": [
       "809"
      ]
     },
     "execution_count": 194,
     "metadata": {},
     "output_type": "execute_result"
    }
   ],
   "source": [
    "hudabeauty1k = pd.read_csv(\"C:/Users/a.tekiouk/Sujet_2/Sujet_2/DATA/hudabeauty_1k.csv\",sep=\";\", error_bad_lines=False)\n",
    "hudabeauty = hudabeauty1k[hudabeauty1k['language'] == 'en']['text'].tolist()\n",
    "len(hudabeauty)"
   ]
  },
  {
   "cell_type": "code",
   "execution_count": 195,
   "id": "a2a653fa",
   "metadata": {},
   "outputs": [
    {
     "name": "stderr",
     "output_type": "stream",
     "text": [
      "C:\\Users\\a.tekiouk\\AppData\\Local\\Temp\\ipykernel_40540\\1200463668.py:1: FutureWarning: The error_bad_lines argument has been deprecated and will be removed in a future version. Use on_bad_lines in the future.\n",
      "\n",
      "\n",
      "  maccosmetics1k = pd.read_csv(\"C:/Users/a.tekiouk/Sujet_2/Sujet_2/DATA/maccosmetics_1k.csv\",sep=\";\", error_bad_lines=False)\n"
     ]
    },
    {
     "data": {
      "text/plain": [
       "728"
      ]
     },
     "execution_count": 195,
     "metadata": {},
     "output_type": "execute_result"
    }
   ],
   "source": [
    "maccosmetics1k = pd.read_csv(\"C:/Users/a.tekiouk/Sujet_2/Sujet_2/DATA/maccosmetics_1k.csv\",sep=\";\", error_bad_lines=False)\n",
    "maccosmetics = maccosmetics1k[maccosmetics1k['language'] == 'en']['text'].tolist()\n",
    "len(maccosmetics)"
   ]
  },
  {
   "cell_type": "code",
   "execution_count": 196,
   "id": "07b85a5d",
   "metadata": {},
   "outputs": [
    {
     "name": "stderr",
     "output_type": "stream",
     "text": [
      "C:\\Users\\a.tekiouk\\AppData\\Local\\Temp\\ipykernel_40540\\2590017254.py:1: FutureWarning: The error_bad_lines argument has been deprecated and will be removed in a future version. Use on_bad_lines in the future.\n",
      "\n",
      "\n",
      "  anastasiabeverlyhills1k = pd.read_csv(\"C:/Users/a.tekiouk/Sujet_2/Sujet_2/DATA/anastasiabeverlyhills_1k.csv\",sep=\";\", error_bad_lines=False)\n"
     ]
    },
    {
     "data": {
      "text/plain": [
       "857"
      ]
     },
     "execution_count": 196,
     "metadata": {},
     "output_type": "execute_result"
    }
   ],
   "source": [
    "anastasiabeverlyhills1k = pd.read_csv(\"C:/Users/a.tekiouk/Sujet_2/Sujet_2/DATA/anastasiabeverlyhills_1k.csv\",sep=\";\", error_bad_lines=False)\n",
    "anastasiabeverlyhills = anastasiabeverlyhills1k[anastasiabeverlyhills1k['language'] == 'en']['text'].tolist()\n",
    "len(anastasiabeverlyhills)"
   ]
  },
  {
   "cell_type": "code",
   "execution_count": 202,
   "id": "4b340aaf",
   "metadata": {},
   "outputs": [
    {
     "data": {
      "text/plain": [
       "3129"
      ]
     },
     "execution_count": 202,
     "metadata": {},
     "output_type": "execute_result"
    }
   ],
   "source": [
    "new_txt = sephora+hudabeauty+maccosmetics+anastasiabeverlyhills\n",
    "len(new_txt)"
   ]
  },
  {
   "cell_type": "code",
   "execution_count": 210,
   "id": "8dc6caf6",
   "metadata": {},
   "outputs": [],
   "source": [
    "import re\n",
    "def clean_hashtag(t): #--text\n",
    "    hashtag_pattern= re.compile(\"#[A-Za-z0-9_]+\")\n",
    "    return re.sub(hashtag_pattern,\"\", t) #On supprime tout les types de #\n",
    "\n",
    "\n",
    "\n",
    "def del_double(txt,s): # --text --liste des date et heure de publication pour chaque élément de la liste --seuil (s dans [0;1] ou [0;100] selon la méthode) --méthode\n",
    "    t = txt.copy()\n",
    "    distance = textdistance.levenshtein.normalized_distance #initialisiation de levenshtein avec la distance normalisée.\n",
    "    i = 0\n",
    "    r = len(t)\n",
    "    while(i<r):\n",
    "        r = len(t)\n",
    "        j=i+1\n",
    "        while(j<r):\n",
    "            if(distance(clean_hashtag(t[i]).strip(),clean_hashtag(t[j]).strip()) <= s ): # Si la distance entre les deux élemens de la liste inf à seuil\n",
    "                del t[j] #delete\n",
    "                r = len(t) #on actualise la taille de la listes\n",
    "            else:\n",
    "                j+=1\n",
    "        i+=1\n",
    "    return t"
   ]
  },
  {
   "cell_type": "code",
   "execution_count": 214,
   "id": "7841e35d",
   "metadata": {},
   "outputs": [
    {
     "ename": "KeyboardInterrupt",
     "evalue": "",
     "output_type": "error",
     "traceback": [
      "\u001b[1;31m---------------------------------------------------------------------------\u001b[0m",
      "\u001b[1;31mKeyboardInterrupt\u001b[0m                         Traceback (most recent call last)",
      "Cell \u001b[1;32mIn[214], line 2\u001b[0m\n\u001b[0;32m      1\u001b[0m \u001b[38;5;28;01mimport\u001b[39;00m \u001b[38;5;21;01mtextdistance\u001b[39;00m\n\u001b[1;32m----> 2\u001b[0m new_txt_dd \u001b[38;5;241m=\u001b[39m \u001b[43mdel_double\u001b[49m\u001b[43m(\u001b[49m\u001b[43mrandom\u001b[49m\u001b[38;5;241;43m.\u001b[39;49m\u001b[43mchoices\u001b[49m\u001b[43m(\u001b[49m\u001b[43mnew_txt\u001b[49m\u001b[43m,\u001b[49m\u001b[43m \u001b[49m\u001b[43mk\u001b[49m\u001b[38;5;241;43m=\u001b[39;49m\u001b[38;5;241;43m500\u001b[39;49m\u001b[43m)\u001b[49m\u001b[43m,\u001b[49m\u001b[38;5;241;43m0.5\u001b[39;49m\u001b[43m)\u001b[49m\n",
      "Cell \u001b[1;32mIn[210], line 17\u001b[0m, in \u001b[0;36mdel_double\u001b[1;34m(txt, s)\u001b[0m\n\u001b[0;32m     15\u001b[0m j\u001b[38;5;241m=\u001b[39mi\u001b[38;5;241m+\u001b[39m\u001b[38;5;241m1\u001b[39m\n\u001b[0;32m     16\u001b[0m \u001b[38;5;28;01mwhile\u001b[39;00m(j\u001b[38;5;241m<\u001b[39mr):\n\u001b[1;32m---> 17\u001b[0m     \u001b[38;5;28;01mif\u001b[39;00m(\u001b[43mdistance\u001b[49m\u001b[43m(\u001b[49m\u001b[43mclean_hashtag\u001b[49m\u001b[43m(\u001b[49m\u001b[43mt\u001b[49m\u001b[43m[\u001b[49m\u001b[43mi\u001b[49m\u001b[43m]\u001b[49m\u001b[43m)\u001b[49m\u001b[38;5;241;43m.\u001b[39;49m\u001b[43mstrip\u001b[49m\u001b[43m(\u001b[49m\u001b[43m)\u001b[49m\u001b[43m,\u001b[49m\u001b[43mclean_hashtag\u001b[49m\u001b[43m(\u001b[49m\u001b[43mt\u001b[49m\u001b[43m[\u001b[49m\u001b[43mj\u001b[49m\u001b[43m]\u001b[49m\u001b[43m)\u001b[49m\u001b[38;5;241;43m.\u001b[39;49m\u001b[43mstrip\u001b[49m\u001b[43m(\u001b[49m\u001b[43m)\u001b[49m\u001b[43m)\u001b[49m \u001b[38;5;241m<\u001b[39m\u001b[38;5;241m=\u001b[39m s ): \u001b[38;5;66;03m# Si la distance entre les deux élemens de la liste inf à seuil\u001b[39;00m\n\u001b[0;32m     18\u001b[0m         \u001b[38;5;28;01mdel\u001b[39;00m t[j] \u001b[38;5;66;03m#delete\u001b[39;00m\n\u001b[0;32m     19\u001b[0m         r \u001b[38;5;241m=\u001b[39m \u001b[38;5;28mlen\u001b[39m(t) \u001b[38;5;66;03m#on actualise la taille de la listes\u001b[39;00m\n",
      "File \u001b[1;32m~\\AppData\\Local\\Programs\\Python\\Python311\\Lib\\site-packages\\textdistance\\algorithms\\base.py:49\u001b[0m, in \u001b[0;36mBase.normalized_distance\u001b[1;34m(self, *sequences)\u001b[0m\n\u001b[0;32m     47\u001b[0m \u001b[38;5;28;01mif\u001b[39;00m maximum \u001b[38;5;241m==\u001b[39m \u001b[38;5;241m0\u001b[39m:\n\u001b[0;32m     48\u001b[0m     \u001b[38;5;28;01mreturn\u001b[39;00m \u001b[38;5;241m0\u001b[39m\n\u001b[1;32m---> 49\u001b[0m \u001b[38;5;28;01mreturn\u001b[39;00m \u001b[38;5;28;43mself\u001b[39;49m\u001b[38;5;241;43m.\u001b[39;49m\u001b[43mdistance\u001b[49m\u001b[43m(\u001b[49m\u001b[38;5;241;43m*\u001b[39;49m\u001b[43msequences\u001b[49m\u001b[43m)\u001b[49m \u001b[38;5;241m/\u001b[39m maximum\n",
      "File \u001b[1;32m~\\AppData\\Local\\Programs\\Python\\Python311\\Lib\\site-packages\\textdistance\\algorithms\\base.py:34\u001b[0m, in \u001b[0;36mBase.distance\u001b[1;34m(self, *sequences)\u001b[0m\n\u001b[0;32m     31\u001b[0m \u001b[38;5;28;01mdef\u001b[39;00m \u001b[38;5;21mdistance\u001b[39m(\u001b[38;5;28mself\u001b[39m, \u001b[38;5;241m*\u001b[39msequences: Sequence[\u001b[38;5;28mobject\u001b[39m]) \u001b[38;5;241m-\u001b[39m\u001b[38;5;241m>\u001b[39m \u001b[38;5;28mfloat\u001b[39m:\n\u001b[0;32m     32\u001b[0m \u001b[38;5;250m    \u001b[39m\u001b[38;5;124;03m\"\"\"Get distance between sequences\u001b[39;00m\n\u001b[0;32m     33\u001b[0m \u001b[38;5;124;03m    \"\"\"\u001b[39;00m\n\u001b[1;32m---> 34\u001b[0m     \u001b[38;5;28;01mreturn\u001b[39;00m \u001b[38;5;28;43mself\u001b[39;49m\u001b[43m(\u001b[49m\u001b[38;5;241;43m*\u001b[39;49m\u001b[43msequences\u001b[49m\u001b[43m)\u001b[49m\n",
      "File \u001b[1;32m~\\AppData\\Local\\Programs\\Python\\Python311\\Lib\\site-packages\\textdistance\\algorithms\\edit_based.py:137\u001b[0m, in \u001b[0;36mLevenshtein.__call__\u001b[1;34m(self, s1, s2)\u001b[0m\n\u001b[0;32m    134\u001b[0m     \u001b[38;5;28;01massert\u001b[39;00m \u001b[38;5;28misinstance\u001b[39m(result, \u001b[38;5;28mint\u001b[39m)\n\u001b[0;32m    135\u001b[0m     \u001b[38;5;28;01mreturn\u001b[39;00m result\n\u001b[1;32m--> 137\u001b[0m \u001b[38;5;28;01mreturn\u001b[39;00m \u001b[38;5;28;43mself\u001b[39;49m\u001b[38;5;241;43m.\u001b[39;49m\u001b[43m_cycled\u001b[49m\u001b[43m(\u001b[49m\u001b[43ms1\u001b[49m\u001b[43m,\u001b[49m\u001b[43m \u001b[49m\u001b[43ms2\u001b[49m\u001b[43m)\u001b[49m\n",
      "File \u001b[1;32m~\\AppData\\Local\\Programs\\Python\\Python311\\Lib\\site-packages\\textdistance\\algorithms\\edit_based.py:124\u001b[0m, in \u001b[0;36mLevenshtein._cycled\u001b[1;34m(self, s1, s2)\u001b[0m\n\u001b[0;32m    122\u001b[0m deletion \u001b[38;5;241m=\u001b[39m prev[c] \u001b[38;5;241m+\u001b[39m \u001b[38;5;241m1\u001b[39m\n\u001b[0;32m    123\u001b[0m insertion \u001b[38;5;241m=\u001b[39m cur[c \u001b[38;5;241m-\u001b[39m \u001b[38;5;241m1\u001b[39m] \u001b[38;5;241m+\u001b[39m \u001b[38;5;241m1\u001b[39m\n\u001b[1;32m--> 124\u001b[0m dist \u001b[38;5;241m=\u001b[39m \u001b[38;5;28;43mself\u001b[39;49m\u001b[38;5;241;43m.\u001b[39;49m\u001b[43mtest_func\u001b[49m\u001b[43m(\u001b[49m\u001b[43ms1\u001b[49m\u001b[43m[\u001b[49m\u001b[43mr\u001b[49m\u001b[43m \u001b[49m\u001b[38;5;241;43m-\u001b[39;49m\u001b[43m \u001b[49m\u001b[38;5;241;43m1\u001b[39;49m\u001b[43m]\u001b[49m\u001b[43m,\u001b[49m\u001b[43m \u001b[49m\u001b[43ms2\u001b[49m\u001b[43m[\u001b[49m\u001b[43mc\u001b[49m\u001b[43m \u001b[49m\u001b[38;5;241;43m-\u001b[39;49m\u001b[43m \u001b[49m\u001b[38;5;241;43m1\u001b[39;49m\u001b[43m]\u001b[49m\u001b[43m)\u001b[49m\n\u001b[0;32m    125\u001b[0m edit \u001b[38;5;241m=\u001b[39m prev[c \u001b[38;5;241m-\u001b[39m \u001b[38;5;241m1\u001b[39m] \u001b[38;5;241m+\u001b[39m (\u001b[38;5;129;01mnot\u001b[39;00m dist)\n\u001b[0;32m    126\u001b[0m cur[c] \u001b[38;5;241m=\u001b[39m \u001b[38;5;28mmin\u001b[39m(edit, deletion, insertion)\n",
      "File \u001b[1;32m~\\AppData\\Local\\Programs\\Python\\Python311\\Lib\\site-packages\\textdistance\\algorithms\\base.py:108\u001b[0m, in \u001b[0;36mBase._ident\u001b[1;34m(*elements)\u001b[0m\n\u001b[0;32m    104\u001b[0m \u001b[38;5;250m\u001b[39m\u001b[38;5;124;03m\"\"\"Return True if all sequences are equal.\u001b[39;00m\n\u001b[0;32m    105\u001b[0m \u001b[38;5;124;03m\"\"\"\u001b[39;00m\n\u001b[0;32m    106\u001b[0m \u001b[38;5;28;01mtry\u001b[39;00m:\n\u001b[0;32m    107\u001b[0m     \u001b[38;5;66;03m# for hashable elements\u001b[39;00m\n\u001b[1;32m--> 108\u001b[0m     \u001b[38;5;28;01mreturn\u001b[39;00m \u001b[38;5;28mlen\u001b[39m(\u001b[38;5;28mset\u001b[39m(elements)) \u001b[38;5;241m==\u001b[39m \u001b[38;5;241m1\u001b[39m\n\u001b[0;32m    109\u001b[0m \u001b[38;5;28;01mexcept\u001b[39;00m \u001b[38;5;167;01mTypeError\u001b[39;00m:\n\u001b[0;32m    110\u001b[0m     \u001b[38;5;66;03m# for unhashable elements\u001b[39;00m\n\u001b[0;32m    111\u001b[0m     \u001b[38;5;28;01mfor\u001b[39;00m e1, e2 \u001b[38;5;129;01min\u001b[39;00m \u001b[38;5;28mzip\u001b[39m(elements, elements[\u001b[38;5;241m1\u001b[39m:]):\n",
      "\u001b[1;31mKeyboardInterrupt\u001b[0m: "
     ]
    }
   ],
   "source": [
    "import textdistance\n",
    "new_txt_dd = del_double(random.choices(new_txt, k=500),0.5)"
   ]
  },
  {
   "cell_type": "code",
   "execution_count": null,
   "id": "b79a0e86",
   "metadata": {},
   "outputs": [],
   "source": [
    "pd.DataFrame(new_txt_dd).to_csv( \"C:/Users/a.tekiouk/Sujet_2/Sujet_2/DATA/new_txt_dd.csv\" ,encoding='utf-8')  "
   ]
  }
 ],
 "metadata": {
  "kernelspec": {
   "display_name": "Python 3 (ipykernel)",
   "language": "python",
   "name": "python3"
  },
  "language_info": {
   "codemirror_mode": {
    "name": "ipython",
    "version": 3
   },
   "file_extension": ".py",
   "mimetype": "text/x-python",
   "name": "python",
   "nbconvert_exporter": "python",
   "pygments_lexer": "ipython3",
   "version": "3.11.2"
  }
 },
 "nbformat": 4,
 "nbformat_minor": 5
}
