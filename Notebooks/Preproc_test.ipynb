{
 "cells": [
  {
   "cell_type": "markdown",
   "id": "22f239d8",
   "metadata": {},
   "source": [
    "# Hashtags dans le corpus Sephora"
   ]
  },
  {
   "cell_type": "code",
   "execution_count": 2,
   "id": "c6b7bb1e",
   "metadata": {},
   "outputs": [],
   "source": [
    "import numpy as np\n",
    "import spacy\n",
    "\n",
    "nlp = spacy.load(\"en_core_web_sm\")"
   ]
  },
  {
   "cell_type": "code",
   "execution_count": 3,
   "id": "26456e2d",
   "metadata": {},
   "outputs": [],
   "source": [
    "import spacy \n",
    "from spacy.vocab import Vocab\n",
    "from spacy.language import Language\n",
    "from spacy.tokens import Token\n",
    "\n",
    "\n",
    "@Language.component(\"hashtag\")\n",
    "def hashtag_pipe(doc):\n",
    "    merged_hashtag = False\n",
    "    while True:\n",
    "        for token in doc:\n",
    "            if token.text == '#':\n",
    "                if token.head is not None:\n",
    "                    start_index = token.i\n",
    "                    end_index = start_index + 1\n",
    "                    with doc.retokenize() as retokenizer:\n",
    "                        retokenizer.merge(doc[start_index:end_index+1])\n",
    "                        merged_hashtag = True\n",
    "                        break\n",
    "        if not merged_hashtag:\n",
    "            break\n",
    "        merged_hashtag = False\n",
    "    return doc\n"
   ]
  },
  {
   "cell_type": "code",
   "execution_count": 4,
   "id": "b88821c8",
   "metadata": {},
   "outputs": [],
   "source": [
    "nlp.add_pipe(\"hashtag\", first=True)\n",
    "hashtag_getter = lambda token: token.text[0] in (\"#\")\n",
    "Token.set_extension(\"is_hashtag\", getter=hashtag_getter, force=True)"
   ]
  },
  {
   "cell_type": "code",
   "execution_count": 5,
   "id": "77f1dfa2",
   "metadata": {},
   "outputs": [],
   "source": [
    "def extract_hashtags(text, index_vector, top):\n",
    "    hashtag = []\n",
    "    for i in index_vector:\n",
    "        doc = nlp(text[i])\n",
    "        for token in doc:\n",
    "            if token._.is_hashtag:\n",
    "                hashtag.append(token.text)\n",
    "    Hashtag_corpus = pd.DataFrame()\n",
    "    Hashtag_corpus['hashtag'] = hashtag\n",
    "    Hashtag_corpus2 = Hashtag_corpus.groupby(\"hashtag\").size()\n",
    "    print(Hashtag_corpus2.nlargest(15).tail(top))"
   ]
  },
  {
   "cell_type": "code",
   "execution_count": 7,
   "id": "e19be8d3",
   "metadata": {},
   "outputs": [
    {
     "name": "stderr",
     "output_type": "stream",
     "text": [
      "C:\\Users\\a.tekiouk\\AppData\\Local\\Temp\\ipykernel_12740\\3680968864.py:2: FutureWarning: The error_bad_lines argument has been deprecated and will be removed in a future version. Use on_bad_lines in the future.\n",
      "\n",
      "\n",
      "  corpus_sephora3k = pd.read_csv(\"C:/Users/a.tekiouk/Stage/Sujet_2/Sujet_2/DATA/corpus_sephora3k.csv\",sep=\";\", error_bad_lines=False)\n"
     ]
    }
   ],
   "source": [
    "import pandas as pd\n",
    "corpus_sephora3k = pd.read_csv(\"C:/Users/a.tekiouk/Stage/Sujet_2/Sujet_2/DATA/corpus_sephora3k.csv\",sep=\";\", error_bad_lines=False)\n",
    "text = corpus_sephora3k[corpus_sephora3k['language'] == 'en']['text'].tolist()\n",
    "publication_time = corpus_sephora3k[corpus_sephora3k['language'] == 'en']['publication_time'].tolist()"
   ]
  },
  {
   "cell_type": "code",
   "execution_count": 8,
   "id": "91e7195b",
   "metadata": {},
   "outputs": [],
   "source": [
    "import random"
   ]
  },
  {
   "cell_type": "code",
   "execution_count": 9,
   "id": "6b6fb59e",
   "metadata": {
    "scrolled": true
   },
   "outputs": [
    {
     "name": "stdout",
     "output_type": "stream",
     "text": [
      "hashtag\n",
      "#sephora                  79\n",
      "#makeup                   43\n",
      "#makeupartist             29\n",
      "#hudabeauty               17\n",
      "#maccosmetics             17\n",
      "#makeuptutorial           17\n",
      "#anastasiabeverlyhills    16\n",
      "#beauty                   16\n",
      "#makeupaddict             12\n",
      "#makeuplover              12\n",
      "#maybelline               12\n",
      "#toofaced                 12\n",
      "#fentybeauty              11\n",
      "#morphe                   11\n",
      "#mua                      11\n",
      "dtype: int64\n"
     ]
    }
   ],
   "source": [
    "extract_hashtags(text, np.random.randint(1992, size=100), 20)"
   ]
  },
  {
   "cell_type": "code",
   "execution_count": null,
   "id": "bf45690e",
   "metadata": {},
   "outputs": [],
   "source": [
    "#sephora\n",
    "#hudabeauty\n",
    "#maccosmetics\n",
    "#anastasiabeverlyhills"
   ]
  },
  {
   "cell_type": "markdown",
   "id": "aee2d9a9",
   "metadata": {},
   "source": [
    "## Corpus de texte avec des hashtags relatif à Sephora"
   ]
  },
  {
   "cell_type": "code",
   "execution_count": 12,
   "id": "b9b65a4e",
   "metadata": {},
   "outputs": [
    {
     "name": "stderr",
     "output_type": "stream",
     "text": [
      "C:\\Users\\a.tekiouk\\AppData\\Local\\Temp\\ipykernel_12740\\3583801369.py:1: FutureWarning: The error_bad_lines argument has been deprecated and will be removed in a future version. Use on_bad_lines in the future.\n",
      "\n",
      "\n",
      "  sephora1k = pd.read_csv(\"C:/Users/a.tekiouk/Stage/Sujet_2/Sujet_2/DATA/sephora_1k.csv\",sep=\";\", error_bad_lines=False)\n"
     ]
    },
    {
     "data": {
      "text/plain": [
       "735"
      ]
     },
     "execution_count": 12,
     "metadata": {},
     "output_type": "execute_result"
    }
   ],
   "source": [
    "sephora1k = pd.read_csv(\"C:/Users/a.tekiouk/Stage/Sujet_2/Sujet_2/DATA/sephora_1k.csv\",sep=\";\", error_bad_lines=False)\n",
    "sephora = sephora1k[sephora1k['language'] == 'en']['text'].tolist()\n",
    "len(sephora)"
   ]
  },
  {
   "cell_type": "code",
   "execution_count": 14,
   "id": "babe5433",
   "metadata": {},
   "outputs": [
    {
     "name": "stderr",
     "output_type": "stream",
     "text": [
      "C:\\Users\\a.tekiouk\\AppData\\Local\\Temp\\ipykernel_12740\\2439017264.py:1: FutureWarning: The error_bad_lines argument has been deprecated and will be removed in a future version. Use on_bad_lines in the future.\n",
      "\n",
      "\n",
      "  hudabeauty1k = pd.read_csv(\"C:/Users/a.tekiouk/Stage/Sujet_2/Sujet_2/DATA/hudabeauty_1k.csv\",sep=\";\", error_bad_lines=False)\n"
     ]
    },
    {
     "data": {
      "text/plain": [
       "809"
      ]
     },
     "execution_count": 14,
     "metadata": {},
     "output_type": "execute_result"
    }
   ],
   "source": [
    "hudabeauty1k = pd.read_csv(\"C:/Users/a.tekiouk/Stage/Sujet_2/Sujet_2/DATA/hudabeauty_1k.csv\",sep=\";\", error_bad_lines=False)\n",
    "hudabeauty = hudabeauty1k[hudabeauty1k['language'] == 'en']['text'].tolist()\n",
    "len(hudabeauty)"
   ]
  },
  {
   "cell_type": "code",
   "execution_count": 15,
   "id": "a2a653fa",
   "metadata": {},
   "outputs": [
    {
     "name": "stderr",
     "output_type": "stream",
     "text": [
      "C:\\Users\\a.tekiouk\\AppData\\Local\\Temp\\ipykernel_12740\\244973077.py:1: FutureWarning: The error_bad_lines argument has been deprecated and will be removed in a future version. Use on_bad_lines in the future.\n",
      "\n",
      "\n",
      "  maccosmetics1k = pd.read_csv(\"C:/Users/a.tekiouk/Stage/Sujet_2/Sujet_2/DATA/maccosmetics_1k.csv\",sep=\";\", error_bad_lines=False)\n"
     ]
    },
    {
     "data": {
      "text/plain": [
       "728"
      ]
     },
     "execution_count": 15,
     "metadata": {},
     "output_type": "execute_result"
    }
   ],
   "source": [
    "maccosmetics1k = pd.read_csv(\"C:/Users/a.tekiouk/Stage/Sujet_2/Sujet_2/DATA/maccosmetics_1k.csv\",sep=\";\", error_bad_lines=False)\n",
    "maccosmetics = maccosmetics1k[maccosmetics1k['language'] == 'en']['text'].tolist()\n",
    "len(maccosmetics)"
   ]
  },
  {
   "cell_type": "code",
   "execution_count": 16,
   "id": "07b85a5d",
   "metadata": {},
   "outputs": [
    {
     "name": "stderr",
     "output_type": "stream",
     "text": [
      "C:\\Users\\a.tekiouk\\AppData\\Local\\Temp\\ipykernel_12740\\3058069869.py:1: FutureWarning: The error_bad_lines argument has been deprecated and will be removed in a future version. Use on_bad_lines in the future.\n",
      "\n",
      "\n",
      "  anastasiabeverlyhills1k = pd.read_csv(\"C:/Users/a.tekiouk/Stage/Sujet_2/Sujet_2/DATA/anastasiabeverlyhills_1k.csv\",sep=\";\", error_bad_lines=False)\n"
     ]
    },
    {
     "data": {
      "text/plain": [
       "857"
      ]
     },
     "execution_count": 16,
     "metadata": {},
     "output_type": "execute_result"
    }
   ],
   "source": [
    "anastasiabeverlyhills1k = pd.read_csv(\"C:/Users/a.tekiouk/Stage/Sujet_2/Sujet_2/DATA/anastasiabeverlyhills_1k.csv\",sep=\";\", error_bad_lines=False)\n",
    "anastasiabeverlyhills = anastasiabeverlyhills1k[anastasiabeverlyhills1k['language'] == 'en']['text'].tolist()\n",
    "len(anastasiabeverlyhills)"
   ]
  },
  {
   "cell_type": "code",
   "execution_count": 17,
   "id": "4b340aaf",
   "metadata": {},
   "outputs": [
    {
     "data": {
      "text/plain": [
       "3129"
      ]
     },
     "execution_count": 17,
     "metadata": {},
     "output_type": "execute_result"
    }
   ],
   "source": [
    "new_txt = sephora+hudabeauty+maccosmetics+anastasiabeverlyhills\n",
    "len(new_txt)"
   ]
  },
  {
   "cell_type": "code",
   "execution_count": 18,
   "id": "8dc6caf6",
   "metadata": {},
   "outputs": [],
   "source": [
    "import re\n",
    "def clean_hashtag(t): #--text\n",
    "    hashtag_pattern= re.compile(\"#[A-Za-z0-9_]+\")\n",
    "    return re.sub(hashtag_pattern,\"\", t) #On supprime tout les types de #\n",
    "\n",
    "\n",
    "\n",
    "def del_double(txt,s): # --text --liste des date et heure de publication pour chaque élément de la liste --seuil (s dans [0;1] ou [0;100] selon la méthode) --méthode\n",
    "    t = txt.copy()\n",
    "    distance = textdistance.levenshtein.normalized_distance #initialisiation de levenshtein avec la distance normalisée.\n",
    "    i = 0\n",
    "    r = len(t)\n",
    "    while(i<r):\n",
    "        r = len(t)\n",
    "        j=i+1\n",
    "        while(j<r):\n",
    "            if(distance(clean_hashtag(t[i]).strip(),clean_hashtag(t[j]).strip()) <= s ): # Si la distance entre les deux élemens de la liste inf à seuil\n",
    "                del t[j] #delete\n",
    "                r = len(t) #on actualise la taille de la listes\n",
    "            else:\n",
    "                j+=1\n",
    "        i+=1\n",
    "    return t"
   ]
  },
  {
   "cell_type": "code",
   "execution_count": 22,
   "id": "7841e35d",
   "metadata": {},
   "outputs": [],
   "source": [
    "import textdistance\n",
    "new_txt_dd = del_double(random.choices(new_txt, k=100),0.5)"
   ]
  },
  {
   "cell_type": "code",
   "execution_count": 25,
   "id": "0da5771a",
   "metadata": {},
   "outputs": [
    {
     "data": {
      "text/plain": [
       "94"
      ]
     },
     "execution_count": 25,
     "metadata": {},
     "output_type": "execute_result"
    }
   ],
   "source": [
    "len(new_txt_dd)"
   ]
  },
  {
   "cell_type": "code",
   "execution_count": 24,
   "id": "b79a0e86",
   "metadata": {},
   "outputs": [],
   "source": [
    "pd.DataFrame(new_txt_dd).to_csv( \"C:/Users/a.tekiouk/Stage/Sujet_2/Sujet_2/DATA/new_txt_dd.csv\" ,encoding='utf-8')  "
   ]
  }
 ],
 "metadata": {
  "kernelspec": {
   "display_name": "Python 3 (ipykernel)",
   "language": "python",
   "name": "python3"
  },
  "language_info": {
   "codemirror_mode": {
    "name": "ipython",
    "version": 3
   },
   "file_extension": ".py",
   "mimetype": "text/x-python",
   "name": "python",
   "nbconvert_exporter": "python",
   "pygments_lexer": "ipython3",
   "version": "3.11.2"
  }
 },
 "nbformat": 4,
 "nbformat_minor": 5
}
