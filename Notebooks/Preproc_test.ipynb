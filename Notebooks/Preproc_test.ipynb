{
 "cells": [
  {
   "cell_type": "code",
   "execution_count": 104,
   "id": "b5c64a0e",
   "metadata": {},
   "outputs": [],
   "source": [
    "import spacy\n",
    "from spacy.lang.en import English"
   ]
  },
  {
   "cell_type": "code",
   "execution_count": 111,
   "id": "7d08357f",
   "metadata": {},
   "outputs": [],
   "source": [
    "nlp = spacy.load(\"en_core_web_sm\")\n",
    "doc =nlp(\"This is 2 #sentence.\")"
   ]
  },
  {
   "cell_type": "code",
   "execution_count": 112,
   "id": "7acd9051",
   "metadata": {},
   "outputs": [
    {
     "name": "stdout",
     "output_type": "stream",
     "text": [
      "This PRON 0\n",
      "is AUX 1\n",
      "2 NUM 2\n",
      "# NOUN 3\n",
      "sentence NOUN 4\n",
      ". PUNCT 5\n"
     ]
    }
   ],
   "source": [
    "for token in doc:\n",
    "     print(token.text, token.pos_, token.i)"
   ]
  },
  {
   "cell_type": "code",
   "execution_count": 113,
   "id": "4605b232",
   "metadata": {},
   "outputs": [
    {
     "name": "stdout",
     "output_type": "stream",
     "text": [
      "This 0\n",
      "is 1\n",
      "2 2\n",
      "#sentence 3\n",
      ". 4\n"
     ]
    }
   ],
   "source": [
    "doc =nlp(\"This is 2 #sentence.\")\n",
    "with doc.retokenize() as retokenizer:\n",
    "    retokenizer.merge(doc[3:5])\n",
    "for token in doc:\n",
    "    print(token.text, token.i)"
   ]
  },
  {
   "cell_type": "code",
   "execution_count": 94,
   "id": "0ba5a797",
   "metadata": {},
   "outputs": [
    {
     "name": "stdout",
     "output_type": "stream",
     "text": [
      "Hello 0\n",
      "#world 1\n"
     ]
    }
   ],
   "source": [
    "doc = nlp(\"Hello #world\")\n",
    "with doc.retokenize() as retokenizer:\n",
    "    retokenizer.merge(doc[1:3])\n",
    "for token in doc:\n",
    "    print(token.text, token.i)"
   ]
  },
  {
   "cell_type": "code",
   "execution_count": 122,
   "id": "01f47cef",
   "metadata": {},
   "outputs": [
    {
     "ename": "AttributeError",
     "evalue": "'spacy.tokens.token.Token' object has no attribute 'attrs'",
     "output_type": "error",
     "traceback": [
      "\u001b[1;31m---------------------------------------------------------------------------\u001b[0m",
      "\u001b[1;31mAttributeError\u001b[0m                            Traceback (most recent call last)",
      "Cell \u001b[1;32mIn[122], line 6\u001b[0m\n\u001b[0;32m      4\u001b[0m     retokenizer\u001b[38;5;241m.\u001b[39mmerge(doc[\u001b[38;5;241m2\u001b[39m:\u001b[38;5;241m4\u001b[39m], attrs\u001b[38;5;241m=\u001b[39mattrs)\n\u001b[0;32m      5\u001b[0m \u001b[38;5;28;01mfor\u001b[39;00m token \u001b[38;5;129;01min\u001b[39;00m doc:\n\u001b[1;32m----> 6\u001b[0m     \u001b[38;5;28mprint\u001b[39m(token\u001b[38;5;241m.\u001b[39mtext, \u001b[43mtoken\u001b[49m\u001b[38;5;241;43m.\u001b[39;49m\u001b[43mattrs\u001b[49m)\n",
      "\u001b[1;31mAttributeError\u001b[0m: 'spacy.tokens.token.Token' object has no attribute 'attrs'"
     ]
    }
   ],
   "source": [
    "doc = nlp(\"I like David Bowie\")\n",
    "with doc.retokenize() as retokenizer:\n",
    "    attrs = {\"LEMMA\": \"David Bowie\"}\n",
    "    retokenizer.merge(doc[2:4], attrs=attrs)\n",
    "for token in doc:\n",
    "    print(token.text, token.attrs)"
   ]
  },
  {
   "cell_type": "code",
   "execution_count": 150,
   "id": "eed0b839",
   "metadata": {},
   "outputs": [],
   "source": [
    "from spacy.tokens import Token\n",
    "hashtag_getter = lambda token: token.text[0] in (\"#\")\n",
    "Token.set_extension(\"is_hashtag\", getter=hashtag_getter, force=True)\n",
    "\n"
   ]
  },
  {
   "cell_type": "code",
   "execution_count": 151,
   "id": "6541ede8",
   "metadata": {},
   "outputs": [
    {
     "name": "stdout",
     "output_type": "stream",
     "text": [
      "Hello 0\n",
      "#world 1\n"
     ]
    }
   ],
   "source": [
    "doc = nlp(\"Hello #world\")\n",
    "with doc.retokenize() as retokenizer:\n",
    "    retokenizer.merge(doc[1:3])\n",
    "for token in doc:\n",
    "    print(token.text, token.i)"
   ]
  },
  {
   "cell_type": "code",
   "execution_count": 156,
   "id": "856d7538",
   "metadata": {},
   "outputs": [
    {
     "data": {
      "text/plain": [
       "False"
      ]
     },
     "execution_count": 156,
     "metadata": {},
     "output_type": "execute_result"
    }
   ],
   "source": [
    "doc = nlp(\"I have a #dream\")\n",
    "doc[4]._.is_hashtag"
   ]
  },
  {
   "cell_type": "code",
   "execution_count": null,
   "id": "02b2ec1a",
   "metadata": {},
   "outputs": [],
   "source": []
  },
  {
   "cell_type": "code",
   "execution_count": 157,
   "id": "4b1587d2",
   "metadata": {},
   "outputs": [
    {
     "name": "stdout",
     "output_type": "stream",
     "text": [
      "Hello 0\n",
      "#world 1\n"
     ]
    }
   ],
   "source": [
    "doc = nlp(\"Hello #world\")\n",
    "with doc.retokenize() as retokenizer:\n",
    "    retokenizer.merge(doc[1:3])\n",
    "for token in doc:\n",
    "    print(token.text, token.i)\n",
    "\n"
   ]
  },
  {
   "cell_type": "code",
   "execution_count": 158,
   "id": "039e2e0c",
   "metadata": {},
   "outputs": [
    {
     "data": {
      "text/plain": [
       "True"
      ]
     },
     "execution_count": 158,
     "metadata": {},
     "output_type": "execute_result"
    }
   ],
   "source": [
    "doc[1]._.is_hashtag"
   ]
  }
 ],
 "metadata": {
  "kernelspec": {
   "display_name": "Python 3 (ipykernel)",
   "language": "python",
   "name": "python3"
  },
  "language_info": {
   "codemirror_mode": {
    "name": "ipython",
    "version": 3
   },
   "file_extension": ".py",
   "mimetype": "text/x-python",
   "name": "python",
   "nbconvert_exporter": "python",
   "pygments_lexer": "ipython3",
   "version": "3.10.10"
  }
 },
 "nbformat": 4,
 "nbformat_minor": 5
}
