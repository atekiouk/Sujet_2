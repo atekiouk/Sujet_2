{
 "cells": [
  {
   "cell_type": "code",
   "execution_count": 6,
   "id": "6c602a79",
   "metadata": {},
   "outputs": [
    {
     "name": "stderr",
     "output_type": "stream",
     "text": [
      "C:\\Users\\a.tekiouk\\AppData\\Local\\Temp\\ipykernel_37712\\4186925799.py:2: FutureWarning: The error_bad_lines argument has been deprecated and will be removed in a future version. Use on_bad_lines in the future.\n",
      "\n",
      "\n",
      "  chanel_twitt = pd.read_csv(\"C:/Users/a.tekiouk/Sujet_2/Sujet_2/DATA/twitt_chanel.csv\",sep=\";\", error_bad_lines=False)\n"
     ]
    }
   ],
   "source": [
    "import pandas as pd\n",
    "chanel_twitt = pd.read_csv(\"C:/Users/a.tekiouk/Sujet_2/Sujet_2/DATA/twitt_chanel.csv\",sep=\";\", error_bad_lines=False)\n",
    "chanel_t = chanel_twitt[chanel_twitt['language'] == 'en']"
   ]
  },
  {
   "cell_type": "code",
   "execution_count": 9,
   "id": "2c78f740",
   "metadata": {},
   "outputs": [],
   "source": [
    "chanel_t.to_csv(\"C:/Users/a.tekiouk/Sujet_2/Sujet_2/DATA/chanel_t.csv\")"
   ]
  }
 ],
 "metadata": {
  "kernelspec": {
   "display_name": "Python 3 (ipykernel)",
   "language": "python",
   "name": "python3"
  },
  "language_info": {
   "codemirror_mode": {
    "name": "ipython",
    "version": 3
   },
   "file_extension": ".py",
   "mimetype": "text/x-python",
   "name": "python",
   "nbconvert_exporter": "python",
   "pygments_lexer": "ipython3",
   "version": "3.11.2"
  }
 },
 "nbformat": 4,
 "nbformat_minor": 5
}
